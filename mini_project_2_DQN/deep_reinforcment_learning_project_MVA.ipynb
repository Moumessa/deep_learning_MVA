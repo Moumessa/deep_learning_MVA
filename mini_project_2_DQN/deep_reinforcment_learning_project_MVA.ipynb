{
  "nbformat": 4,
  "nbformat_minor": 0,
  "metadata": {
    "kernelspec": {
      "display_name": "Python 3",
      "language": "python",
      "name": "python3"
    },
    "language_info": {
      "codemirror_mode": {
        "name": "ipython",
        "version": 3
      },
      "file_extension": ".py",
      "mimetype": "text/x-python",
      "name": "python",
      "nbconvert_exporter": "python",
      "pygments_lexer": "ipython3",
      "version": "3.5.7"
    },
    "colab": {
      "name": "deep_reinforcment_learning_project_MVA.ipynb",
      "provenance": [],
      "collapsed_sections": []
    }
  },
  "cells": [
    {
      "cell_type": "markdown",
      "metadata": {
        "id": "IOO8ANWa5VKx",
        "colab_type": "text"
      },
      "source": [
        "**You may need to install [OpenCV](https://pypi.python.org/pypi/opencv-python) and [scikit-video](http://www.scikit-video.org/stable/).**"
      ]
    },
    {
      "cell_type": "code",
      "metadata": {
        "id": "RN4ywgen5iZ_",
        "colab_type": "code",
        "outputId": "7cd60735-88e2-4aa4-e8d8-8284791ab207",
        "colab": {
          "base_uri": "https://localhost:8080/",
          "height": 85
        }
      },
      "source": [
        "!pip install scikit-video"
      ],
      "execution_count": 1,
      "outputs": [
        {
          "output_type": "stream",
          "text": [
            "Requirement already satisfied: scikit-video in /usr/local/lib/python3.6/dist-packages (1.1.11)\n",
            "Requirement already satisfied: scipy in /usr/local/lib/python3.6/dist-packages (from scikit-video) (1.4.1)\n",
            "Requirement already satisfied: numpy in /usr/local/lib/python3.6/dist-packages (from scikit-video) (1.17.5)\n",
            "Requirement already satisfied: pillow in /usr/local/lib/python3.6/dist-packages (from scikit-video) (6.2.2)\n"
          ],
          "name": "stdout"
        }
      ]
    },
    {
      "cell_type": "code",
      "metadata": {
        "id": "cvmgHsrJ2fmh",
        "colab_type": "code",
        "colab": {}
      },
      "source": [
        "#!pip install -U tensorflow\n",
        "#!pip install -U keras"
      ],
      "execution_count": 0,
      "outputs": []
    },
    {
      "cell_type": "code",
      "metadata": {
        "id": "bppb0poB5VKz",
        "colab_type": "code",
        "colab": {
          "base_uri": "https://localhost:8080/",
          "height": 34
        },
        "outputId": "cd9b9416-ce91-447b-910d-85298884d11c"
      },
      "source": [
        "import tensorflow as tf\n",
        "import keras\n",
        "import numpy as np\n",
        "import io\n",
        "import base64\n",
        "from IPython.display import HTML\n",
        "import skvideo.io\n",
        "import cv2\n",
        "import json\n",
        "\n",
        "from keras.models import Sequential,model_from_json\n",
        "from keras.layers.core import Dense\n",
        "from keras.optimizers import sgd\n",
        "from keras.layers import Conv2D, MaxPooling2D, Activation, AveragePooling2D,Reshape,BatchNormalization, Flatten, Dropout"
      ],
      "execution_count": 3,
      "outputs": [
        {
          "output_type": "stream",
          "text": [
            "Using TensorFlow backend.\n"
          ],
          "name": "stderr"
        }
      ]
    },
    {
      "cell_type": "markdown",
      "metadata": {
        "id": "DESaSMhq5VK6",
        "colab_type": "text"
      },
      "source": [
        "# MiniProject on Deep Reinforcement Learning"
      ]
    },
    {
      "cell_type": "markdown",
      "metadata": {
        "id": "5uaq9uPi5VK8",
        "colab_type": "text"
      },
      "source": [
        "__Notations__: $E_p$ is the expectation under probability $p$. Please justify each of your answer and widely comment your code."
      ]
    },
    {
      "cell_type": "markdown",
      "metadata": {
        "id": "6PdI98qh5VK9",
        "colab_type": "text"
      },
      "source": [
        "# Context"
      ]
    },
    {
      "cell_type": "markdown",
      "metadata": {
        "id": "uJvvbdPB5VK_",
        "colab_type": "text"
      },
      "source": [
        "In a reinforcement learning algorithm, we modelize each step $t$ as an action $a_t$ obtained from a state $s_t$, i.e. $\\{(a_{t},s_{t})_{t\\leq T}\\}$ having the Markov property. We consider a discount factor $\\gamma \\in [0,1]$ that ensures convergence. The goal is to find among all the policies $\\pi$, one that maximizes the expected reward:\n",
        "\n",
        "\\begin{equation*}\n",
        "R(\\pi)=\\sum_{t\\leq T}E_{p^{\\pi}}[\\gamma^t r(s_{t},a_{t})] \\> ,\n",
        "\\end{equation*}\n",
        "\n",
        "where: \n",
        "\\begin{equation*}p^{\\pi}(a_{0},a_{1},s_{1},...,a_{T},s_{T})=p(a_{0})\\prod_{t=1}^{T}\\pi(a_{t}|s_{t})p(s_{t+1}|s_{t},a_{t}) \\> .\n",
        "\\end{equation*}\n",
        "\n",
        "We note the $Q$-function:\n",
        "\n",
        "\\begin{equation*}Q^\\pi(s,a)=E_{p^{\\pi}}[\\sum_{t\\leq T}\\gamma^{t}r(s_{t},a_{t})|s_{0}=s,a_{0}=a] \\> .\n",
        "\\end{equation*}\n",
        "\n",
        "Thus, the optimal Q function is:\n",
        "\\begin{equation*}\n",
        "Q^*(s,a)=\\max_{\\pi}Q^\\pi(s,a) \\> .\n",
        "\\end{equation*}\n",
        "\n",
        "In this project, we will apply the deep reinforcement learning techniques to a simple game: an agent will have to learn from scratch a policy that will permit it maximizing a reward."
      ]
    },
    {
      "cell_type": "markdown",
      "metadata": {
        "id": "Lx3boNBb5VLB",
        "colab_type": "text"
      },
      "source": [
        "## The environment, the agent and the game"
      ]
    },
    {
      "cell_type": "markdown",
      "metadata": {
        "id": "SGsRdxmR5VLC",
        "colab_type": "text"
      },
      "source": [
        "### The environment"
      ]
    },
    {
      "cell_type": "markdown",
      "metadata": {
        "id": "7V_zEBBk5VLE",
        "colab_type": "text"
      },
      "source": [
        "```Environment``` is an abstract class that represents the states, rewards, and actions to obtain the new state."
      ]
    },
    {
      "cell_type": "code",
      "metadata": {
        "id": "cxqTnI3k5VLF",
        "colab_type": "code",
        "colab": {}
      },
      "source": [
        "class Environment(object):\n",
        "    def __init__(self):\n",
        "        pass\n",
        "\n",
        "    def act(self, act):\n",
        "        \"\"\"\n",
        "        One can act on the environment and obtain its reaction:\n",
        "        - the new state\n",
        "        - the reward of the new state\n",
        "        - should we continue the game?\n",
        "\n",
        "        :return: state, reward, game_over\n",
        "        \"\"\"\n",
        "        pass\n",
        "\n",
        "\n",
        "    def reset(self):\n",
        "        \"\"\"\n",
        "        Reinitialize the environment to a random state and returns\n",
        "        the original state\n",
        "\n",
        "        :return: state\n",
        "        \"\"\"\n",
        "        pass\n",
        "    \n",
        "    def draw(self):\n",
        "        \"\"\"\n",
        "        Visualize in the console or graphically the current state\n",
        "        \"\"\"\n",
        "        pass"
      ],
      "execution_count": 0,
      "outputs": []
    },
    {
      "cell_type": "markdown",
      "metadata": {
        "id": "Sl0WzHjw5VLL",
        "colab_type": "text"
      },
      "source": [
        "The method ```act``` allows to act on the environment at a given state $s_t$ (stored internally), via action $a_t$. The method will return the new state $s_{t+1}$, the reward $r(s_{t},a_{t})$ and determines if $t\\leq T$ (*game_over*).\n",
        "\n",
        "The method ```reset``` simply reinitializes the environment to a random state $s_0$.\n",
        "\n",
        "The method ```draw``` displays the current state $s_t$ (this is useful to check the behavior of the Agent).\n",
        "\n",
        "We modelize $s_t$ as a tensor, while $a_t$ is an integer."
      ]
    },
    {
      "cell_type": "markdown",
      "metadata": {
        "id": "BXiR2Htr5VLN",
        "colab_type": "text"
      },
      "source": [
        "### The Agent"
      ]
    },
    {
      "cell_type": "markdown",
      "metadata": {
        "id": "zvLmB8qY5VLO",
        "colab_type": "text"
      },
      "source": [
        "The goal of the ```Agent``` is to interact with the ```Environment``` by proposing actions $a_t$ obtained from a given state $s_t$ to attempt to maximize its __reward__ $r(s_t,a_t)$. We propose the following abstract class:"
      ]
    },
    {
      "cell_type": "code",
      "metadata": {
        "id": "Zkd5_aLP5VLQ",
        "colab_type": "code",
        "colab": {}
      },
      "source": [
        "class Agent(object):\n",
        "    def __init__(self, epsilon=0.1, n_action=4):\n",
        "        self.epsilon = epsilon\n",
        "        self.n_action = n_action\n",
        "    \n",
        "    def set_epsilon(self,e):\n",
        "        self.epsilon = e\n",
        "\n",
        "    def act(self,s,train=True):\n",
        "        \"\"\" This function should return the next action to do:\n",
        "        an integer between 0 and 4 (not included) with a random exploration of epsilon\"\"\"\n",
        "        if train:\n",
        "            if np.random.rand() <= self.epsilon:\n",
        "                a = np.random.randint(0, self.n_action, size=1)[0]\n",
        "            else:\n",
        "                a = self.learned_act(s)\n",
        "        else: # in some cases, this can improve the performance.. remove it if poor performances\n",
        "            a = self.learned_act(s)\n",
        "\n",
        "        return a\n",
        "\n",
        "    def learned_act(self,s):\n",
        "        \"\"\" Act via the policy of the agent, from a given state s\n",
        "        it proposes an action a\"\"\"\n",
        "        pass\n",
        "\n",
        "    def reinforce(self, s, n_s, a, r, game_over_):\n",
        "        \"\"\" This function is the core of the learning algorithm. \n",
        "        It takes as an input the current state s_, the next state n_s_\n",
        "        the action a_ used to move from s_ to n_s_ and the reward r_.\n",
        "        \n",
        "        Its goal is to learn a policy.\n",
        "        \"\"\"\n",
        "        pass\n",
        "\n",
        "    def save(self):\n",
        "        \"\"\" This function returns basic stats if applicable: the\n",
        "        loss and/or the model\"\"\"\n",
        "        pass\n",
        "\n",
        "    def load(self):\n",
        "        \"\"\" This function allows to restore a model\"\"\"\n",
        "        pass"
      ],
      "execution_count": 0,
      "outputs": []
    },
    {
      "cell_type": "markdown",
      "metadata": {
        "id": "17t-eGjg5VLX",
        "colab_type": "text"
      },
      "source": [
        "***\n",
        "__Question 1__:\n",
        "Explain the function act. Why is ```epsilon``` essential?"
      ]
    },
    {
      "cell_type": "markdown",
      "metadata": {
        "id": "XVrR4DYX5VLY",
        "colab_type": "text"
      },
      "source": [
        " The function act returns a possible action from the current state s.\n",
        "\n",
        "During the train mode, we first random a seed between 0 and 1. If it is smaller than epsilon, we sample an act uniformly from the four choices; Otherwise, the use a deterministic strategy to choose the best action learnt so far.\n",
        "\n",
        "During the val mode, we choose everytime the best action we learnt without any uncertainty.\n",
        "\n",
        "Epsilon plays a very important role in the function. It is the \"exploration variable\". It sets the ability of the algorithm to explore new actions or to use its knowledge from the past. Therefore, if epsilon is too high, the agent  will not explore new actions and only make already learnt move, and thus will not expand his memory of known moves. if epsilon is too low, the agent will always act randomly and never use his previous knowledge.\n",
        "\n"
      ]
    },
    {
      "cell_type": "markdown",
      "metadata": {
        "id": "7Ut94PoH5VLa",
        "colab_type": "text"
      },
      "source": [
        "***\n",
        "### The Game"
      ]
    },
    {
      "cell_type": "markdown",
      "metadata": {
        "id": "1FZKz9V45VLc",
        "colab_type": "text"
      },
      "source": [
        "The ```Agent``` and the ```Environment``` work in an interlaced way as in the following (take some time to understand this code as it is the core of the project)\n",
        "\n",
        "```python\n",
        "\n",
        "epoch = 300\n",
        "env = Environment()\n",
        "agent = Agent()\n",
        "\n",
        "\n",
        "# Number of won games\n",
        "score = 0\n",
        "loss = 0\n",
        "\n",
        "\n",
        "for e in range(epoch):\n",
        "    # At each epoch, we restart to a fresh game and get the initial state\n",
        "    state = env.reset()\n",
        "    # This assumes that the games will end\n",
        "    game_over = False\n",
        "\n",
        "    win = 0\n",
        "    lose = 0\n",
        "    \n",
        "    while not game_over:\n",
        "        # The agent performs an action\n",
        "        action = agent.act(state)\n",
        "\n",
        "        # Apply an action to the environment, get the next state, the reward\n",
        "        # and if the games end\n",
        "        prev_state = state\n",
        "        state, reward, game_over = env.act(action)\n",
        "\n",
        "        # Update the counters\n",
        "        if reward > 0:\n",
        "            win = win + reward\n",
        "        if reward < 0:\n",
        "            lose = lose -reward\n",
        "\n",
        "        # Apply the reinforcement strategy\n",
        "        loss = agent.reinforce(prev_state, state,  action, reward, game_over)\n",
        "\n",
        "    # Save as a mp4\n",
        "    if e % 10 == 0:\n",
        "        env.draw(e)\n",
        "\n",
        "    # Update stats\n",
        "    score += win-lose\n",
        "\n",
        "    print(\"Epoch {:03d}/{:03d} | Loss {:.4f} | Win/lose count {}/{} ({})\"\n",
        "          .format(e, epoch, loss, win, lose, win-lose))\n",
        "    agent.save()\n",
        "```"
      ]
    },
    {
      "cell_type": "markdown",
      "metadata": {
        "id": "rMNayR-35VLe",
        "colab_type": "text"
      },
      "source": [
        "# The game, *eat cheese*"
      ]
    },
    {
      "cell_type": "markdown",
      "metadata": {
        "id": "3oAOeCVq5VLf",
        "colab_type": "text"
      },
      "source": [
        "A rat runs on an island and tries to eat as much as possible. The island is subdivided into $N\\times N$ cells, in which there are cheese (+0.5) and poisonous cells (-1). The rat has a visibility of 2 cells (thus it can see $5^2$ cells). The rat is given a time $T$ to accumulate as much food as possible. It can perform 4 actions: going up, down, left, right. \n",
        "\n",
        "The goal is to code an agent to solve this task that will learn by trial and error. We propose the following environment:"
      ]
    },
    {
      "cell_type": "code",
      "metadata": {
        "id": "14-GnZH85VLh",
        "colab_type": "code",
        "colab": {}
      },
      "source": [
        "class Environment(object):\n",
        "    def __init__(self, grid_size=10, max_time=500, temperature=0.1):\n",
        "        grid_size = grid_size+4\n",
        "        self.grid_size = grid_size\n",
        "        self.max_time = max_time\n",
        "        self.temperature = temperature\n",
        "\n",
        "        #board on which one plays\n",
        "        self.board = np.zeros((grid_size,grid_size))\n",
        "        self.position = np.zeros((grid_size,grid_size))\n",
        "\n",
        "        # coordinate of the cat\n",
        "        self.x = 0\n",
        "        self.y = 1\n",
        "\n",
        "        # self time\n",
        "        self.t = 0\n",
        "\n",
        "        self.scale=16\n",
        "\n",
        "        self.to_draw = np.zeros((max_time+2, grid_size*self.scale, grid_size*self.scale, 3))\n",
        "\n",
        "\n",
        "    def draw(self,e):\n",
        "        skvideo.io.vwrite(str(e) + '.mp4', self.to_draw)\n",
        "\n",
        "    def get_frame(self,t):\n",
        "        b = np.zeros((self.grid_size,self.grid_size,3))+128\n",
        "        b[self.board>0,0] = 256\n",
        "        b[self.board < 0, 2] = 256\n",
        "        b[self.x,self.y,:]=256\n",
        "        b[-2:,:,:]=0\n",
        "        b[:,-2:,:]=0\n",
        "        b[:2,:,:]=0\n",
        "        b[:,:2,:]=0\n",
        "        \n",
        "        b =  cv2.resize(b, None, fx=self.scale, fy=self.scale, interpolation=cv2.INTER_NEAREST)\n",
        "\n",
        "        self.to_draw[t,:,:,:]=b\n",
        "\n",
        "\n",
        "    def act(self, action):\n",
        "        \"\"\"This function returns the new state, reward and decides if the\n",
        "        game ends.\"\"\"\n",
        "\n",
        "        self.get_frame(int(self.t))\n",
        "\n",
        "        self.position = np.zeros((self.grid_size, self.grid_size))\n",
        "\n",
        "        self.position[0:2,:]= -1\n",
        "        self.position[:,0:2] = -1\n",
        "        self.position[-2:, :] = -1\n",
        "        self.position[-2:, :] = -1\n",
        "\n",
        "        self.position[self.x, self.y] = 1\n",
        "        if action == 0:\n",
        "            if self.x == self.grid_size-3:\n",
        "                self.x = self.x-1\n",
        "            else:\n",
        "                self.x = self.x + 1\n",
        "        elif action == 1:\n",
        "            if self.x == 2:\n",
        "                self.x = self.x+1\n",
        "            else:\n",
        "                self.x = self.x-1\n",
        "        elif action == 2:\n",
        "            if self.y == self.grid_size - 3:\n",
        "                self.y = self.y - 1\n",
        "            else:\n",
        "                self.y = self.y + 1\n",
        "        elif action == 3:\n",
        "            if self.y == 2:\n",
        "                self.y = self.y + 1\n",
        "            else:\n",
        "                self.y = self.y - 1\n",
        "        else:\n",
        "            RuntimeError('Error: action not recognized')\n",
        "\n",
        "        self.t = self.t + 1\n",
        "        reward = self.board[self.x, self.y]\n",
        "        self.board[self.x, self.y] = 0\n",
        "        game_over = self.t > self.max_time\n",
        "        state = np.concatenate((self.board.reshape(self.grid_size, self.grid_size,1),\n",
        "                        self.position.reshape(self.grid_size, self.grid_size,1)),axis=2)\n",
        "        state = state[self.x-2:self.x+3,self.y-2:self.y+3,:]\n",
        "\n",
        "        return state, reward, game_over\n",
        "\n",
        "    def reset(self):\n",
        "        \"\"\"This function resets the game and returns the initial state\"\"\"\n",
        "\n",
        "        self.x = np.random.randint(3, self.grid_size-3, size=1)[0]\n",
        "        self.y = np.random.randint(3, self.grid_size-3, size=1)[0]\n",
        "\n",
        "\n",
        "        bonus = 0.5*np.random.binomial(1,self.temperature,size=self.grid_size**2)\n",
        "        bonus = bonus.reshape(self.grid_size,self.grid_size)\n",
        "\n",
        "        malus = -1.0*np.random.binomial(1,self.temperature,size=self.grid_size**2)\n",
        "        malus = malus.reshape(self.grid_size, self.grid_size)\n",
        "\n",
        "        self.to_draw = np.zeros((self.max_time+2, self.grid_size*self.scale, self.grid_size*self.scale, 3))\n",
        "\n",
        "\n",
        "        malus[bonus>0]=0\n",
        "\n",
        "        self.board = bonus + malus\n",
        "\n",
        "        self.position = np.zeros((self.grid_size, self.grid_size))\n",
        "        self.position[0:2,:]= -1\n",
        "        self.position[:,0:2] = -1\n",
        "        self.position[-2:, :] = -1\n",
        "        self.position[-2:, :] = -1\n",
        "        self.board[self.x,self.y] = 0\n",
        "        self.t = 0\n",
        "\n",
        "        state = np.concatenate((\n",
        "                               self.board.reshape(self.grid_size, self.grid_size,1),\n",
        "                        self.position.reshape(self.grid_size, self.grid_size,1)),axis=2)\n",
        "\n",
        "        state = state[self.x - 2:self.x + 3, self.y - 2:self.y + 3, :]\n",
        "        return state"
      ],
      "execution_count": 0,
      "outputs": []
    },
    {
      "cell_type": "markdown",
      "metadata": {
        "id": "ceyHUSaj5VLm",
        "colab_type": "text"
      },
      "source": [
        "The following elements are important because they correspond to the hyper parameters for this project:"
      ]
    },
    {
      "cell_type": "code",
      "metadata": {
        "id": "0c01-UZa5VLo",
        "colab_type": "code",
        "colab": {}
      },
      "source": [
        "# parameters\n",
        "size = 13\n",
        "T=200\n",
        "temperature=0.3\n",
        "epochs_train=100 # set small when debugging\n",
        "epochs_test=15 # set small when debugging\n",
        "\n",
        "# display videos\n",
        "def display_videos(name):\n",
        "    video = io.open(name, 'r+b').read()\n",
        "    encoded = base64.b64encode(video)\n",
        "    return '''<video alt=\"test\" controls>\n",
        "                <source src=\"data:video/mp4;base64,{0}\" type=\"video/mp4\" />\n",
        "             </video>'''.format(encoded.decode('ascii'))"
      ],
      "execution_count": 0,
      "outputs": []
    },
    {
      "cell_type": "markdown",
      "metadata": {
        "id": "2gzQLZAA5VLu",
        "colab_type": "text"
      },
      "source": [
        "__Question 2__ Explain the use of the arrays ```position``` and ```board```."
      ]
    },
    {
      "cell_type": "markdown",
      "metadata": {
        "id": "stE7uVyB5VLv",
        "colab_type": "text"
      },
      "source": [
        "\n",
        "* **Position array**: is used to represent the rat position and its allowed moves. It is initialized with 0 everywhere. Then we add 2 columns (or lines) in every borders filled with -1, representing places where the rat cannot go. That is why there is a +4 in the grid size, in order to allw some space to these colums/lines.\n",
        "\n",
        "* **Board array**: is used to represent the environment. Its size is also initialized with a +4 to remain coherent with the posiiton array. It contains the rewards 0.5 and -1. Finally, when the rat has explored a cell, it is set to 0."
      ]
    },
    {
      "cell_type": "markdown",
      "metadata": {
        "id": "Bu-3wvoh5VLx",
        "colab_type": "text"
      },
      "source": [
        "## Random Agent"
      ]
    },
    {
      "cell_type": "markdown",
      "metadata": {
        "id": "EF7sKDaU5VLy",
        "colab_type": "text"
      },
      "source": [
        "***\n",
        "__Question 3__ Implement a random Agent (only ```learned_act``` needs to be implemented):"
      ]
    },
    {
      "cell_type": "code",
      "metadata": {
        "id": "17vcd05S5VLz",
        "colab_type": "code",
        "colab": {}
      },
      "source": [
        "class RandomAgent(Agent):\n",
        "    def __init__(self):\n",
        "        super(RandomAgent, self).__init__()\n",
        "        pass\n",
        "\n",
        "    def learned_act(self, s):\n",
        "        return np.random.randint(0, self.n_action, size=1)[0]"
      ],
      "execution_count": 0,
      "outputs": []
    },
    {
      "cell_type": "markdown",
      "metadata": {
        "id": "Y0Oqins05VL4",
        "colab_type": "text"
      },
      "source": [
        "***\n",
        "***\n",
        "__Question 4__ Visualize the game moves. You need to fill in the following function for the evaluation:"
      ]
    },
    {
      "cell_type": "code",
      "metadata": {
        "id": "1GUG3qHE5VL5",
        "colab_type": "code",
        "colab": {}
      },
      "source": [
        "\n",
        "def test(agent, env, epochs, prefix = ''):\n",
        "    # Number of won games\n",
        "    score = 0\n",
        "        \n",
        "    for e in range(epochs):\n",
        "        # Intialize the game, flag and loss\n",
        "        state = env.reset()\n",
        "        game_over = False\n",
        "        win, lose = 0, 0\n",
        "        \n",
        "        while not game_over:\n",
        "            # sample an action\n",
        "            action = agent.act(state, train = False)\n",
        "            # perform an action\n",
        "            prev_state = state\n",
        "            state, reward, game_over = env.act(action)\n",
        "            \n",
        "            # update loss\n",
        "            if reward > 0:\n",
        "                win += reward\n",
        "            if reward < 0:\n",
        "                lose -= reward\n",
        "        \n",
        "        # Save as a mp4\n",
        "        env.draw(prefix + str(e))\n",
        "\n",
        "        # Update stats\n",
        "        score = score + win - lose\n",
        "\n",
        "        print(\"Win/lose count {}/{}. Average score ({})\"\n",
        "              .format(win, lose, score / (1 + e)))\n",
        "        \n",
        "    print('Final score: ' + str(score / epochs))"
      ],
      "execution_count": 0,
      "outputs": []
    },
    {
      "cell_type": "code",
      "metadata": {
        "id": "Pa6ie9p75VMA",
        "colab_type": "code",
        "outputId": "ae60c2f0-1fcd-4906-99be-be22872625ef",
        "colab": {
          "base_uri": "https://localhost:8080/",
          "height": 565
        }
      },
      "source": [
        "# Initialize the game\n",
        "env = Environment(grid_size=size, max_time=T,temperature=temperature)\n",
        "\n",
        "# Initialize the agent!\n",
        "agent = RandomAgent()\n",
        "\n",
        "test(agent,env,epochs_test,prefix='random')\n",
        "HTML(display_videos('random0.mp4'))"
      ],
      "execution_count": 10,
      "outputs": [
        {
          "output_type": "stream",
          "text": [
            "Win/lose count 10.5/9.0. Average score (1.5)\n",
            "Win/lose count 8.0/13.0. Average score (-1.75)\n",
            "Win/lose count 12.5/23.0. Average score (-4.666666666666667)\n",
            "Win/lose count 9.5/11.0. Average score (-3.875)\n",
            "Win/lose count 6.5/21.0. Average score (-6.0)\n",
            "Win/lose count 12.5/23.0. Average score (-6.75)\n",
            "Win/lose count 10.0/16.0. Average score (-6.642857142857143)\n",
            "Win/lose count 9.0/12.0. Average score (-6.1875)\n",
            "Win/lose count 14.0/15.0. Average score (-5.611111111111111)\n",
            "Win/lose count 8.0/9.0. Average score (-5.15)\n",
            "Win/lose count 10.0/11.0. Average score (-4.7727272727272725)\n",
            "Win/lose count 9.5/13.0. Average score (-4.666666666666667)\n",
            "Win/lose count 11.0/12.0. Average score (-4.384615384615385)\n",
            "Win/lose count 8.0/11.0. Average score (-4.285714285714286)\n",
            "Win/lose count 8.5/22.0. Average score (-4.9)\n",
            "Final score: -4.9\n"
          ],
          "name": "stdout"
        },
        {
          "output_type": "execute_result",
          "data": {
            "text/html": [
              "<video alt=\"test\" controls>\n",
              "                <source src=\"data:video/mp4;base64,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\" type=\"video/mp4\" />\n",
              "             </video>"
            ],
            "text/plain": [
              "<IPython.core.display.HTML object>"
            ]
          },
          "metadata": {
            "tags": []
          },
          "execution_count": 10
        }
      ]
    },
    {
      "cell_type": "markdown",
      "metadata": {
        "id": "hcQh21RO5VMF",
        "colab_type": "text"
      },
      "source": [
        "***\n",
        "## DQN"
      ]
    },
    {
      "cell_type": "markdown",
      "metadata": {
        "id": "Q37MQeTo5VMG",
        "colab_type": "text"
      },
      "source": [
        "Let us assume here that $T=\\infty$.\n",
        "\n",
        "***\n",
        "__Question 5__ Let $\\pi$ be a policy, show that:\n",
        "\n",
        "\\begin{equation*}\n",
        "Q^{\\pi}(s,a)=E_{(s',a')\\sim p(.|s,a)}[r(s,a)+\\gamma Q^{\\pi}(s',a')]\n",
        "\\end{equation*}\n",
        "\n",
        "Then, show that for the optimal policy $\\pi^*$ (we assume its existence), the following holds: \n",
        "\n",
        "\\begin{equation*}\n",
        "Q^{*}(s,a)=E_{s'\\sim \\pi^*(.|s,a)}[r(s,a)+\\gamma\\max_{a'}Q^{*}(s',a')].\n",
        "\\end{equation*}\n",
        "Finally, deduce that a plausible objective is:\n",
        "\n",
        "\\begin{equation*}\n",
        "\\mathcal{L}(\\theta)=E_{s' \\sim \\pi^*(.|s,a)}\\Vert r+\\gamma\\max\\max_{a'}Q(s',a',\\theta)-Q(s,a,\\theta)\\Vert^{2}.\n",
        "\\end{equation*}\n",
        "\n",
        "\n"
      ]
    },
    {
      "cell_type": "markdown",
      "metadata": {
        "id": "tqyLJkdK5VMI",
        "colab_type": "text"
      },
      "source": [
        "We know that:\n",
        "$$\n",
        "\\mathcal{Q}^{\\pi}(s,a)=E_{p^{\\pi}}[\\sum_{t=0}^{\\infty}\\gamma^{t}r(s_{t},a_{t})|s_{0}=s,a_{0}=a]\\\\$$\n",
        "Therefore:\n",
        "$$\n",
        "\\mathcal{Q}^{\\pi}(s,a)=E_{p^{\\pi}}[r(s_0,a_0)+\\sum_{t=1}^{\\infty}\\gamma^{t}r(s_{t},a_{t})|s_{0}=s,a_{0}=a]\\\\\n",
        "\\mathcal{Q}^{\\pi}(s,a)=E_{p^{\\pi}}[r(s_0,a_0)+\\gamma\\sum_{t=0}^{\\infty}\\gamma^{t}r(s_{t+1},a_{t+1}|s_{0}=s,a_{0}=a)]\\\\\n",
        "\\mathcal{Q}^{\\pi}(s,a)=E_{p^{\\pi}}[r(s_0,a_0)]+\\gamma E_{p^{\\pi}}[\\sum_{t=0}^{\\infty}\\gamma^{t}r(s_{t+1},a_{t+1})|s_{0}=s,a_{0}=a]\n",
        "$$\n",
        "\n",
        "Using Markov property:\n",
        "\n",
        "$$\n",
        "\\mathcal{Q}^{\\pi}(s,a)=E_{p^{\\pi}}[r(s_{0},a_{0})]+\\gamma E_{(s',a')~p(.|s,a)}[\\sum_{t=0}^{\\infty}\\gamma^{t}r(s_{t+1},a_{t+1}|s_{1}=s',a_{1}=a')]\\\\\n",
        "$$\n",
        "\n",
        "$$\n",
        "\\mathcal{Q}^{\\pi}(s,a)=E_{(s',a')\\sim p(.|s,a)}[r(s_{0},a_{0})]+\\gamma E_{(s',a')~p(.|s,a)}[\\sum_{t=0}^{\\infty}\n",
        "\\gamma^{t}r(s_{t},a_{t})|s_{0}=s',a_{0}=a']\\\\\n",
        "$$\n",
        "\n",
        "$$\n",
        "\\mathcal{Q}^{\\pi}(s,a)=E_{(s',a')\\sim p(.|s,a)}[r(s,a)+\\gamma\\mathcal{Q}^{\\pi}(s',a')]\\\\\n",
        "$$\n",
        "\n",
        "Assuming that an optimal policy $\\pi^{\\ast}$ exists, the optimal Q function is defined as:\n",
        "$$\n",
        "\\mathcal{Q}^{\\ast}(s,a)=max_{\\pi}\\mathcal{Q}^{\\pi}(s,a)\\\\\n",
        "\\mathcal{Q}^{\\ast}(s,a)=max_{\\pi}E_{(s',a')~p(.|s,a)}[r(s,a)+\\gamma\\mathcal{Q}^{\\pi}(s',a')]\\\\\n",
        "\\mathcal{Q}^{\\ast}(s,a)=E_{s'\\sim\\pi^{\\ast}(.|s,a)}[r(s,a)+\\gamma\\mathcal{Q}^{\\pi^{\\ast}}(s',a')]\\\\\n",
        "\\mathcal{Q}^{\\ast}(s,a)=E_{s'\\sim\\pi^{\\ast}(.|s,a)}[r(s,a)+\\gamma max_{a'}\\mathcal{Q}^{\\ast}(s',a')]\n",
        "$$\n",
        "\n",
        "A plausible loss function to minimize is:\n",
        "$$\n",
        "\\mathcal{L}(\\theta)=E_{s'\\sim\\pi^{\\ast}(.|s,a)}((\\mathcal{Q}^{\\ast}(s,a,\\theta)-\\mathcal{Q}(s,a,\\theta))^{2})\\\\\n",
        "\\mathcal{L}(\\theta)=E_{s'\\sim\\pi^{\\ast}(.|s,a)}((r(s,a)+\\gamma max_{a'}\\mathcal{Q}^{\\ast}(s',a',\\theta)-\\mathcal{Q}(s,a,\\theta))^{2})\\\\\n",
        "\\mathcal{L}(\\theta)=E_{s'\\sim\\pi^{\\ast}(.|s,a)}||r+\\gamma max_{a'}\\mathcal{Q}(s',a',\\theta)-\\mathcal{Q}(s,a,\\theta)||^{2}\n",
        "$$"
      ]
    },
    {
      "cell_type": "markdown",
      "metadata": {
        "id": "JMAKav625VMJ",
        "colab_type": "text"
      },
      "source": [
        "***\n",
        "The DQN-learning algorithm relies on these derivations to train the parameters $\\theta$ of a Deep Neural Network:\n",
        "\n",
        "1. At the state $s_t$, select the action $a_t$ with best reward using $Q_t$ and store the results;\n",
        "\n",
        "2. Obtain the new state $s_{t+1}$ from the environment $p$;\n",
        "\n",
        "3. Store $(s_t,a_t,s_{t+1})$;\n",
        "\n",
        "4. Obtain $Q_{t+1}$ by minimizing  $\\mathcal{L}$ from a recovered batch from the previously stored results.\n",
        "\n",
        "***\n",
        "__Question 6__ Implement the class ```Memory``` that stores moves (in a replay buffer) via ```remember``` and provides a ```random_access``` to these. Specify a maximum memory size to avoid side effects. You can for example use a ```list()``` and set by default ```max_memory=100```."
      ]
    },
    {
      "cell_type": "code",
      "metadata": {
        "id": "poVyKuWF5VMK",
        "colab_type": "code",
        "colab": {}
      },
      "source": [
        "class Memory(object):\n",
        "    def __init__(self, max_memory=100):\n",
        "        self.max_memory = max_memory\n",
        "        self.memory = list()\n",
        "\n",
        "    def remember(self, m):\n",
        "        if len(self.memory) < self.max_memory:\n",
        "            self.memory.append(m)\n",
        "        else:\n",
        "            self.memory.pop(0)\n",
        "            self.memory.append(m)\n",
        "\n",
        "    def random_access(self):\n",
        "        return self.memory[ np.random.randint(len(self.memory)) ]"
      ],
      "execution_count": 0,
      "outputs": []
    },
    {
      "cell_type": "markdown",
      "metadata": {
        "id": "cgmNFctw5VMP",
        "colab_type": "text"
      },
      "source": [
        "***\n",
        "The pipeline we will use for training is given below:"
      ]
    },
    {
      "cell_type": "code",
      "metadata": {
        "id": "HYKmue7f5VMQ",
        "colab_type": "code",
        "colab": {}
      },
      "source": [
        "def train(agent,env,epoch,prefix=''):\n",
        "    # Number of won games\n",
        "    score = 0\n",
        "    loss = 0\n",
        "\n",
        "    for e in range(epoch):\n",
        "        # At each epoch, we restart to a fresh game and get the initial state\n",
        "        state = env.reset()\n",
        "        # This assumes that the games will terminate\n",
        "        game_over = False\n",
        "\n",
        "        win = 0\n",
        "        lose = 0\n",
        "\n",
        "        while not game_over:\n",
        "            # The agent performs an action\n",
        "            action = agent.act(state)\n",
        "\n",
        "            # Apply an action to the environment, get the next state, the reward\n",
        "            # and if the games end\n",
        "            prev_state = state\n",
        "            state, reward, game_over = env.act(action)\n",
        "\n",
        "            # Update the counters\n",
        "            if reward > 0:\n",
        "                win = win + reward\n",
        "            if reward < 0:\n",
        "                lose = lose -reward\n",
        "\n",
        "            # Apply the reinforcement strategy\n",
        "            loss = agent.reinforce(prev_state, state,  action, reward, game_over)\n",
        "\n",
        "        # Save as a mp4\n",
        "        if e % 10 == 0:\n",
        "            env.draw(prefix+str(e))\n",
        "\n",
        "        # Update stats\n",
        "        score += win-lose\n",
        "\n",
        "        print(\"Epoch {:03d}/{:03d} | Loss {:.4f} | Win/lose count {}/{} ({})\"\n",
        "              .format(e, epoch, loss, win, lose, win-lose))\n",
        "        agent.save(name_weights=prefix+'model.h5',name_model=prefix+'model.json')"
      ],
      "execution_count": 0,
      "outputs": []
    },
    {
      "cell_type": "markdown",
      "metadata": {
        "id": "NCgD0TLj5VMU",
        "colab_type": "text"
      },
      "source": [
        "***\n",
        "__Question 7__ Implement the DQN training algorithm using a cascade of fully connected layers. You can use different learning rate, batch size or memory size parameters. In particular, the loss might oscillate while the player will start to win the games. You have to find a good criterium."
      ]
    },
    {
      "cell_type": "code",
      "metadata": {
        "id": "HlpJ2sSg5VMV",
        "colab_type": "code",
        "colab": {}
      },
      "source": [
        "class DQN(Agent):\n",
        "    def __init__(self, grid_size,  epsilon = 0.1, memory_size=100, batch_size = 16,n_state=2):\n",
        "        super(DQN, self).__init__(epsilon = epsilon)\n",
        "\n",
        "        # Discount for Q learning\n",
        "        self.discount = 0.99\n",
        "        \n",
        "        self.grid_size = grid_size\n",
        "        \n",
        "        # number of state\n",
        "        self.n_state = n_state\n",
        "\n",
        "        # Memory\n",
        "        self.memory = Memory(memory_size)\n",
        "        \n",
        "        # Batch size when learning\n",
        "        self.batch_size = batch_size\n",
        "\n",
        "    def learned_act(self, s):\n",
        "        return np.argmax(self.model.predict(s[np.newaxis, :, :, :]))\n",
        "\n",
        "    def reinforce(self, s_, n_s_, a_, r_, game_over_):\n",
        "        # Two steps: first memorize the states, second learn from the pool\n",
        "\n",
        "        self.memory.remember([s_, n_s_, a_, r_, game_over_])\n",
        "        \n",
        "        input_states = np.zeros((self.batch_size, 5, 5, self.n_state))\n",
        "        target_q = np.zeros((self.batch_size, 4))\n",
        "        \n",
        "        for i in range(self.batch_size):\n",
        "            \n",
        "            s, n_s, a, r, game_over = self.memory.random_access()\n",
        "            input_states[i, :, :] = s\n",
        "            target_q[i] = self.model.predict(s[np.newaxis, :, :, :])[0]\n",
        " \n",
        "            if game_over_:\n",
        "                target_q[i][a] = r\n",
        "            else:\n",
        "                n_q = max(self.model.predict(n_s[np.newaxis, :, :, :])[0])\n",
        "                target_q[i][a] = r + n_q * self.discount\n",
        "                \n",
        "        ######## FILL IN\n",
        "        # HINT: Clip the target to avoid exploiding gradients.. -- clipping is a bit tighter\n",
        "        target_q = np.clip(target_q, -3, 3)\n",
        "\n",
        "        l = self.model.train_on_batch(input_states, target_q)\n",
        "\n",
        "        return l\n",
        "\n",
        "    def save(self,name_weights='model.h5',name_model='model.json'):\n",
        "        self.model.save_weights(name_weights, overwrite=True)\n",
        "        with open(name_model, \"w\") as outfile:\n",
        "            json.dump(self.model.to_json(), outfile)\n",
        "            \n",
        "    def load(self,name_weights='model.h5',name_model='model.json'):\n",
        "        with open(name_model, \"r\") as jfile:\n",
        "            model = model_from_json(json.load(jfile))\n",
        "        model.load_weights(name_weights)\n",
        "        model.compile(\"sgd\", \"mse\")\n",
        "        self.model = model\n",
        "\n",
        "            \n",
        "class DQN_FC(DQN):\n",
        "    def __init__(self, *args, lr=0.1,**kwargs):\n",
        "        super(DQN_FC, self).__init__( *args,**kwargs)\n",
        "        \n",
        "        # NN Model\n",
        "        model = Sequential(layers = [Flatten(input_shape=(5, 5, self.n_state)),\n",
        "                                    Dense(100, activation=\"relu\"), Dropout(0.2), \n",
        "                                    Dense(100, activation=\"relu\"), Dropout(0.2),\n",
        "                                    Dense(50, activation=\"relu\"),Dropout(0.2), Dense(4)])\n",
        "        model.compile(sgd(lr=lr, decay=1e-4, momentum=0.0), \"mse\")\n",
        "        self.model = model\n",
        "        "
      ],
      "execution_count": 0,
      "outputs": []
    },
    {
      "cell_type": "code",
      "metadata": {
        "id": "dxlrRy3f5VMb",
        "colab_type": "code",
        "outputId": "a292dedc-cf32-4762-d949-af6f5672d599",
        "colab": {
          "base_uri": "https://localhost:8080/",
          "height": 1000
        }
      },
      "source": [
        "env = Environment(grid_size=size, max_time=T, temperature=0.3)\n",
        "agent = DQN_FC(size, lr=.01, epsilon = 0.1, memory_size=2000, batch_size = 32)\n",
        "train(agent, env, epochs_train, prefix='fc_train')\n",
        "HTML(display_videos('fc_train10.mp4'))"
      ],
      "execution_count": 14,
      "outputs": [
        {
          "output_type": "stream",
          "text": [
            "Epoch 000/100 | Loss 0.0181 | Win/lose count 7.5/4.0 (3.5)\n",
            "Epoch 001/100 | Loss 0.0241 | Win/lose count 2.0/6.0 (-4.0)\n",
            "Epoch 002/100 | Loss 0.0116 | Win/lose count 4.0/5.0 (-1.0)\n",
            "Epoch 003/100 | Loss 0.0380 | Win/lose count 6.5/6.0 (0.5)\n",
            "Epoch 004/100 | Loss 0.0272 | Win/lose count 4.0/6.0 (-2.0)\n",
            "Epoch 005/100 | Loss 0.0154 | Win/lose count 2.5/2.0 (0.5)\n",
            "Epoch 006/100 | Loss 0.0159 | Win/lose count 6.5/3.0 (3.5)\n",
            "Epoch 007/100 | Loss 0.0309 | Win/lose count 3.0/5.0 (-2.0)\n",
            "Epoch 008/100 | Loss 0.0204 | Win/lose count 3.5/4.0 (-0.5)\n",
            "Epoch 009/100 | Loss 0.0272 | Win/lose count 2.5/5.0 (-2.5)\n",
            "Epoch 010/100 | Loss 0.0313 | Win/lose count 2.5/8.0 (-5.5)\n",
            "Epoch 011/100 | Loss 0.0202 | Win/lose count 3.0/6.0 (-3.0)\n",
            "Epoch 012/100 | Loss 0.0207 | Win/lose count 1.5/3.0 (-1.5)\n",
            "Epoch 013/100 | Loss 0.0068 | Win/lose count 3.5/7.0 (-3.5)\n",
            "Epoch 014/100 | Loss 0.0276 | Win/lose count 2.5/4.0 (-1.5)\n",
            "Epoch 015/100 | Loss 0.0080 | Win/lose count 2.0/6.0 (-4.0)\n",
            "Epoch 016/100 | Loss 0.0036 | Win/lose count 6.0/4.0 (2.0)\n",
            "Epoch 017/100 | Loss 0.0033 | Win/lose count 3.0/3.0 (0.0)\n",
            "Epoch 018/100 | Loss 0.0110 | Win/lose count 2.0/1.0 (1.0)\n",
            "Epoch 019/100 | Loss 0.0027 | Win/lose count 2.5/7.0 (-4.5)\n",
            "Epoch 020/100 | Loss 0.0038 | Win/lose count 2.5/1.0 (1.5)\n",
            "Epoch 021/100 | Loss 0.0081 | Win/lose count 2.0/4.0 (-2.0)\n",
            "Epoch 022/100 | Loss 0.0061 | Win/lose count 4.5/5.0 (-0.5)\n",
            "Epoch 023/100 | Loss 0.0057 | Win/lose count 3.0/2.0 (1.0)\n",
            "Epoch 024/100 | Loss 0.0060 | Win/lose count 2.5/3.0 (-0.5)\n",
            "Epoch 025/100 | Loss 0.0071 | Win/lose count 4.5/1.0 (3.5)\n",
            "Epoch 026/100 | Loss 0.0081 | Win/lose count 5.0/5.0 (0.0)\n",
            "Epoch 027/100 | Loss 0.0013 | Win/lose count 4.5/6.0 (-1.5)\n",
            "Epoch 028/100 | Loss 0.0045 | Win/lose count 2.5/7.0 (-4.5)\n",
            "Epoch 029/100 | Loss 0.0254 | Win/lose count 2.5/2.0 (0.5)\n",
            "Epoch 030/100 | Loss 0.0160 | Win/lose count 1.5/2.0 (-0.5)\n",
            "Epoch 031/100 | Loss 0.0101 | Win/lose count 2.0/10.0 (-8.0)\n",
            "Epoch 032/100 | Loss 0.0176 | Win/lose count 4.0/4.0 (0.0)\n",
            "Epoch 033/100 | Loss 0.0039 | Win/lose count 2.0/4.0 (-2.0)\n",
            "Epoch 034/100 | Loss 0.0143 | Win/lose count 3.0/3.0 (0.0)\n",
            "Epoch 035/100 | Loss 0.0143 | Win/lose count 1.0/2.0 (-1.0)\n",
            "Epoch 036/100 | Loss 0.0038 | Win/lose count 3.0/4.0 (-1.0)\n",
            "Epoch 037/100 | Loss 0.0014 | Win/lose count 3.5/3.0 (0.5)\n",
            "Epoch 038/100 | Loss 0.0019 | Win/lose count 3.5/1.0 (2.5)\n",
            "Epoch 039/100 | Loss 0.0053 | Win/lose count 2.0/1.0 (1.0)\n",
            "Epoch 040/100 | Loss 0.0035 | Win/lose count 4.0/5.0 (-1.0)\n",
            "Epoch 041/100 | Loss 0.0078 | Win/lose count 2.5/2.0 (0.5)\n",
            "Epoch 042/100 | Loss 0.0016 | Win/lose count 1.5/4.0 (-2.5)\n",
            "Epoch 043/100 | Loss 0.0045 | Win/lose count 3.0/2.0 (1.0)\n",
            "Epoch 044/100 | Loss 0.0102 | Win/lose count 3.0/5.0 (-2.0)\n",
            "Epoch 045/100 | Loss 0.0016 | Win/lose count 1.5/5.0 (-3.5)\n",
            "Epoch 046/100 | Loss 0.0046 | Win/lose count 0/0 (0)\n",
            "Epoch 047/100 | Loss 0.0029 | Win/lose count 1.5/5.0 (-3.5)\n",
            "Epoch 048/100 | Loss 0.0107 | Win/lose count 2.5/2.0 (0.5)\n",
            "Epoch 049/100 | Loss 0.0012 | Win/lose count 2.0/1.0 (1.0)\n",
            "Epoch 050/100 | Loss 0.0085 | Win/lose count 2.5/5.0 (-2.5)\n",
            "Epoch 051/100 | Loss 0.0070 | Win/lose count 3.0/2.0 (1.0)\n",
            "Epoch 052/100 | Loss 0.0024 | Win/lose count 2.5/1.0 (1.5)\n",
            "Epoch 053/100 | Loss 0.0123 | Win/lose count 2.0/5.0 (-3.0)\n",
            "Epoch 054/100 | Loss 0.0047 | Win/lose count 1.5/0 (1.5)\n",
            "Epoch 055/100 | Loss 0.0114 | Win/lose count 2.5/7.0 (-4.5)\n",
            "Epoch 056/100 | Loss 0.0066 | Win/lose count 3.0/2.0 (1.0)\n",
            "Epoch 057/100 | Loss 0.0233 | Win/lose count 0.5/3.0 (-2.5)\n",
            "Epoch 058/100 | Loss 0.0049 | Win/lose count 2.5/1.0 (1.5)\n",
            "Epoch 059/100 | Loss 0.0166 | Win/lose count 3.0/2.0 (1.0)\n",
            "Epoch 060/100 | Loss 0.0116 | Win/lose count 3.0/5.0 (-2.0)\n",
            "Epoch 061/100 | Loss 0.0036 | Win/lose count 5.5/8.0 (-2.5)\n",
            "Epoch 062/100 | Loss 0.0177 | Win/lose count 3.0/3.0 (0.0)\n",
            "Epoch 063/100 | Loss 0.0058 | Win/lose count 1.5/1.0 (0.5)\n",
            "Epoch 064/100 | Loss 0.0011 | Win/lose count 1.5/2.0 (-0.5)\n",
            "Epoch 065/100 | Loss 0.0015 | Win/lose count 2.5/10.0 (-7.5)\n",
            "Epoch 066/100 | Loss 0.0017 | Win/lose count 4.0/4.0 (0.0)\n",
            "Epoch 067/100 | Loss 0.0122 | Win/lose count 2.5/8.0 (-5.5)\n",
            "Epoch 068/100 | Loss 0.0203 | Win/lose count 2.0/3.0 (-1.0)\n",
            "Epoch 069/100 | Loss 0.0081 | Win/lose count 1.5/3.0 (-1.5)\n",
            "Epoch 070/100 | Loss 0.0013 | Win/lose count 1.0/1.0 (0.0)\n",
            "Epoch 071/100 | Loss 0.0127 | Win/lose count 0.5/3.0 (-2.5)\n",
            "Epoch 072/100 | Loss 0.0087 | Win/lose count 1.5/3.0 (-1.5)\n",
            "Epoch 073/100 | Loss 0.0082 | Win/lose count 1.5/3.0 (-1.5)\n",
            "Epoch 074/100 | Loss 0.0106 | Win/lose count 1.5/3.0 (-1.5)\n",
            "Epoch 075/100 | Loss 0.0012 | Win/lose count 4.0/0 (4.0)\n",
            "Epoch 076/100 | Loss 0.0155 | Win/lose count 2.5/4.0 (-1.5)\n",
            "Epoch 077/100 | Loss 0.0008 | Win/lose count 2.5/2.0 (0.5)\n",
            "Epoch 078/100 | Loss 0.0007 | Win/lose count 2.5/1.0 (1.5)\n",
            "Epoch 079/100 | Loss 0.0067 | Win/lose count 5.5/4.0 (1.5)\n",
            "Epoch 080/100 | Loss 0.0083 | Win/lose count 4.0/3.0 (1.0)\n",
            "Epoch 081/100 | Loss 0.0009 | Win/lose count 2.0/4.0 (-2.0)\n",
            "Epoch 082/100 | Loss 0.0080 | Win/lose count 1.5/5.0 (-3.5)\n",
            "Epoch 083/100 | Loss 0.0006 | Win/lose count 0/1.0 (-1.0)\n",
            "Epoch 084/100 | Loss 0.0026 | Win/lose count 1.0/4.0 (-3.0)\n",
            "Epoch 085/100 | Loss 0.0026 | Win/lose count 1.5/1.0 (0.5)\n",
            "Epoch 086/100 | Loss 0.0054 | Win/lose count 4.5/3.0 (1.5)\n",
            "Epoch 087/100 | Loss 0.0178 | Win/lose count 3.0/7.0 (-4.0)\n",
            "Epoch 088/100 | Loss 0.0148 | Win/lose count 4.0/7.0 (-3.0)\n",
            "Epoch 089/100 | Loss 0.0095 | Win/lose count 2.0/2.0 (0.0)\n",
            "Epoch 090/100 | Loss 0.0066 | Win/lose count 2.5/4.0 (-1.5)\n",
            "Epoch 091/100 | Loss 0.0141 | Win/lose count 3.5/2.0 (1.5)\n",
            "Epoch 092/100 | Loss 0.0008 | Win/lose count 0.5/2.0 (-1.5)\n",
            "Epoch 093/100 | Loss 0.0007 | Win/lose count 2.5/2.0 (0.5)\n",
            "Epoch 094/100 | Loss 0.0082 | Win/lose count 2.0/3.0 (-1.0)\n",
            "Epoch 095/100 | Loss 0.0025 | Win/lose count 1.5/3.0 (-1.5)\n",
            "Epoch 096/100 | Loss 0.0063 | Win/lose count 2.0/2.0 (0.0)\n",
            "Epoch 097/100 | Loss 0.0054 | Win/lose count 3.0/3.0 (0.0)\n",
            "Epoch 098/100 | Loss 0.0083 | Win/lose count 2.0/1.0 (1.0)\n",
            "Epoch 099/100 | Loss 0.0014 | Win/lose count 1.0/0 (1.0)\n"
          ],
          "name": "stdout"
        },
        {
          "output_type": "execute_result",
          "data": {
            "text/html": [
              "<video alt=\"test\" controls>\n",
              "                <source src=\"data:video/mp4;base64,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\" type=\"video/mp4\" />\n",
              "             </video>"
            ],
            "text/plain": [
              "<IPython.core.display.HTML object>"
            ]
          },
          "metadata": {
            "tags": []
          },
          "execution_count": 14
        }
      ]
    },
    {
      "cell_type": "markdown",
      "metadata": {
        "id": "4jZ1Hiln5VMq",
        "colab_type": "text"
      },
      "source": [
        "***\n",
        "***\n",
        "__Question 8__ Implement the DQN training algorithm using a CNN (for example, 2 convolutional layers and one final fully connected layer)."
      ]
    },
    {
      "cell_type": "code",
      "metadata": {
        "id": "yW-JjPWv5VMs",
        "colab_type": "code",
        "colab": {}
      },
      "source": [
        "class DQN_CNN(DQN):\n",
        "    def __init__(self, *args,lr=0.1,**kwargs):\n",
        "        super(DQN_CNN, self).__init__(*args,**kwargs)\n",
        "        \n",
        "        ###### FILL IN\n",
        "        model = Sequential(layers = [Conv2D(60, (2,2), input_shape=(5,5,self.n_state), activation='relu'),\n",
        "                                    Conv2D(120, (2,2), activation='relu'), \n",
        "                                    Dropout(0.2), \n",
        "                                    Flatten(),\n",
        "                                    Dense(4)])\n",
        "        \n",
        "        model.compile(sgd(lr=lr, decay=1e-4, momentum=0.0), \"mse\")\n",
        "        self.model = model"
      ],
      "execution_count": 0,
      "outputs": []
    },
    {
      "cell_type": "code",
      "metadata": {
        "id": "BYxTYYFY5VMv",
        "colab_type": "code",
        "outputId": "fa32aca1-72da-4dbb-e86d-964135edcf09",
        "colab": {
          "base_uri": "https://localhost:8080/",
          "height": 1000
        }
      },
      "source": [
        "env = Environment(grid_size=size, max_time=T, temperature=0.3)\n",
        "agent = DQN_CNN(size, lr=.1, epsilon = 0.1, memory_size=2000, batch_size = 32)\n",
        "train(agent,env,epochs_train,prefix='cnn_train')\n",
        "HTML(display_videos('cnn_train10.mp4'))"
      ],
      "execution_count": 0,
      "outputs": [
        {
          "output_type": "stream",
          "text": [
            "Epoch 000/100 | Loss 0.0459 | Win/lose count 2.0/3.0 (-1.0)\n",
            "Epoch 001/100 | Loss 0.0459 | Win/lose count 2.5/4.0 (-1.5)\n",
            "Epoch 002/100 | Loss 0.0323 | Win/lose count 1.5/2.0 (-0.5)\n",
            "Epoch 003/100 | Loss 0.0350 | Win/lose count 2.5/4.0 (-1.5)\n",
            "Epoch 004/100 | Loss 0.0845 | Win/lose count 3.0/3.0 (0.0)\n",
            "Epoch 005/100 | Loss 0.0710 | Win/lose count 2.5/2.0 (0.5)\n",
            "Epoch 006/100 | Loss 0.1139 | Win/lose count 3.5/4.0 (-0.5)\n",
            "Epoch 007/100 | Loss 0.1055 | Win/lose count 1.5/2.0 (-0.5)\n",
            "Epoch 008/100 | Loss 0.1129 | Win/lose count 2.0/2.0 (0.0)\n",
            "Epoch 009/100 | Loss 0.1284 | Win/lose count 0.5/0 (0.5)\n",
            "Epoch 010/100 | Loss 0.1358 | Win/lose count 1.5/2.0 (-0.5)\n",
            "Epoch 011/100 | Loss 0.1390 | Win/lose count 5.0/5.0 (0.0)\n",
            "Epoch 012/100 | Loss 0.1294 | Win/lose count 1.5/0 (1.5)\n",
            "Epoch 013/100 | Loss 0.1369 | Win/lose count 2.5/4.0 (-1.5)\n",
            "Epoch 014/100 | Loss 0.1428 | Win/lose count 4.0/2.0 (2.0)\n",
            "Epoch 015/100 | Loss 0.1915 | Win/lose count 5.5/4.0 (1.5)\n",
            "Epoch 016/100 | Loss 0.2526 | Win/lose count 7.0/2.0 (5.0)\n",
            "Epoch 017/100 | Loss 0.3713 | Win/lose count 3.0/0 (3.0)\n",
            "Epoch 018/100 | Loss 0.6860 | Win/lose count 7.0/1.0 (6.0)\n",
            "Epoch 019/100 | Loss 1.3721 | Win/lose count 7.5/4.0 (3.5)\n",
            "Epoch 020/100 | Loss 1.6635 | Win/lose count 2.5/1.0 (1.5)\n",
            "Epoch 021/100 | Loss 1.2852 | Win/lose count 2.0/4.0 (-2.0)\n",
            "Epoch 022/100 | Loss 1.5674 | Win/lose count 5.0/1.0 (4.0)\n",
            "Epoch 023/100 | Loss 1.5887 | Win/lose count 3.5/4.0 (-0.5)\n",
            "Epoch 024/100 | Loss 1.4363 | Win/lose count 5.0/0 (5.0)\n",
            "Epoch 025/100 | Loss 1.7134 | Win/lose count 8.5/3.0 (5.5)\n",
            "Epoch 026/100 | Loss 1.5808 | Win/lose count 8.0/2.0 (6.0)\n",
            "Epoch 027/100 | Loss 1.3147 | Win/lose count 6.0/3.0 (3.0)\n",
            "Epoch 028/100 | Loss 1.5286 | Win/lose count 8.0/2.0 (6.0)\n",
            "Epoch 029/100 | Loss 1.4240 | Win/lose count 3.0/2.0 (1.0)\n",
            "Epoch 030/100 | Loss 1.2934 | Win/lose count 16.0/3.0 (13.0)\n",
            "Epoch 031/100 | Loss 1.6563 | Win/lose count 11.0/0 (11.0)\n",
            "Epoch 032/100 | Loss 1.5453 | Win/lose count 14.5/2.0 (12.5)\n",
            "Epoch 033/100 | Loss 1.6783 | Win/lose count 20.5/6.0 (14.5)\n",
            "Epoch 034/100 | Loss 1.6131 | Win/lose count 6.0/1.0 (5.0)\n",
            "Epoch 035/100 | Loss 1.6051 | Win/lose count 9.5/3.0 (6.5)\n",
            "Epoch 036/100 | Loss 1.5911 | Win/lose count 10.5/2.0 (8.5)\n",
            "Epoch 037/100 | Loss 1.6036 | Win/lose count 10.5/4.0 (6.5)\n",
            "Epoch 038/100 | Loss 1.4207 | Win/lose count 12.5/1.0 (11.5)\n",
            "Epoch 039/100 | Loss 1.6135 | Win/lose count 13.5/5.0 (8.5)\n",
            "Epoch 040/100 | Loss 1.4839 | Win/lose count 14.0/3.0 (11.0)\n",
            "Epoch 041/100 | Loss 1.5770 | Win/lose count 7.5/2.0 (5.5)\n",
            "Epoch 042/100 | Loss 1.6499 | Win/lose count 9.0/2.0 (7.0)\n",
            "Epoch 043/100 | Loss 1.4944 | Win/lose count 13.0/1.0 (12.0)\n",
            "Epoch 044/100 | Loss 1.4981 | Win/lose count 6.5/0 (6.5)\n",
            "Epoch 045/100 | Loss 1.5640 | Win/lose count 7.5/3.0 (4.5)\n",
            "Epoch 046/100 | Loss 1.4826 | Win/lose count 11.5/4.0 (7.5)\n",
            "Epoch 047/100 | Loss 1.4661 | Win/lose count 23.5/6.0 (17.5)\n",
            "Epoch 048/100 | Loss 1.5820 | Win/lose count 16.0/2.0 (14.0)\n",
            "Epoch 049/100 | Loss 1.6019 | Win/lose count 25.0/5.0 (20.0)\n",
            "Epoch 050/100 | Loss 1.5211 | Win/lose count 14.0/2.0 (12.0)\n",
            "Epoch 051/100 | Loss 1.5461 | Win/lose count 16.5/2.0 (14.5)\n",
            "Epoch 052/100 | Loss 1.6703 | Win/lose count 17.5/3.0 (14.5)\n",
            "Epoch 053/100 | Loss 1.5270 | Win/lose count 10.0/1.0 (9.0)\n",
            "Epoch 054/100 | Loss 1.5746 | Win/lose count 21.0/2.0 (19.0)\n",
            "Epoch 055/100 | Loss 1.5901 | Win/lose count 12.0/1.0 (11.0)\n",
            "Epoch 056/100 | Loss 1.5786 | Win/lose count 13.5/2.0 (11.5)\n",
            "Epoch 057/100 | Loss 1.6707 | Win/lose count 19.5/2.0 (17.5)\n",
            "Epoch 058/100 | Loss 1.7085 | Win/lose count 18.0/3.0 (15.0)\n",
            "Epoch 059/100 | Loss 1.6149 | Win/lose count 24.5/3.0 (21.5)\n",
            "Epoch 060/100 | Loss 1.7014 | Win/lose count 6.5/1.0 (5.5)\n",
            "Epoch 061/100 | Loss 1.6787 | Win/lose count 17.5/4.0 (13.5)\n",
            "Epoch 062/100 | Loss 1.6340 | Win/lose count 11.5/1.0 (10.5)\n",
            "Epoch 063/100 | Loss 1.7402 | Win/lose count 11.0/4.0 (7.0)\n",
            "Epoch 064/100 | Loss 1.7190 | Win/lose count 15.5/6.0 (9.5)\n",
            "Epoch 065/100 | Loss 1.6804 | Win/lose count 11.0/4.0 (7.0)\n",
            "Epoch 066/100 | Loss 1.6566 | Win/lose count 24.0/3.0 (21.0)\n",
            "Epoch 067/100 | Loss 1.7722 | Win/lose count 23.0/5.0 (18.0)\n",
            "Epoch 068/100 | Loss 1.7261 | Win/lose count 23.5/4.0 (19.5)\n",
            "Epoch 069/100 | Loss 1.6994 | Win/lose count 18.0/3.0 (15.0)\n",
            "Epoch 070/100 | Loss 1.6163 | Win/lose count 18.0/4.0 (14.0)\n",
            "Epoch 071/100 | Loss 1.6100 | Win/lose count 16.0/2.0 (14.0)\n",
            "Epoch 072/100 | Loss 1.7814 | Win/lose count 12.5/5.0 (7.5)\n",
            "Epoch 073/100 | Loss 1.6859 | Win/lose count 17.5/3.0 (14.5)\n",
            "Epoch 074/100 | Loss 1.7731 | Win/lose count 27.5/3.0 (24.5)\n",
            "Epoch 075/100 | Loss 1.6622 | Win/lose count 8.5/3.0 (5.5)\n",
            "Epoch 076/100 | Loss 1.7520 | Win/lose count 19.5/1.0 (18.5)\n",
            "Epoch 077/100 | Loss 1.6737 | Win/lose count 18.0/4.0 (14.0)\n",
            "Epoch 078/100 | Loss 1.6406 | Win/lose count 16.5/2.0 (14.5)\n",
            "Epoch 079/100 | Loss 1.6691 | Win/lose count 13.0/2.0 (11.0)\n",
            "Epoch 080/100 | Loss 1.6919 | Win/lose count 20.0/3.0 (17.0)\n",
            "Epoch 081/100 | Loss 1.6442 | Win/lose count 11.0/0 (11.0)\n",
            "Epoch 082/100 | Loss 1.6845 | Win/lose count 19.0/1.0 (18.0)\n",
            "Epoch 083/100 | Loss 1.7051 | Win/lose count 8.5/3.0 (5.5)\n",
            "Epoch 084/100 | Loss 1.6814 | Win/lose count 16.0/2.0 (14.0)\n",
            "Epoch 085/100 | Loss 1.6607 | Win/lose count 23.0/2.0 (21.0)\n",
            "Epoch 086/100 | Loss 1.6206 | Win/lose count 20.5/3.0 (17.5)\n",
            "Epoch 087/100 | Loss 1.6656 | Win/lose count 9.5/2.0 (7.5)\n",
            "Epoch 088/100 | Loss 1.6973 | Win/lose count 15.0/3.0 (12.0)\n",
            "Epoch 089/100 | Loss 1.6242 | Win/lose count 24.0/4.0 (20.0)\n",
            "Epoch 090/100 | Loss 1.7077 | Win/lose count 21.0/4.0 (17.0)\n",
            "Epoch 091/100 | Loss 1.5905 | Win/lose count 13.5/3.0 (10.5)\n",
            "Epoch 092/100 | Loss 1.6156 | Win/lose count 15.5/6.0 (9.5)\n",
            "Epoch 093/100 | Loss 1.6868 | Win/lose count 17.5/7.0 (10.5)\n",
            "Epoch 094/100 | Loss 1.6274 | Win/lose count 20.5/4.0 (16.5)\n",
            "Epoch 095/100 | Loss 1.6841 | Win/lose count 13.0/0 (13.0)\n",
            "Epoch 096/100 | Loss 1.6695 | Win/lose count 7.0/0 (7.0)\n",
            "Epoch 097/100 | Loss 1.6647 | Win/lose count 10.5/3.0 (7.5)\n",
            "Epoch 098/100 | Loss 1.6813 | Win/lose count 5.5/1.0 (4.5)\n",
            "Epoch 099/100 | Loss 1.6704 | Win/lose count 15.5/4.0 (11.5)\n"
          ],
          "name": "stdout"
        },
        {
          "output_type": "execute_result",
          "data": {
            "text/html": [
              "<video alt=\"test\" controls>\n",
              "                <source src=\"data:video/mp4;base64,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\" type=\"video/mp4\" />\n",
              "             </video>"
            ],
            "text/plain": [
              "<IPython.core.display.HTML object>"
            ]
          },
          "metadata": {
            "tags": []
          },
          "execution_count": 72
        }
      ]
    },
    {
      "cell_type": "markdown",
      "metadata": {
        "id": "SfBHX6zl5VMz",
        "colab_type": "text"
      },
      "source": [
        "***\n",
        "***\n",
        "__Question 9__ Test both algorithms and compare their performances. Which issue(s) do you observe? Observe also different behaviors by changing the temperature."
      ]
    },
    {
      "cell_type": "code",
      "metadata": {
        "id": "O8CMjkOT5VM0",
        "colab_type": "code",
        "outputId": "54894f4d-5efd-4c6b-f0ad-9208eccafe57",
        "colab": {
          "base_uri": "https://localhost:8080/",
          "height": 595
        }
      },
      "source": [
        "env = Environment(grid_size=size, max_time=T,temperature=0.3)\n",
        "agent_cnn = DQN_CNN(size, lr=.1, epsilon = 0.1, memory_size=2000, batch_size = 32)\n",
        "agent_cnn.load(name_weights='cnn_trainmodel.h5',name_model='cnn_trainmodel.json')\n",
        "\n",
        "agent_fc = DQN_FC(size, lr=.1, epsilon = 0.1, memory_size=2000, batch_size = 32)\n",
        "agent_cnn.load(name_weights='fc_trainmodel.h5',name_model='fc_trainmodel.json')\n",
        "print('Test of the CNN')\n",
        "test(agent_cnn,env,epochs_test,prefix='cnn_test')\n",
        "print('Test of the FC')\n",
        "test(agent_fc,env,epochs_test,prefix='fc_test')"
      ],
      "execution_count": 0,
      "outputs": [
        {
          "output_type": "stream",
          "text": [
            "Test of the CNN\n",
            "Win/lose count 0.5/1.0. Average score (-0.5)\n",
            "Win/lose count 1.0/1.0. Average score (-0.25)\n",
            "Win/lose count 0.5/2.0. Average score (-0.6666666666666666)\n",
            "Win/lose count 0/0. Average score (-0.5)\n",
            "Win/lose count 1.5/2.0. Average score (-0.5)\n",
            "Win/lose count 0.5/2.0. Average score (-0.6666666666666666)\n",
            "Win/lose count 2.0/4.0. Average score (-0.8571428571428571)\n",
            "Win/lose count 0/2.0. Average score (-1.0)\n",
            "Win/lose count 0.5/0. Average score (-0.8333333333333334)\n",
            "Win/lose count 1.5/1.0. Average score (-0.7)\n",
            "Win/lose count 1.5/0. Average score (-0.5)\n",
            "Win/lose count 0.5/1.0. Average score (-0.5)\n",
            "Win/lose count 0/1.0. Average score (-0.5384615384615384)\n",
            "Win/lose count 0/0. Average score (-0.5)\n",
            "Win/lose count 1.5/2.0. Average score (-0.5)\n",
            "Final score: -0.5\n",
            "Test of the FC\n",
            "Win/lose count 2.5/3.0. Average score (-0.5)\n",
            "Win/lose count 1.0/5.0. Average score (-2.25)\n",
            "Win/lose count 1.0/2.0. Average score (-1.8333333333333333)\n",
            "Win/lose count 2.0/1.0. Average score (-1.125)\n",
            "Win/lose count 3.0/3.0. Average score (-0.9)\n",
            "Win/lose count 2.5/1.0. Average score (-0.5)\n",
            "Win/lose count 0/1.0. Average score (-0.5714285714285714)\n",
            "Win/lose count 1.0/0. Average score (-0.375)\n",
            "Win/lose count 1.5/4.0. Average score (-0.6111111111111112)\n",
            "Win/lose count 1.5/1.0. Average score (-0.5)\n",
            "Win/lose count 0/1.0. Average score (-0.5454545454545454)\n",
            "Win/lose count 1.5/1.0. Average score (-0.4583333333333333)\n",
            "Win/lose count 1.0/0. Average score (-0.34615384615384615)\n",
            "Win/lose count 1.0/0. Average score (-0.25)\n",
            "Win/lose count 3.0/0. Average score (-0.03333333333333333)\n",
            "Final score: -0.03333333333333333\n"
          ],
          "name": "stdout"
        }
      ]
    },
    {
      "cell_type": "code",
      "metadata": {
        "id": "mXEKVzSb5VM5",
        "colab_type": "code",
        "outputId": "316a7256-9861-4397-f0d3-2c0a69a799fe",
        "colab": {
          "base_uri": "https://localhost:8080/",
          "height": 293
        }
      },
      "source": [
        "HTML(display_videos('cnn_test10.mp4'))"
      ],
      "execution_count": 0,
      "outputs": [
        {
          "output_type": "execute_result",
          "data": {
            "text/html": [
              "<video alt=\"test\" controls>\n",
              "                <source src=\"data:video/mp4;base64,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\" type=\"video/mp4\" />\n",
              "             </video>"
            ],
            "text/plain": [
              "<IPython.core.display.HTML object>"
            ]
          },
          "metadata": {
            "tags": []
          },
          "execution_count": 67
        }
      ]
    },
    {
      "cell_type": "code",
      "metadata": {
        "id": "dTj9eElS5VM9",
        "colab_type": "code",
        "outputId": "e05b298d-7e04-4fb8-a695-71af2515b732",
        "colab": {
          "base_uri": "https://localhost:8080/",
          "height": 293
        }
      },
      "source": [
        "HTML(display_videos('fc_test10.mp4'))"
      ],
      "execution_count": 0,
      "outputs": [
        {
          "output_type": "execute_result",
          "data": {
            "text/html": [
              "<video alt=\"test\" controls>\n",
              "                <source src=\"data:video/mp4;base64,AAAAIGZ0eXBpc29tAAACAGlzb21pc28yYXZjMW1wNDEAAAAIZnJlZQAAFSZtZGF0AAACrQYF//+p3EXpvebZSLeWLNgg2SPu73gyNjQgLSBjb3JlIDE1MiByMjg1NCBlOWE1OTAzIC0gSC4yNjQvTVBFRy00IEFWQyBjb2RlYyAtIENvcHlsZWZ0IDIwMDMtMjAxNyAtIGh0dHA6Ly93d3cudmlkZW9sYW4ub3JnL3gyNjQuaHRtbCAtIG9wdGlvbnM6IGNhYmFjPTEgcmVmPTMgZGVibG9jaz0xOjA6MCBhbmFseXNlPTB4MToweDExMSBtZT1oZXggc3VibWU9NyBwc3k9MSBwc3lfcmQ9MS4wMDowLjAwIG1peGVkX3JlZj0xIG1lX3JhbmdlPTE2IGNocm9tYV9tZT0xIHRyZWxsaXM9MSA4eDhkY3Q9MCBjcW09MCBkZWFkem9uZT0yMSwxMSBmYXN0X3Bza2lwPTEgY2hyb21hX3FwX29mZnNldD00IHRocmVhZHM9MyBsb29rYWhlYWRfdGhyZWFkcz0xIHNsaWNlZF90aHJlYWRzPTAgbnI9MCBkZWNpbWF0ZT0xIGludGVybGFjZWQ9MCBibHVyYXlfY29tcGF0PTAgY29uc3RyYWluZWRfaW50cmE9MCBiZnJhbWVzPTMgYl9weXJhbWlkPTIgYl9hZGFwdD0xIGJfYmlhcz0wIGRpcmVjdD0xIHdlaWdodGI9MSBvcGVuX2dvcD0wIHdlaWdodHA9MiBrZXlpbnQ9MjUwIGtleWludF9taW49MjUgc2NlbmVjdXQ9NDAgaW50cmFfcmVmcmVzaD0wIHJjX2xvb2thaGVhZD00MCByYz1jcmYgbWJ0cmVlPTEgY3JmPTIzLjAgcWNvbXA9MC42MCBxcG1pbj0wIHFwbWF4PTY5IHFwc3RlcD00IGlwX3JhdGlvPTEuNDAgYXE9MToxLjAwAIAAAALcZYiEADv//vb8/AptUwn/LZ/+iL/lb+9P2a61uFE7M7QacwPQC/3cd/Xi1bCrc27LcdG8bJkAU3Roif8hrvvgUoqkfgUzWsTzDZhGHbEeGtwo+35P1YUoHtIovO7cYh2ih3aDP5VMAhP8znHiKGzW1sZhDpURTA4UAWY65cqjuNIOqhpUJ4psn0UQKAbp7PCIWkZlMHyvdNcwBLuul+ZD/7aPm4K1OdEMWDD2fj0LVn4Iyv2rKQwscwlmsx0TFP4Z/hiRC7jMFkp+QApbbUMkNNWY+hmZ8S+70kvYjs5M+xMXhdqYzHt4gh/mEhcGqYxIBWxcjPmLuGMLQ8LEfegfFWfRlDDn6Ujg5hGyX6CDSpwGC4CgnYPqLFtF65bud+khiLR82SRSGhwtrOnSQmATrYhDKAmgAAsvdWwO7VQzVSd5bNnsEMtUMprAoDLBRsRK9TFQeUfzl0voURGGZeSsq8V6nV1faTBJ04CpOWW6Y6eb8t5VSQl6LyW6ViBuouQ1ptNWE5yUW0bQhZewSF8dnuUBeELd+CDUPiQI8vp4Myoj0PdNC/40bbYYS04vZtmfmxDznfZJqgAGQRL1+wseT+75EBJBOS1f8eStQQYfkNTJDJr1Z5Bc0U4NEBNYnj+BiXxBeNP8slX7NXvbPSiccMcKheNvjtx3tmdAgSPna1Nn9bAgB8uWHGgfZDkGeM6aTE9wlL7wy7gEtzqdXLg+D5YdKrEkoJSq0QdX/VZ9zUrCUC6dbxElVpHnEUT78BM9WQERaGGlx84Q67tSf2Q9q3VBtyeWTj4y5VsSKCZqjGVg7Yj63IkATnRkpEgzlvFh4OJ6WQeCr0XEiJT2LNPJN5XN7VpyiRb3zDdKj8LErJ53KcUVSwRGyKe+0MAD9hLn8crndDYgrFmNYWBKLeWBxbhpYZJ+c1LYW8jTx8subhPXGqkUZfgQYc2wOYhzop8mX7w+6OQml4UFAAIXAAAAFkGaJGxDv/6plgADqfCj70Tp1CDcIIYAAAAOQZ5CeIX/AARWgM11ycEAAAAQAZ5hdEK/AAX4AAMkt/tEwAAAAA8BnmNqQr8ABdI2u77vsKEAAAATQZpoSahBaJlMCHf//qmWAACVgQAAAAxBnoZFESwv/wAAsoEAAAAQAZ6ldEK/AAXToB0LGJM7kQAAABABnqdqQr8ABdI2u7ySfccgAAAAE0GarEmoQWyZTAh3//6plgAAlYAAAAAMQZ7KRRUsL/8AALKBAAAAEAGe6XRCvwAF06AdCxiTO5AAAAAQAZ7rakK/AAXSNru8kn3HIAAAABNBmvBJqEFsmUwId//+qZYAAJWBAAAADEGfDkUVLC//AACygQAAABABny10Qr8ABdOgHQsYkzuRAAAAEAGfL2pCvwAF0ja7vJJ9xyAAAAATQZs0SahBbJlMCHf//qmWAACVgAAAAAxBn1JFFSwv/wAAsoEAAAAQAZ9xdEK/AAXToB0LGJM7kAAAABABn3NqQr8ABdI2u7ySfccgAAAAE0GbeEmoQWyZTAh3//6plgAAlYEAAAAMQZ+WRRUsL/8AALKAAAAAEAGftXRCvwAF06AdCxiTO5EAAAAQAZ+3akK/AAXSNru8kn3HIQAAABNBm7xJqEFsmUwId//+qZYAAJWAAAAADEGf2kUVLC//AACygQAAABABn/l0Qr8ABdOgHQsYkzuQAAAAEAGf+2pCvwAF0ja7vJJ9xyEAAAATQZvgSahBbJlMCHf//qmWAACVgQAAAAxBnh5FFSwv/wAAsoAAAAAQAZ49dEK/AAXToB0LGJM7kAAAABABnj9qQr8ABdI2u7ySfcchAAAAE0GaJEmoQWyZTAh3//6plgAAlYAAAAAMQZ5CRRUsL/8AALKBAAAAEAGeYXRCvwAF06AdCxiTO5AAAAAQAZ5jakK/AAXSNru8kn3HIQAAABNBmmhJqEFsmUwId//+qZYAAJWBAAAADEGehkUVLC//AACygQAAABABnqV0Qr8ABdOgHQsYkzuRAAAAEAGep2pCvwAF0ja7vJJ9xyAAAAATQZqsSahBbJlMCHf//qmWAACVgAAAAAxBnspFFSwv/wAAsoEAAAAQAZ7pdEK/AAXToB0LGJM7kAAAABABnutqQr8ABdI2u7ySfccgAAAAE0Ga8EmoQWyZTAh3//6plgAAlYEAAAAMQZ8ORRUsL/8AALKBAAAAEAGfLXRCvwAF06AdCxiTO5EAAAAQAZ8vakK/AAXSNru8kn3HIAAAABNBmzRJqEFsmUwId//+qZYAAJWAAAAADEGfUkUVLC//AACygQAAABABn3F0Qr8ABdOgHQsYkzuQAAAAEAGfc2pCvwAF0ja7vJJ9xyAAAAATQZt4SahBbJlMCHf//qmWAACVgQAAAAxBn5ZFFSwv/wAAsoAAAAAQAZ+1dEK/AAXToB0LGJM7kQAAABABn7dqQr8ABdI2u7ySfcchAAAAE0GbvEmoQWyZTAh3//6plgAAlYAAAAAMQZ/aRRUsL/8AALKBAAAAEAGf+XRCvwAF06AdCxiTO5AAAAAQAZ/7akK/AAXSNru8kn3HIQAAABNBm+BJqEFsmUwId//+qZYAAJWBAAAADEGeHkUVLC//AACygAAAABABnj10Qr8ABdOgHQsYkzuQAAAAEAGeP2pCvwAF0ja7vJJ9xyEAAAATQZokSahBbJlMCHf//qmWAACVgAAAAAxBnkJFFSwv/wAAsoEAAAAQAZ5hdEK/AAXToB0LGJM7kAAAABABnmNqQr8ABdI2u7ySfcchAAAAE0GaaEmoQWyZTAh3//6plgAAlYEAAAAMQZ6GRRUsL/8AALKBAAAAEAGepXRCvwAF06AdCxiTO5EAAAAQAZ6nakK/AAXSNru8kn3HIAAAABNBmqxJqEFsmUwId//+qZYAAJWAAAAADEGeykUVLC//AACygQAAABABnul0Qr8ABdOgHQsYkzuQAAAAEAGe62pCvwAF0ja7vJJ9xyAAAAATQZrwSahBbJlMCHf//qmWAACVgQAAAAxBnw5FFSwv/wAAsoEAAAAQAZ8tdEK/AAXToB0LGJM7kQAAABABny9qQr8ABdI2u7ySfccgAAAAE0GbNEmoQWyZTAh3//6plgAAlYAAAAAMQZ9SRRUsL/8AALKBAAAAEAGfcXRCvwAF06AdCxiTO5AAAAAQAZ9zakK/AAXSNru8kn3HIAAAABNBm3hJqEFsmUwId//+qZYAAJWBAAAADEGflkUVLC//AACygAAAABABn7V0Qr8ABdOgHQsYkzuRAAAAEAGft2pCvwAF0ja7vJJ9xyEAAAATQZu8SahBbJlMCHf//qmWAACVgAAAAAxBn9pFFSwv/wAAsoEAAAAQAZ/5dEK/AAXToB0LGJM7kAAAABABn/tqQr8ABdI2u7ySfcchAAAAE0Gb4EmoQWyZTAh3//6plgAAlYEAAAAMQZ4eRRUsL/8AALKAAAAAEAGePXRCvwAF06AdCxiTO5AAAAAQAZ4/akK/AAXSNru8kn3HIQAAABNBmiRJqEFsmUwId//+qZYAAJWAAAAADEGeQkUVLC//AACygQAAABABnmF0Qr8ABdOgHQsYkzuQAAAAEAGeY2pCvwAF0ja7vJJ9xyEAAAATQZpoSahBbJlMCHf//qmWAACVgQAAAAxBnoZFFSwv/wAAsoEAAAAQAZ6ldEK/AAXToB0LGJM7kQAAABABnqdqQr8ABdI2u7ySfccgAAAAE0GarEmoQWyZTAh3//6plgAAlYAAAAAMQZ7KRRUsL/8AALKBAAAAEAGe6XRCvwAF06AdCxiTO5AAAAAQAZ7rakK/AAXSNru8kn3HIAAAABNBmvBJqEFsmUwId//+qZYAAJWBAAAADEGfDkUVLC//AACygQAAABABny10Qr8ABdOgHQsYkzuRAAAAEAGfL2pCvwAF0ja7vJJ9xyAAAAATQZs0SahBbJlMCHf//qmWAACVgAAAAAxBn1JFFSwv/wAAsoEAAAAQAZ9xdEK/AAXToB0LGJM7kAAAABABn3NqQr8ABdI2u7ySfccgAAAAE0GbeEmoQWyZTAh3//6plgAAlYEAAAAMQZ+WRRUsL/8AALKAAAAAEAGftXRCvwAF06AdCxiTO5EAAAAQAZ+3akK/AAXSNru8kn3HIQAAABNBm7xJqEFsmUwId//+qZYAAJWAAAAADEGf2kUVLC//AACygQAAABABn/l0Qr8ABdOgHQsYkzuQAAAAEAGf+2pCvwAF0ja7vJJ9xyEAAAATQZvgSahBbJlMCHf//qmWAACVgQAAAAxBnh5FFSwv/wAAsoAAAAAQAZ49dEK/AAXToB0LGJM7kAAAABABnj9qQr8ABdI2u7ySfcchAAAAE0GaJEmoQWyZTAh3//6plgAAlYAAAAAMQZ5CRRUsL/8AALKBAAAAEAGeYXRCvwAF06AdCxiTO5AAAAAQAZ5jakK/AAXSNru8kn3HIQAAABNBmmhJqEFsmUwId//+qZYAAJWBAAAADEGehkUVLC//AACygQAAABABnqV0Qr8ABdOgHQsYkzuRAAAAEAGep2pCvwAF0ja7vJJ9xyAAAAATQZqsSahBbJlMCHf//qmWAACVgAAAAAxBnspFFSwv/wAAsoEAAAAQAZ7pdEK/AAXToB0LGJM7kAAAABABnutqQr8ABdI2u7ySfccgAAAAE0Ga8EmoQWyZTAh3//6plgAAlYEAAAAMQZ8ORRUsL/8AALKBAAAAEAGfLXRCvwAF06AdCxiTO5EAAAAQAZ8vakK/AAXSNru8kn3HIAAAABNBmzRJqEFsmUwId//+qZYAAJWAAAAADEGfUkUVLC//AACygQAAABABn3F0Qr8ABdOgHQsYkzuQAAAAEAGfc2pCvwAF0ja7vJJ9xyAAAAATQZt4SahBbJlMCHf//qmWAACVgQAAAAxBn5ZFFSwv/wAAsoAAAAAQAZ+1dEK/AAXToB0LGJM7kQAAABABn7dqQr8ABdI2u7ySfcchAAAAE0GbvEmoQWyZTAh3//6plgAAlYAAAAAMQZ/aRRUsL/8AALKBAAAAEAGf+XRCvwAF06AdCxiTO5AAAAAQAZ/7akK/AAXSNru8kn3HIQAAABNBm+BJqEFsmUwId//+qZYAAJWBAAAADEGeHkUVLC//AACygAAAABABnj10Qr8ABdOgHQsYkzuQAAAAEAGeP2pCvwAF0ja7vJJ9xyEAAAATQZokSahBbJlMCHf//qmWAACVgAAAAAxBnkJFFSwv/wAAsoEAAAAQAZ5hdEK/AAXToB0LGJM7kAAAABABnmNqQr8ABdI2u7ySfcchAAAAE0GaaEmoQWyZTAh3//6plgAAlYEAAAAMQZ6GRRUsL/8AALKBAAAAEAGepXRCvwAF06AdCxiTO5EAAAAQAZ6nakK/AAXSNru8kn3HIAAAABNBmqxJqEFsmUwId//+qZYAAJWAAAAADEGeykUVLC//AACygQAAABABnul0Qr8ABdOgHQsYkzuQAAAAEAGe62pCvwAF0ja7vJJ9xyAAAAATQZrwSahBbJlMCHf//qmWAACVgQAAAAxBnw5FFSwv/wAAsoEAAAAQAZ8tdEK/AAXToB0LGJM7kQAAABABny9qQr8ABdI2u7ySfccgAAAAE0GbNEmoQWyZTAh3//6plgAAlYAAAAAMQZ9SRRUsL/8AALKBAAAAEAGfcXRCvwAF06AdCxiTO5AAAAAQAZ9zakK/AAXSNru8kn3HIAAAABNBm3hJqEFsmUwId//+qZYAAJWBAAAADEGflkUVLC//AACygAAAABABn7V0Qr8ABdOgHQsYkzuRAAAAEAGft2pCvwAF0ja7vJJ9xyEAAAATQZu8SahBbJlMCHf//qmWAACVgAAAAAxBn9pFFSwv/wAAsoEAAAAQAZ/5dEK/AAXToB0LGJM7kAAAABABn/tqQr8ABdI2u7ySfcchAAAAEkGb4EmoQWyZTAhv//6nhAABJwAAAAxBnh5FFSwv/wAAsoAAAAAQAZ49dEK/AAXToB0LGJM7kAAAABABnj9qQr8ABdI2u7ySfcchAAAAEkGaJEmoQWyZTAhv//6nhAABJwAAAAxBnkJFFSwv/wAAsoEAAAAQAZ5hdEK/AAXToB0LGJM7kAAAABABnmNqQr8ABdI2u7ySfcchAAAAEkGaaEmoQWyZTAhf//6MsAAEjQAAAAxBnoZFFSwv/wAAsoEAAAAQAZ6ldEK/AAXToB0LGJM7kQAAABABnqdqQr8ABdI2u7ySfccgAAAAGkGaqUuoQhBbJEYIKAfyAf2HgCFf/jhAABFwAAAMiG1vb3YAAABsbXZoZAAAAAAAAAAAAAAAAAAAA+gAAB+QAAEAAAEAAAAAAAAAAAAAAAABAAAAAAAAAAAAAAAAAAAAAQAAAAAAAAAAAAAAAAAAQAAAAAAAAAAAAAAAAAAAAAAAAAAAAAAAAAAAAAAAAAIAAAuydHJhawAAAFx0a2hkAAAAAwAAAAAAAAAAAAAAAQAAAAAAAB+QAAAAAAAAAAAAAAAAAAAAAAABAAAAAAAAAAAAAAAAAAAAAQAAAAAAAAAAAAAAAAAAQAAAAAEQAAABEAAAAAAAJGVkdHMAAAAcZWxzdAAAAAAAAAABAAAfkAAABAAAAQAAAAALKm1kaWEAAAAgbWRoZAAAAAAAAAAAAAAAAAAAMgAAAZQAVcQAAAAAAC1oZGxyAAAAAAAAAAB2aWRlAAAAAAAAAAAAAAAAVmlkZW9IYW5kbGVyAAAACtVtaW5mAAAAFHZtaGQAAAABAAAAAAAAAAAAAAAkZGluZgAAABxkcmVmAAAAAAAAAAEAAAAMdXJsIAAAAAEAAAqVc3RibAAAAJVzdHNkAAAAAAAAAAEAAACFYXZjMQAAAAAAAAABAAAAAAAAAAAAAAAAAAAAAAEQARAASAAAAEgAAAAAAAAAAQAAAAAAAAAAAAAAAAAAAAAAAAAAAAAAAAAAAAAAAAAAABj//wAAAC9hdmNDAfQADf/hABdn9AANkZsoIhHQgAAAAwCAAAAZB4oUywEABWjr48RIAAAAGHN0dHMAAAAAAAAAAQAAAMoAAAIAAAAAFHN0c3MAAAAAAAAAAQAAAAEAAAZgY3R0cwAAAAAAAADKAAAAAQAABAAAAAABAAAKAAAAAAEAAAQAAAAAAQAAAAAAAAABAAACAAAAAAEAAAoAAAAAAQAABAAAAAABAAAAAAAAAAEAAAIAAAAAAQAACgAAAAABAAAEAAAAAAEAAAAAAAAAAQAAAgAAAAABAAAKAAAAAAEAAAQAAAAAAQAAAAAAAAABAAACAAAAAAEAAAoAAAAAAQAABAAAAAABAAAAAAAAAAEAAAIAAAAAAQAACgAAAAABAAAEAAAAAAEAAAAAAAAAAQAAAgAAAAABAAAKAAAAAAEAAAQAAAAAAQAAAAAAAAABAAACAAAAAAEAAAoAAAAAAQAABAAAAAABAAAAAAAAAAEAAAIAAAAAAQAACgAAAAABAAAEAAAAAAEAAAAAAAAAAQAAAgAAAAABAAAKAAAAAAEAAAQAAAAAAQAAAAAAAAABAAACAAAAAAEAAAoAAAAAAQAABAAAAAABAAAAAAAAAAEAAAIAAAAAAQAACgAAAAABAAAEAAAAAAEAAAAAAAAAAQAAAgAAAAABAAAKAAAAAAEAAAQAAAAAAQAAAAAAAAABAAACAAAAAAEAAAoAAAAAAQAABAAAAAABAAAAAAAAAAEAAAIAAAAAAQAACgAAAAABAAAEAAAAAAEAAAAAAAAAAQAAAgAAAAABAAAKAAAAAAEAAAQAAAAAAQAAAAAAAAABAAACAAAAAAEAAAoAAAAAAQAABAAAAAABAAAAAAAAAAEAAAIAAAAAAQAACgAAAAABAAAEAAAAAAEAAAAAAAAAAQAAAgAAAAABAAAKAAAAAAEAAAQAAAAAAQAAAAAAAAABAAACAAAAAAEAAAoAAAAAAQAABAAAAAABAAAAAAAAAAEAAAIAAAAAAQAACgAAAAABAAAEAAAAAAEAAAAAAAAAAQAAAgAAAAABAAAKAAAAAAEAAAQAAAAAAQAAAAAAAAABAAACAAAAAAEAAAoAAAAAAQAABAAAAAABAAAAAAAAAAEAAAIAAAAAAQAACgAAAAABAAAEAAAAAAEAAAAAAAAAAQAAAgAAAAABAAAKAAAAAAEAAAQAAAAAAQAAAAAAAAABAAACAAAAAAEAAAoAAAAAAQAABAAAAAABAAAAAAAAAAEAAAIAAAAAAQAACgAAAAABAAAEAAAAAAEAAAAAAAAAAQAAAgAAAAABAAAKAAAAAAEAAAQAAAAAAQAAAAAAAAABAAACAAAAAAEAAAoAAAAAAQAABAAAAAABAAAAAAAAAAEAAAIAAAAAAQAACgAAAAABAAAEAAAAAAEAAAAAAAAAAQAAAgAAAAABAAAKAAAAAAEAAAQAAAAAAQAAAAAAAAABAAACAAAAAAEAAAoAAAAAAQAABAAAAAABAAAAAAAAAAEAAAIAAAAAAQAACgAAAAABAAAEAAAAAAEAAAAAAAAAAQAAAgAAAAABAAAKAAAAAAEAAAQAAAAAAQAAAAAAAAABAAACAAAAAAEAAAoAAAAAAQAABAAAAAABAAAAAAAAAAEAAAIAAAAAAQAACgAAAAABAAAEAAAAAAEAAAAAAAAAAQAAAgAAAAABAAAKAAAAAAEAAAQAAAAAAQAAAAAAAAABAAACAAAAAAEAAAoAAAAAAQAABAAAAAABAAAAAAAAAAEAAAIAAAAAAQAACgAAAAABAAAEAAAAAAEAAAAAAAAAAQAAAgAAAAABAAAKAAAAAAEAAAQAAAAAAQAAAAAAAAABAAACAAAAAAEAAAoAAAAAAQAABAAAAAABAAAAAAAAAAEAAAIAAAAAAQAACgAAAAABAAAEAAAAAAEAAAAAAAAAAQAAAgAAAAABAAAKAAAAAAEAAAQAAAAAAQAAAAAAAAABAAACAAAAAAEAAAoAAAAAAQAABAAAAAABAAAAAAAAAAEAAAIAAAAAAQAACgAAAAABAAAEAAAAAAEAAAAAAAAAAQAAAgAAAAABAAAKAAAAAAEAAAQAAAAAAQAAAAAAAAABAAACAAAAAAEAAAoAAAAAAQAABAAAAAABAAAAAAAAAAEAAAIAAAAAAQAACgAAAAABAAAEAAAAAAEAAAAAAAAAAQAAAgAAAAABAAAKAAAAAAEAAAQAAAAAAQAAAAAAAAABAAACAAAAAAEAAAoAAAAAAQAABAAAAAABAAAAAAAAAAEAAAIAAAAAAQAABAAAAAAcc3RzYwAAAAAAAAABAAAAAQAAAMoAAAABAAADPHN0c3oAAAAAAAAAAAAAAMoAAAWRAAAAGgAAABIAAAAUAAAAEwAAABcAAAAQAAAAFAAAABQAAAAXAAAAEAAAABQAAAAUAAAAFwAAABAAAAAUAAAAFAAAABcAAAAQAAAAFAAAABQAAAAXAAAAEAAAABQAAAAUAAAAFwAAABAAAAAUAAAAFAAAABcAAAAQAAAAFAAAABQAAAAXAAAAEAAAABQAAAAUAAAAFwAAABAAAAAUAAAAFAAAABcAAAAQAAAAFAAAABQAAAAXAAAAEAAAABQAAAAUAAAAFwAAABAAAAAUAAAAFAAAABcAAAAQAAAAFAAAABQAAAAXAAAAEAAAABQAAAAUAAAAFwAAABAAAAAUAAAAFAAAABcAAAAQAAAAFAAAABQAAAAXAAAAEAAAABQAAAAUAAAAFwAAABAAAAAUAAAAFAAAABcAAAAQAAAAFAAAABQAAAAXAAAAEAAAABQAAAAUAAAAFwAAABAAAAAUAAAAFAAAABcAAAAQAAAAFAAAABQAAAAXAAAAEAAAABQAAAAUAAAAFwAAABAAAAAUAAAAFAAAABcAAAAQAAAAFAAAABQAAAAXAAAAEAAAABQAAAAUAAAAFwAAABAAAAAUAAAAFAAAABcAAAAQAAAAFAAAABQAAAAXAAAAEAAAABQAAAAUAAAAFwAAABAAAAAUAAAAFAAAABcAAAAQAAAAFAAAABQAAAAXAAAAEAAAABQAAAAUAAAAFwAAABAAAAAUAAAAFAAAABcAAAAQAAAAFAAAABQAAAAXAAAAEAAAABQAAAAUAAAAFwAAABAAAAAUAAAAFAAAABcAAAAQAAAAFAAAABQAAAAXAAAAEAAAABQAAAAUAAAAFwAAABAAAAAUAAAAFAAAABcAAAAQAAAAFAAAABQAAAAXAAAAEAAAABQAAAAUAAAAFwAAABAAAAAUAAAAFAAAABcAAAAQAAAAFAAAABQAAAAXAAAAEAAAABQAAAAUAAAAFwAAABAAAAAUAAAAFAAAABcAAAAQAAAAFAAAABQAAAAWAAAAEAAAABQAAAAUAAAAFgAAABAAAAAUAAAAFAAAABYAAAAQAAAAFAAAABQAAAAeAAAAFHN0Y28AAAAAAAAAAQAAADAAAABidWR0YQAAAFptZXRhAAAAAAAAACFoZGxyAAAAAAAAAABtZGlyYXBwbAAAAAAAAAAAAAAAAC1pbHN0AAAAJal0b28AAAAdZGF0YQAAAAEAAAAATGF2ZjU3LjgzLjEwMA==\" type=\"video/mp4\" />\n",
              "             </video>"
            ],
            "text/plain": [
              "<IPython.core.display.HTML object>"
            ]
          },
          "metadata": {
            "tags": []
          },
          "execution_count": 68
        }
      ]
    },
    {
      "cell_type": "markdown",
      "metadata": {
        "id": "C2dwDFwX5VNB",
        "colab_type": "text"
      },
      "source": [
        "* we can see that the agent does not explore its envoronment enough. This is due to the small constant epsilon value. Indeed, it would be better to to have a high epsilon value in the beginning to explore more and then a lower one to exploit.\n",
        "\n",
        "* We can also observe that the agent tend to be stuck in a particular zone, alternating between two or three cells for instance. These cells are already explored and there is no more reward associated to them, therefore, the explored celles should not be explored again. This should be taken into account in the algorithm.\n",
        "\n",
        "* Finally, Changing the temperature means changing the probability in the binomial law. Increasing the temperature means increasing the probability to get positive rewards (cheese) and lowering the probability to get in a poisonous cell. Therefore, we obtain better results but biased."
      ]
    },
    {
      "cell_type": "markdown",
      "metadata": {
        "id": "2ONYrTW_5VNC",
        "colab_type": "text"
      },
      "source": [
        "***\n",
        "\n",
        "The algorithm tends to not explore the map which can be an issue. We propose two ideas in order to encourage exploration:\n",
        "1. Incorporating a decreasing $\\epsilon$-greedy exploration. You can use the method ```set_epsilon```\n",
        "2. Append via the environment a new state that describes if a cell has been visited or not\n",
        "\n",
        "***\n",
        "__Question 10__ Design a new ```train_explore``` function and environment class ```EnvironmentExploring``` to tackle the issue of exploration.\n",
        "\n"
      ]
    },
    {
      "cell_type": "code",
      "metadata": {
        "id": "y5fTvpjp5VND",
        "colab_type": "code",
        "colab": {}
      },
      "source": [
        "def train_explore(agent,env,epoch,epsilon_decrease_rate=0.955,prefix=''):\n",
        "    # Number of won games\n",
        "    score = 0\n",
        "    loss = 0\n",
        "    \n",
        "    for e in range(epoch):\n",
        "        agent.set_epsilon((-0.5/epoch)*e + 0.5)\n",
        "        # At each epoch, we restart to a fresh game and get the initial state\n",
        "        state = env.reset()\n",
        "        # This assumes that the games will terminate\n",
        "        game_over = False\n",
        "\n",
        "        win = 0\n",
        "        lose = 0\n",
        "        \n",
        "        while not game_over:\n",
        "            \n",
        "            # Epsilon-greedy \n",
        "            agent.set_epsilon(agent.epsilon*epsilon_decrease_rate)\n",
        "            \n",
        "            # The agent performs an action\n",
        "            action = agent.act(state)\n",
        "\n",
        "            # Apply an action to the environment, get the next state, the reward\n",
        "            # and if the games end\n",
        "            prev_state = state\n",
        "            state, reward, game_over = env.act(action, True)\n",
        "\n",
        "            # Update the counters\n",
        "            if reward > 0:\n",
        "                win = win + reward\n",
        "            if reward < 0:\n",
        "                lose = lose - reward\n",
        "\n",
        "            # Apply the reinforcement strategy\n",
        "            loss = agent.reinforce(prev_state, state,  action, reward, game_over)\n",
        "        \n",
        "         # Save as a mp4\n",
        "        if e % 10 == 0:\n",
        "            env.draw(prefix+str(e))\n",
        "\n",
        "        # Update stats\n",
        "        score += win-lose\n",
        "\n",
        "        print(\"Epoch {:03d}/{:03d} | Loss {:.4f} | Win/lose count {}/{} ({})\"\n",
        "              .format(e, epoch, loss, win, lose, win-lose))\n",
        "        agent.save(name_weights=prefix+'model.h5',name_model=prefix+'model.json')\n",
        "    \n",
        "    \n",
        "        \n",
        "class EnvironmentExploring(object):\n",
        "    def __init__(self, grid_size=10, max_time=500, temperature=0.1):\n",
        "        grid_size = grid_size+4\n",
        "        self.grid_size = grid_size\n",
        "        self.max_time = max_time\n",
        "        self.temperature = temperature\n",
        "        \n",
        "        #Initializing the board\n",
        "        self.board = np.zeros((grid_size,grid_size))\n",
        "        self.position = np.zeros((grid_size,grid_size))\n",
        "        self.malus_position = np.zeros((grid_size,grid_size))\n",
        "        \n",
        "        # coordinate of the cat\n",
        "        self.x = 0\n",
        "        self.y = 1\n",
        "        \n",
        "        self.t = 0\n",
        "\n",
        "        self.scale=16\n",
        "\n",
        "        self.to_draw = np.zeros((max_time+2, grid_size*self.scale, grid_size*self.scale, 3))\n",
        "        \n",
        "    def draw(self,e):\n",
        "        skvideo.io.vwrite(str(e) + '.mp4', self.to_draw)\n",
        "    \n",
        "    def get_frame(self,t):\n",
        "        b = np.zeros((self.grid_size,self.grid_size,3))+128\n",
        "        b[self.board>0,0] = 256\n",
        "        b[self.board < 0, 2] = 256\n",
        "        b[self.x,self.y,:]=256\n",
        "        b[-2:,:,:]=0\n",
        "        b[:,-2:,:]=0\n",
        "        b[:2,:,:]=0\n",
        "        b[:,:2,:]=0\n",
        "        \n",
        "        b =  cv2.resize(b, None, fx=self.scale, fy=self.scale, interpolation=cv2.INTER_NEAREST)\n",
        "\n",
        "        self.to_draw[t,:,:,:]=b\n",
        "    \n",
        "    def act(self, action,train=False):\n",
        "        \"\"\"This function returns the new state, reward and decides if the\n",
        "        game ends.\"\"\"\n",
        "        if not train:\n",
        "            self.epsilon_agent=0#on met epsilon a 0 en test\n",
        "        self.get_frame(int(self.t))\n",
        "\n",
        "        self.position = np.zeros((self.grid_size, self.grid_size))\n",
        "\n",
        "        self.position[0:2,:]= -1\n",
        "        self.position[:,0:2] = -1\n",
        "        self.position[-2:, :] = -1\n",
        "        self.position[-2:, :] = -1\n",
        "    \n",
        "        self.position[self.x, self.y] = 1\n",
        "        if action == 0:\n",
        "            if self.x == self.grid_size-3:\n",
        "                self.x = self.x-1\n",
        "            else:\n",
        "                self.x = self.x + 1\n",
        "        elif action == 1:\n",
        "            if self.x == 2:\n",
        "                self.x = self.x+1\n",
        "            else:\n",
        "                self.x = self.x-1\n",
        "        elif action == 2:\n",
        "            if self.y == self.grid_size - 3:\n",
        "                self.y = self.y - 1\n",
        "            else:\n",
        "                self.y = self.y + 1\n",
        "        elif action == 3:\n",
        "            if self.y == 2:\n",
        "                self.y = self.y + 1\n",
        "            else:\n",
        "                self.y = self.y - 1\n",
        "        else:\n",
        "            RuntimeError('Error: action not recognized')\n",
        "        \n",
        "        self.t = self.t + 1\n",
        "        reward = 0\n",
        "        \n",
        "        if train:\n",
        "            reward = -self.malus_position[self.x, self.y]\n",
        "        self.malus_position[self.x, self.y] = 0.1\n",
        "        reward += self.board[self.x, self.y]\n",
        "        self.board[self.x, self.y] = 0\n",
        "        game_over = self.t > self.max_time\n",
        "        \n",
        "        state = np.concatenate((self.malus_position.reshape(self.grid_size, self.grid_size,1),\n",
        "                                self.board.reshape(self.grid_size, self.grid_size,1),\n",
        "                                self.position.reshape(self.grid_size, self.grid_size,1)),axis=2)\n",
        "        state = state[self.x-2:self.x+3,self.y-2:self.y+3,:]\n",
        "        \n",
        "        return state, reward, game_over\n",
        "    \n",
        "    def reset(self):\n",
        "        \"\"\"This function resets the game and returns the initial state\"\"\"\n",
        "    \n",
        "        self.x = np.random.randint(3, self.grid_size-3, size=1)[0]\n",
        "        self.y = np.random.randint(3, self.grid_size-3, size=1)[0]\n",
        "\n",
        "        bonus = 0.5*np.random.binomial(1,self.temperature,size=self.grid_size**2)\n",
        "        bonus = bonus.reshape(self.grid_size,self.grid_size)\n",
        "\n",
        "        malus = -1.0*np.random.binomial(1,self.temperature,size=self.grid_size**2)\n",
        "        malus = malus.reshape(self.grid_size, self.grid_size)\n",
        "\n",
        "        self.to_draw = np.zeros((self.max_time+2, self.grid_size*self.scale, self.grid_size*self.scale, 3))\n",
        "        \n",
        "        malus[bonus>0]=0\n",
        "\n",
        "        self.board = bonus + malus\n",
        "        \n",
        "        self.board = bonus + malus\n",
        "        self.malus_position = np.zeros((self.grid_size,self.grid_size))\n",
        "        self.position = np.zeros((self.grid_size, self.grid_size))\n",
        "        self.position[0:2,:]= -1\n",
        "        self.position[:,0:2] = -1\n",
        "        self.position[-2:, :] = -1\n",
        "        self.position[-2:, :] = -1\n",
        "        self.board[self.x,self.y] = 0\n",
        "        self.t = 0\n",
        "        \n",
        "        state = np.concatenate((self.malus_position.reshape(self.grid_size, self.grid_size,1),\n",
        "                                self.board.reshape(self.grid_size, self.grid_size,1),\n",
        "                                self.position.reshape(self.grid_size, self.grid_size,1)),axis=2)\n",
        "        \n",
        "        state = state[self.x - 2:self.x + 3, self.y - 2:self.y + 3, :]\n",
        "        return state"
      ],
      "execution_count": 0,
      "outputs": []
    },
    {
      "cell_type": "code",
      "metadata": {
        "id": "QKlTRgqn5VNN",
        "colab_type": "code",
        "outputId": "20e9d244-ed21-4ce3-a496-8ad0f1dc305e",
        "colab": {
          "base_uri": "https://localhost:8080/",
          "height": 1000
        }
      },
      "source": [
        "# Training\n",
        "env = EnvironmentExploring(grid_size=size, max_time=T, temperature=0.3)\n",
        "agent = DQN_CNN(size, lr=.1, epsilon = 0.1, memory_size=2000, batch_size = 32,n_state=3)\n",
        "train_explore(agent, env, epochs_train, prefix='cnn_train_explore')\n",
        "HTML(display_videos('cnn_train_explore10.mp4'))"
      ],
      "execution_count": 0,
      "outputs": [
        {
          "output_type": "stream",
          "text": [
            "Epoch 000/100 | Loss 0.0366 | Win/lose count 4.0/20.800000000000026 (-16.800000000000026)\n",
            "Epoch 001/100 | Loss 0.0804 | Win/lose count 5.5/18.49999999999998 (-12.999999999999979)\n",
            "Epoch 002/100 | Loss 0.3012 | Win/lose count 5.0/22.300000000000036 (-17.300000000000036)\n",
            "Epoch 003/100 | Loss 0.5236 | Win/lose count 4.5/16.79999999999997 (-12.299999999999969)\n",
            "Epoch 004/100 | Loss 0.6242 | Win/lose count 6.5/17.99999999999999 (-11.49999999999999)\n",
            "Epoch 005/100 | Loss 0.5028 | Win/lose count 13.5/14.199999999999966 (-0.6999999999999655)\n",
            "Epoch 006/100 | Loss 0.3092 | Win/lose count 6.0/18.29999999999999 (-12.29999999999999)\n",
            "Epoch 007/100 | Loss 0.3135 | Win/lose count 11.5/15.499999999999961 (-3.999999999999961)\n",
            "Epoch 008/100 | Loss 0.2248 | Win/lose count 13.5/16.199999999999964 (-2.6999999999999638)\n",
            "Epoch 009/100 | Loss 0.2505 | Win/lose count 3.5/18.29999999999999 (-14.79999999999999)\n",
            "Epoch 010/100 | Loss 0.2101 | Win/lose count 11.5/16.399999999999963 (-4.899999999999963)\n",
            "Epoch 011/100 | Loss 0.2147 | Win/lose count 11.5/16.29999999999996 (-4.799999999999962)\n",
            "Epoch 012/100 | Loss 0.1586 | Win/lose count 8.0/18.7 (-10.7)\n",
            "Epoch 013/100 | Loss 0.1151 | Win/lose count 4.5/17.099999999999973 (-12.599999999999973)\n",
            "Epoch 014/100 | Loss 0.1393 | Win/lose count 7.5/18.9 (-11.399999999999999)\n",
            "Epoch 015/100 | Loss 0.1060 | Win/lose count 19.0/12.099999999999973 (6.900000000000027)\n",
            "Epoch 016/100 | Loss 0.1018 | Win/lose count 11.5/17.299999999999976 (-5.799999999999976)\n",
            "Epoch 017/100 | Loss 0.0420 | Win/lose count 9.0/17.299999999999976 (-8.299999999999976)\n",
            "Epoch 018/100 | Loss 0.0422 | Win/lose count 13.0/15.499999999999961 (-2.499999999999961)\n",
            "Epoch 019/100 | Loss 0.0573 | Win/lose count 16.0/16.49999999999997 (-0.4999999999999716)\n",
            "Epoch 020/100 | Loss 0.0712 | Win/lose count 22.5/13.79999999999997 (8.70000000000003)\n",
            "Epoch 021/100 | Loss 0.5551 | Win/lose count 14.5/15.99999999999996 (-1.4999999999999591)\n",
            "Epoch 022/100 | Loss 0.9133 | Win/lose count 10.0/15.99999999999996 (-5.999999999999959)\n",
            "Epoch 023/100 | Loss 0.5601 | Win/lose count 10.0/20.60000000000003 (-10.60000000000003)\n",
            "Epoch 024/100 | Loss 0.8692 | Win/lose count 9.0/15.499999999999961 (-6.499999999999961)\n",
            "Epoch 025/100 | Loss 0.9623 | Win/lose count 14.0/14.199999999999966 (-0.19999999999996554)\n",
            "Epoch 026/100 | Loss 0.7080 | Win/lose count 3.5/19.900000000000016 (-16.400000000000016)\n",
            "Epoch 027/100 | Loss 0.6487 | Win/lose count 14.0/14.299999999999965 (-0.2999999999999652)\n",
            "Epoch 028/100 | Loss 0.5261 | Win/lose count 19.5/13.799999999999972 (5.700000000000028)\n",
            "Epoch 029/100 | Loss 0.3576 | Win/lose count 14.0/15.099999999999966 (-1.099999999999966)\n",
            "Epoch 030/100 | Loss 0.1714 | Win/lose count 20.5/14.599999999999975 (5.900000000000025)\n",
            "Epoch 031/100 | Loss 0.3489 | Win/lose count 20.5/14.099999999999973 (6.400000000000027)\n",
            "Epoch 032/100 | Loss 0.4443 | Win/lose count 18.5/14.199999999999966 (4.3000000000000345)\n",
            "Epoch 033/100 | Loss 0.5662 | Win/lose count 17.5/17.09999999999998 (0.4000000000000199)\n",
            "Epoch 034/100 | Loss 0.3353 | Win/lose count 17.5/18.2 (-0.6999999999999993)\n",
            "Epoch 035/100 | Loss 0.6347 | Win/lose count 20.0/17.09999999999998 (2.90000000000002)\n",
            "Epoch 036/100 | Loss 0.5363 | Win/lose count 17.0/16.799999999999972 (0.2000000000000277)\n",
            "Epoch 037/100 | Loss 0.6035 | Win/lose count 19.5/15.599999999999968 (3.9000000000000323)\n",
            "Epoch 038/100 | Loss 0.6570 | Win/lose count 16.5/16.499999999999968 (3.197442310920451e-14)\n",
            "Epoch 039/100 | Loss 0.9031 | Win/lose count 13.0/17.099999999999973 (-4.099999999999973)\n",
            "Epoch 040/100 | Loss 0.5698 | Win/lose count 13.5/15.499999999999961 (-1.999999999999961)\n",
            "Epoch 041/100 | Loss 0.4802 | Win/lose count 19.5/15.79999999999996 (3.70000000000004)\n",
            "Epoch 042/100 | Loss 0.5703 | Win/lose count 14.5/17.699999999999985 (-3.199999999999985)\n",
            "Epoch 043/100 | Loss 0.6439 | Win/lose count 22.0/14.499999999999968 (7.500000000000032)\n",
            "Epoch 044/100 | Loss 0.7829 | Win/lose count 13.0/19.700000000000014 (-6.7000000000000135)\n",
            "Epoch 045/100 | Loss 0.8447 | Win/lose count 16.5/15.999999999999963 (0.5000000000000373)\n",
            "Epoch 046/100 | Loss 0.7419 | Win/lose count 22.0/13.09999999999997 (8.90000000000003)\n",
            "Epoch 047/100 | Loss 0.6849 | Win/lose count 19.5/15.599999999999966 (3.900000000000034)\n",
            "Epoch 048/100 | Loss 0.7357 | Win/lose count 17.5/14.199999999999973 (3.3000000000000274)\n",
            "Epoch 049/100 | Loss 0.9647 | Win/lose count 26.0/12.699999999999969 (13.300000000000031)\n",
            "Epoch 050/100 | Loss 0.8263 | Win/lose count 16.5/21.200000000000045 (-4.7000000000000455)\n",
            "Epoch 051/100 | Loss 0.8486 | Win/lose count 20.5/16.79999999999997 (3.7000000000000313)\n",
            "Epoch 052/100 | Loss 0.6955 | Win/lose count 19.0/15.999999999999975 (3.000000000000025)\n",
            "Epoch 053/100 | Loss 0.5535 | Win/lose count 24.5/16.599999999999973 (7.900000000000027)\n",
            "Epoch 054/100 | Loss 0.5638 | Win/lose count 10.0/17.999999999999996 (-7.9999999999999964)\n",
            "Epoch 055/100 | Loss 0.6555 | Win/lose count 18.5/18.50000000000001 (-1.0658141036401503e-14)\n",
            "Epoch 056/100 | Loss 0.9150 | Win/lose count 17.0/16.699999999999974 (0.3000000000000256)\n",
            "Epoch 057/100 | Loss 0.3674 | Win/lose count 18.5/15.299999999999965 (3.200000000000035)\n",
            "Epoch 058/100 | Loss 0.4375 | Win/lose count 12.5/15.499999999999963 (-2.9999999999999627)\n",
            "Epoch 059/100 | Loss 0.5222 | Win/lose count 14.5/16.19999999999996 (-1.6999999999999602)\n",
            "Epoch 060/100 | Loss 0.5982 | Win/lose count 15.0/16.699999999999967 (-1.6999999999999673)\n",
            "Epoch 061/100 | Loss 0.5084 | Win/lose count 12.0/19.000000000000007 (-7.000000000000007)\n",
            "Epoch 062/100 | Loss 0.4504 | Win/lose count 18.5/18.09999999999999 (0.40000000000000924)\n",
            "Epoch 063/100 | Loss 0.4419 | Win/lose count 18.0/14.19999999999997 (3.800000000000029)\n",
            "Epoch 064/100 | Loss 0.2419 | Win/lose count 22.5/13.399999999999975 (9.100000000000025)\n",
            "Epoch 065/100 | Loss 0.5464 | Win/lose count 20.0/15.69999999999997 (4.300000000000029)\n",
            "Epoch 066/100 | Loss 0.2932 | Win/lose count 22.0/13.399999999999972 (8.600000000000028)\n",
            "Epoch 067/100 | Loss 0.3767 | Win/lose count 14.0/15.299999999999962 (-1.2999999999999616)\n",
            "Epoch 068/100 | Loss 0.5026 | Win/lose count 8.5/19.0 (-10.5)\n",
            "Epoch 069/100 | Loss 0.3760 | Win/lose count 31.0/11.799999999999985 (19.200000000000017)\n",
            "Epoch 070/100 | Loss 0.5477 | Win/lose count 16.5/11.999999999999977 (4.500000000000023)\n",
            "Epoch 071/100 | Loss 0.7872 | Win/lose count 22.0/11.999999999999973 (10.000000000000027)\n",
            "Epoch 072/100 | Loss 0.7966 | Win/lose count 15.5/16.99999999999998 (-1.4999999999999787)\n",
            "Epoch 073/100 | Loss 0.8750 | Win/lose count 22.0/10.99999999999998 (11.00000000000002)\n",
            "Epoch 074/100 | Loss 0.8198 | Win/lose count 26.0/10.29999999999998 (15.70000000000002)\n",
            "Epoch 075/100 | Loss 0.8705 | Win/lose count 21.5/13.599999999999978 (7.900000000000022)\n",
            "Epoch 076/100 | Loss 1.0767 | Win/lose count 15.0/16.199999999999964 (-1.1999999999999638)\n",
            "Epoch 077/100 | Loss 0.8897 | Win/lose count 9.0/16.899999999999967 (-7.899999999999967)\n",
            "Epoch 078/100 | Loss 1.0188 | Win/lose count 12.5/16.399999999999967 (-3.8999999999999666)\n",
            "Epoch 079/100 | Loss 0.7777 | Win/lose count 10.0/17.49999999999998 (-7.499999999999979)\n",
            "Epoch 080/100 | Loss 0.7207 | Win/lose count 16.5/14.199999999999966 (2.3000000000000345)\n",
            "Epoch 081/100 | Loss 0.7247 | Win/lose count 13.5/13.899999999999967 (-0.3999999999999666)\n",
            "Epoch 082/100 | Loss 0.5147 | Win/lose count 27.5/13.199999999999974 (14.300000000000026)\n",
            "Epoch 083/100 | Loss 0.7606 | Win/lose count 25.5/11.199999999999976 (14.300000000000024)\n",
            "Epoch 084/100 | Loss 0.6798 | Win/lose count 26.0/14.499999999999973 (11.500000000000027)\n",
            "Epoch 085/100 | Loss 0.5365 | Win/lose count 18.5/16.599999999999977 (1.9000000000000234)\n",
            "Epoch 086/100 | Loss 0.6259 | Win/lose count 16.0/13.999999999999966 (2.0000000000000338)\n",
            "Epoch 087/100 | Loss 0.8766 | Win/lose count 24.0/14.499999999999972 (9.500000000000028)\n",
            "Epoch 088/100 | Loss 0.6118 | Win/lose count 21.0/13.399999999999972 (7.600000000000028)\n",
            "Epoch 089/100 | Loss 0.6707 | Win/lose count 27.5/12.299999999999983 (15.200000000000017)\n",
            "Epoch 090/100 | Loss 0.8648 | Win/lose count 14.0/15.299999999999965 (-1.2999999999999652)\n",
            "Epoch 091/100 | Loss 0.8763 | Win/lose count 10.5/16.69999999999997 (-6.199999999999971)\n",
            "Epoch 092/100 | Loss 0.8102 | Win/lose count 16.0/14.299999999999965 (1.7000000000000348)\n",
            "Epoch 093/100 | Loss 0.7280 | Win/lose count 22.0/15.39999999999997 (6.60000000000003)\n",
            "Epoch 094/100 | Loss 0.5790 | Win/lose count 13.5/15.99999999999996 (-2.499999999999959)\n",
            "Epoch 095/100 | Loss 0.6120 | Win/lose count 19.5/15.099999999999966 (4.400000000000034)\n",
            "Epoch 096/100 | Loss 0.8370 | Win/lose count 19.0/13.799999999999969 (5.200000000000031)\n",
            "Epoch 097/100 | Loss 0.6507 | Win/lose count 19.0/15.999999999999966 (3.0000000000000338)\n",
            "Epoch 098/100 | Loss 0.4105 | Win/lose count 11.0/17.09999999999998 (-6.09999999999998)\n",
            "Epoch 099/100 | Loss 0.7088 | Win/lose count 19.5/14.499999999999966 (5.000000000000034)\n"
          ],
          "name": "stdout"
        },
        {
          "output_type": "execute_result",
          "data": {
            "text/html": [
              "<video alt=\"test\" controls>\n",
              "                <source src=\"data:video/mp4;base64,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\" type=\"video/mp4\" />\n",
              "             </video>"
            ],
            "text/plain": [
              "<IPython.core.display.HTML object>"
            ]
          },
          "metadata": {
            "tags": []
          },
          "execution_count": 75
        }
      ]
    },
    {
      "cell_type": "code",
      "metadata": {
        "id": "bvOkkv5Q5VNS",
        "colab_type": "code",
        "outputId": "16a0287f-9b21-406d-8a73-0b8450253bd8",
        "colab": {
          "base_uri": "https://localhost:8080/",
          "height": 565
        }
      },
      "source": [
        "# Evaluation\n",
        "test(agent,env,epochs_test,prefix='cnn_test_explore')\n",
        "HTML(display_videos('cnn_test_explore10.mp4'))"
      ],
      "execution_count": 0,
      "outputs": [
        {
          "output_type": "stream",
          "text": [
            "Win/lose count 17.0/3.0. Average score (14.0)\n",
            "Win/lose count 12.0/2.0. Average score (12.0)\n",
            "Win/lose count 9.0/0. Average score (11.0)\n",
            "Win/lose count 26.0/5.0. Average score (13.5)\n",
            "Win/lose count 8.0/2.0. Average score (12.0)\n",
            "Win/lose count 10.5/1.0. Average score (11.583333333333334)\n",
            "Win/lose count 8.0/2.0. Average score (10.785714285714286)\n",
            "Win/lose count 12.5/5.0. Average score (10.375)\n",
            "Win/lose count 16.0/4.0. Average score (10.555555555555555)\n",
            "Win/lose count 14.0/2.0. Average score (10.7)\n",
            "Win/lose count 9.5/2.0. Average score (10.409090909090908)\n",
            "Win/lose count 5.0/0. Average score (9.958333333333334)\n",
            "Win/lose count 7.0/0. Average score (9.73076923076923)\n",
            "Win/lose count 7.5/2.0. Average score (9.428571428571429)\n",
            "Win/lose count 12.0/4.0. Average score (9.333333333333334)\n",
            "Final score: 9.333333333333334\n"
          ],
          "name": "stdout"
        },
        {
          "output_type": "execute_result",
          "data": {
            "text/html": [
              "<video alt=\"test\" controls>\n",
              "                <source src=\"data:video/mp4;base64,AAAAIGZ0eXBpc29tAAACAGlzb21pc28yYXZjMW1wNDEAAAAIZnJlZQAAFxltZGF0AAACrQYF//+p3EXpvebZSLeWLNgg2SPu73gyNjQgLSBjb3JlIDE1MiByMjg1NCBlOWE1OTAzIC0gSC4yNjQvTVBFRy00IEFWQyBjb2RlYyAtIENvcHlsZWZ0IDIwMDMtMjAxNyAtIGh0dHA6Ly93d3cudmlkZW9sYW4ub3JnL3gyNjQuaHRtbCAtIG9wdGlvbnM6IGNhYmFjPTEgcmVmPTMgZGVibG9jaz0xOjA6MCBhbmFseXNlPTB4MToweDExMSBtZT1oZXggc3VibWU9NyBwc3k9MSBwc3lfcmQ9MS4wMDowLjAwIG1peGVkX3JlZj0xIG1lX3JhbmdlPTE2IGNocm9tYV9tZT0xIHRyZWxsaXM9MSA4eDhkY3Q9MCBjcW09MCBkZWFkem9uZT0yMSwxMSBmYXN0X3Bza2lwPTEgY2hyb21hX3FwX29mZnNldD00IHRocmVhZHM9MyBsb29rYWhlYWRfdGhyZWFkcz0xIHNsaWNlZF90aHJlYWRzPTAgbnI9MCBkZWNpbWF0ZT0xIGludGVybGFjZWQ9MCBibHVyYXlfY29tcGF0PTAgY29uc3RyYWluZWRfaW50cmE9MCBiZnJhbWVzPTMgYl9weXJhbWlkPTIgYl9hZGFwdD0xIGJfYmlhcz0wIGRpcmVjdD0xIHdlaWdodGI9MSBvcGVuX2dvcD0wIHdlaWdodHA9MiBrZXlpbnQ9MjUwIGtleWludF9taW49MjUgc2NlbmVjdXQ9NDAgaW50cmFfcmVmcmVzaD0wIHJjX2xvb2thaGVhZD00MCByYz1jcmYgbWJ0cmVlPTEgY3JmPTIzLjAgcWNvbXA9MC42MCBxcG1pbj0wIHFwbWF4PTY5IHFwc3RlcD00IGlwX3JhdGlvPTEuNDAgYXE9MToxLjAwAIAAAAMqZYiEADP//vaG+BTYUyP+T7/8I/+5H7cfWfrixkIJvrVeQ9GAMl8a/5lGYaXpyc8t7R+vTNAEZz8ZS8pY/so8y5CMyOpB8ClwE+/AppMihFQp+8otYqyk7VmX/QvNzqqq5MhEXzvjqqq16iBrW5FC75udTZzq0wOBGPBN18h9nmiCtnBPwRmUVu5Fedg+9tY4CtCf801pm6h5CKi/siO5QWXxd6gKVPfNoW2mzoynB3srExyqeYADyh9KSYPS25Lrz12DmFDn0plltznvxPwD8OVsiJ2MMgwDzghyKmSfiNoQJ1w9Hp03Bf0lSWX4kWKsOj8JgHbi4d72y10ZDSFUqYICQF6kol25160f5l9pli/Lg+dWzQmxeAWTWIk0xwuZxPrk0GyyW8GCHIaOYIzyZTi2Mxp5Rlqv4p5PaBgzy1Cyi1djD27uWlX2oGhH+ZcYjjJ9r94El40UZiyRvyuLfdZOGrvhl6Qhno6of/8By3j3wVKknF9zRaewuDsXdvHKupfa/PSB/vl+jBqp/sLPlPVCOMzUyy0amIhQiiGz1vylg0BXS3oc469/ZOIIclqC/PddXlrbKaDPi4vesG1gXIAAiX5mPvVV//RLaY0LXSkjVfyGNm+L7UU1/PuH73J6kU22TSwABWfVd6RHpq0AsF7UpVExghGLBVUGzhzlsqBc5zz07dU97WwAlHBc9EFBF/jiW89dwDueqoIp5elctsBp2aD6uQfo2BovaM/QoWexivVmoS5IHNzi+4uvx2AJpoB00jK4+i0P1aMGzQYLcHN102jSTzFekb20gVmAKLKAQJANfGvQlniJlDl8fQNwg4fWU5YUIwW6okAIAEMt1sRb4tievUNV3qp0CoT3NdWS4dgwf/iFINQuL3plICb9OIoEq5H07PQcLRUBAISuHXaCuVe5iS5beK33Vc7HSEmFF8cRkt3zT6J5k46Bgl+r229sqHhrfwNTVOUPPgAqMJmZi4mAp1qoAAiAw2DBGlysRYY1WvaYqgDWDU42TSDmBiMBbrw54mr6UmHcP431ZEXrbCtDz9n6gX3G9qoAZF/nusMpy7gAAL2BAAAAFUGaIWxDf/6nhAHWMCa5Ci5M8O0ruAAAABpBmkM8IZMphDP//p4QBBfiH+CwBp4bYKn0kQAAABABnmJqQr8A3JLadeAJ/OGAAAAAGEGaZEnhDyZTAhn//p4QAbv19/IkR9YR6QAAABhBmoVJ4Q8mUwIZ//6eEAElEOP54L+SHTUAAAAeQZqnSeEPJlMFETwz//6eEAEu+c3xV3ggcq3FXRb1AAAAEAGexmpCvwA+KuDXHiraXOEAAAAYQZrISeEPJlMCGf/+nhAAxPr7+RIj6wouAAAAGEGa6UnhDyZTAhn//p4QAHy9ffyJEfWFswAAABlBmwpJ4Q8mUwIb//6nhAAVH3U/UcaEh1BBAAAAHUGbLEnhDyZTBRE8M//+nhAANP6+/oV0bJi2CrfwAAAAEAGfS2pCvwALE25FXgCgj4AAAAAeQZtOSeEPJlMFPDP//p4QACKiHKtwXc+4Oyvv5xUhAAAAEAGfbWpCvwAHQZ4Q8aGtCoEAAAAXQZtvSeEPJlMCGf/+nhAANfIY5+l/c60AAAAYQZuQSeEPJlMCGf/+nhAAU/gxz+HOb65TAAAAGEGbsUnhDyZTAhn//p4QAFYr3GhdN91yJAAAABhBm9JJ4Q8mUwIZ//6eEACCnCOfw5zfW08AAAAYQZvzSeEPJlMCGf/+nhAAzchjn8Oc31qBAAAAGEGaFEnhDyZTAhn//p4QAT3gxz+HOb6z6QAAABhBmjVJ4Q8mUwIb//6nhABSPjToK1mU1wcAAAAdQZpXSeEPJlMFETwz//6eEALlwbW/owIFHkF+Or4AAAAQAZ52akK/AJrs8cr+3D6lQQAAABhBmnhJ4Q8mUwIb//6nhAEkQBZtjFCUTcEAAAAfQZqaSeEPJlMFETw3//6nhAEl+jnyTTr762YoR+fKgAAAABABnrlqQr8A7QLznWhheInBAAAAHEGavEnhDyZTBTwz//6eEALX7pvtKoXLrZq2KCAAAAAQAZ7bakK/AJbJ851oYXi0wQAAABhBmt1J4Q8mUwIZ//6eEAHG9fd2nN3Ft9MAAAAZQZr+SeEPJlMCG//+p4QAcb2D/CcFuhJlQAAAAB5BmwBJ4Q8mUwURPDP//p4QAR74h/gr/1p0jYqw33QAAAAPAZ8/akK/ADtg/qkUCVW9AAAAGUGbIUnhDyZTAhv//qeEAC6+6n6jjQkOR8AAAAAdQZtDSeEPJlMFETw3//6nhAAdz2D/LXS3OCaJ9c0AAAAQAZ9iakK/ABiCW068AUBAgAAAABlBm2RJ4Q8mUwIb//6nhAAMn7B/hOC3QrFBAAAAGkGbh0nhDyZTAhv//qeEAAyNqDb5j8M2XB9BAAAAEkGfpUURPCv/AAo9jwISMfvxgQAAAA4Bn8ZqQr8ACj2PXT9WjQAAABxBm8lJqEFomUwU8M/+nhAAMn6+/Ta9SnUbjv0gAAAAEAGf6GpCvwAKhSjeaYq2zsAAAAAZQZvqSeEKUmUwIb/+p4QACDfHT6jjQkPlQQAAAB1BmgxJ4Q6JlMFNEwz//p4QABYa/B6F03vAHaAkwAAAABABnitqQr8ABJdiPJcz5YaAAAAAGEGaLUnhDyZTAhv//qeEAAXPFaQQif5cawAAABhBmk5J4Q8mUwIb//6nhAAI6gCzbGKE70EAAAAfQZpwSeEPJlMFETw7//6plgAEp+PPy6XlWdEC3GsogQAAABABno9qQr8AB21cGuPFW3UgAAAAHkGakknhDyZTBTw7//6plgADBe0v7FgOiBbibS5zagAAABABnrFqQr8ABNZZDD6AkH3pAAAAJUGatknhDyZTAh3//qmWAAMt7DfMssYVV4FM1xU8CiT1/3nm4/cAAAAQQZ7URRE8L/8AA7X8PXXWQAAAAA8BnvN0Qr8ABR8ydwbJeqEAAAAPAZ71akK/AAUflA8mCXqAAAAAE0Ga+kmoQWiZTAh3//6plgAAlYEAAAAMQZ8YRREsL/8AALKBAAAAEAGfN3RCvwAFH6Ac0SEdN6gAAAAQAZ85akK/AAUeNruA51ob8QAAABNBmz5JqEFsmUwId//+qZYAAJWAAAAADEGfXEUVLC//AACygQAAABABn3t0Qr8ABR+gHNEhHTepAAAAEAGffWpCvwAFHja7gOdaG/AAAAATQZtiSahBbJlMCHf//qmWAACVgAAAAAxBn4BFFSwv/wAAsoEAAAAQAZ+/dEK/AAUfoBzRIR03qAAAABABn6FqQr8ABR42u4DnWhvxAAAAE0GbpkmoQWyZTAh3//6plgAAlYAAAAAMQZ/ERRUsL/8AALKBAAAAEAGf43RCvwAFH6Ac0SEdN6kAAAAQAZ/lakK/AAUeNruA51ob8QAAABNBm+pJqEFsmUwId//+qZYAAJWBAAAADEGeCEUVLC//AACygAAAABABnid0Qr8ABR+gHNEhHTeoAAAAEAGeKWpCvwAFHja7gOdaG/EAAAATQZouSahBbJlMCHf//qmWAACVgAAAAAxBnkxFFSwv/wAAsoAAAAAQAZ5rdEK/AAUfoBzRIR03qQAAABABnm1qQr8ABR42u4DnWhvxAAAAE0GackmoQWyZTAh3//6plgAAlYEAAAAMQZ6QRRUsL/8AALKAAAAAEAGer3RCvwAFH6Ac0SEdN6gAAAAQAZ6xakK/AAUeNruA51ob8QAAABNBmrZJqEFsmUwId//+qZYAAJWAAAAADEGe1EUVLC//AACygAAAABABnvN0Qr8ABR+gHNEhHTepAAAAEAGe9WpCvwAFHja7gOdaG/AAAAATQZr6SahBbJlMCHf//qmWAACVgQAAAAxBnxhFFSwv/wAAsoEAAAAQAZ83dEK/AAUfoBzRIR03qAAAABABnzlqQr8ABR42u4DnWhvxAAAAE0GbPkmoQWyZTAh3//6plgAAlYAAAAAMQZ9cRRUsL/8AALKBAAAAEAGfe3RCvwAFH6Ac0SEdN6kAAAAQAZ99akK/AAUeNruA51ob8AAAABNBm2JJqEFsmUwId//+qZYAAJWAAAAADEGfgEUVLC//AACygQAAABABn790Qr8ABR+gHNEhHTeoAAAAEAGfoWpCvwAFHja7gOdaG/EAAAATQZumSahBbJlMCHf//qmWAACVgAAAAAxBn8RFFSwv/wAAsoEAAAAQAZ/jdEK/AAUfoBzRIR03qQAAABABn+VqQr8ABR42u4DnWhvxAAAAE0Gb6kmoQWyZTAh3//6plgAAlYEAAAAMQZ4IRRUsL/8AALKAAAAAEAGeJ3RCvwAFH6Ac0SEdN6gAAAAQAZ4pakK/AAUeNruA51ob8QAAABNBmi5JqEFsmUwId//+qZYAAJWAAAAADEGeTEUVLC//AACygAAAABABnmt0Qr8ABR+gHNEhHTepAAAAEAGebWpCvwAFHja7gOdaG/EAAAATQZpySahBbJlMCHf//qmWAACVgQAAAAxBnpBFFSwv/wAAsoAAAAAQAZ6vdEK/AAUfoBzRIR03qAAAABABnrFqQr8ABR42u4DnWhvxAAAAE0GatkmoQWyZTAh3//6plgAAlYAAAAAMQZ7URRUsL/8AALKAAAAAEAGe83RCvwAFH6Ac0SEdN6kAAAAQAZ71akK/AAUeNruA51ob8AAAABNBmvpJqEFsmUwId//+qZYAAJWBAAAADEGfGEUVLC//AACygQAAABABnzd0Qr8ABR+gHNEhHTeoAAAAEAGfOWpCvwAFHja7gOdaG/EAAAATQZs+SahBbJlMCHf//qmWAACVgAAAAAxBn1xFFSwv/wAAsoEAAAAQAZ97dEK/AAUfoBzRIR03qQAAABABn31qQr8ABR42u4DnWhvwAAAAE0GbYkmoQWyZTAh3//6plgAAlYAAAAAMQZ+ARRUsL/8AALKBAAAAEAGfv3RCvwAFH6Ac0SEdN6gAAAAQAZ+hakK/AAUeNruA51ob8QAAABNBm6ZJqEFsmUwId//+qZYAAJWAAAAADEGfxEUVLC//AACygQAAABABn+N0Qr8ABR+gHNEhHTepAAAAEAGf5WpCvwAFHja7gOdaG/EAAAATQZvqSahBbJlMCHf//qmWAACVgQAAAAxBnghFFSwv/wAAsoAAAAAQAZ4ndEK/AAUfoBzRIR03qAAAABABnilqQr8ABR42u4DnWhvxAAAAE0GaLkmoQWyZTAh3//6plgAAlYAAAAAMQZ5MRRUsL/8AALKAAAAAEAGea3RCvwAFH6Ac0SEdN6kAAAAQAZ5takK/AAUeNruA51ob8QAAABNBmnJJqEFsmUwId//+qZYAAJWBAAAADEGekEUVLC//AACygAAAABABnq90Qr8ABR+gHNEhHTeoAAAAEAGesWpCvwAFHja7gOdaG/EAAAATQZq2SahBbJlMCHf//qmWAACVgAAAAAxBntRFFSwv/wAAsoAAAAAQAZ7zdEK/AAUfoBzRIR03qQAAABABnvVqQr8ABR42u4DnWhvwAAAAE0Ga+kmoQWyZTAh3//6plgAAlYEAAAAMQZ8YRRUsL/8AALKBAAAAEAGfN3RCvwAFH6Ac0SEdN6gAAAAQAZ85akK/AAUeNruA51ob8QAAABNBmz5JqEFsmUwId//+qZYAAJWAAAAADEGfXEUVLC//AACygQAAABABn3t0Qr8ABR+gHNEhHTepAAAAEAGffWpCvwAFHja7gOdaG/AAAAATQZtiSahBbJlMCHf//qmWAACVgAAAAAxBn4BFFSwv/wAAsoEAAAAQAZ+/dEK/AAUfoBzRIR03qAAAABABn6FqQr8ABR42u4DnWhvxAAAAE0GbpkmoQWyZTAh3//6plgAAlYAAAAAMQZ/ERRUsL/8AALKBAAAAEAGf43RCvwAFH6Ac0SEdN6kAAAAQAZ/lakK/AAUeNruA51ob8QAAABNBm+pJqEFsmUwId//+qZYAAJWBAAAADEGeCEUVLC//AACygAAAABABnid0Qr8ABR+gHNEhHTeoAAAAEAGeKWpCvwAFHja7gOdaG/EAAAATQZouSahBbJlMCHf//qmWAACVgAAAAAxBnkxFFSwv/wAAsoAAAAAQAZ5rdEK/AAUfoBzRIR03qQAAABABnm1qQr8ABR42u4DnWhvxAAAAE0GackmoQWyZTAh3//6plgAAlYEAAAAMQZ6QRRUsL/8AALKAAAAAEAGer3RCvwAFH6Ac0SEdN6gAAAAQAZ6xakK/AAUeNruA51ob8QAAABNBmrZJqEFsmUwId//+qZYAAJWAAAAADEGe1EUVLC//AACygAAAABABnvN0Qr8ABR+gHNEhHTepAAAAEAGe9WpCvwAFHja7gOdaG/AAAAATQZr6SahBbJlMCHf//qmWAACVgQAAAAxBnxhFFSwv/wAAsoEAAAAQAZ83dEK/AAUfoBzRIR03qAAAABABnzlqQr8ABR42u4DnWhvxAAAAE0GbPkmoQWyZTAh3//6plgAAlYAAAAAMQZ9cRRUsL/8AALKBAAAAEAGfe3RCvwAFH6Ac0SEdN6kAAAAQAZ99akK/AAUeNruA51ob8AAAABJBm2JJqEFsmUwIb//+p4QAAScAAAAMQZ+ARRUsL/8AALKBAAAAEAGfv3RCvwAFH6Ac0SEdN6gAAAAQAZ+hakK/AAUeNruA51ob8QAAABJBm6ZJqEFsmUwIZ//+nhAABHwAAAAMQZ/ERRUsL/8AALKBAAAAEAGf43RCvwAFH6Ac0SEdN6kAAAAQAZ/lakK/AAUeNruA51ob8QAAABpBm+lLqEIQWyRGCCgH8gH9h4AhX/44QAARcQAAACdBngdFFSwr/wKvY+1BxN2qw0km5aqGByy1u80qIJosxIsabQidk/YAAAAiAZ4oakK/Aq9j7UHE3arDSSblqoYHLLW7zSogmizwfZKBIAAADBhtb292AAAAbG12aGQAAAAAAAAAAAAAAAAAAAPoAAAfkAABAAABAAAAAAAAAAAAAAAAAQAAAAAAAAAAAAAAAAAAAAEAAAAAAAAAAAAAAAAAAEAAAAAAAAAAAAAAAAAAAAAAAAAAAAAAAAAAAAAAAAACAAALQnRyYWsAAABcdGtoZAAAAAMAAAAAAAAAAAAAAAEAAAAAAAAfkAAAAAAAAAAAAAAAAAAAAAAAAQAAAAAAAAAAAAAAAAAAAAEAAAAAAAAAAAAAAAAAAEAAAAABEAAAARAAAAAAACRlZHRzAAAAHGVsc3QAAAAAAAAAAQAAH5AAAAQAAAEAAAAACrptZGlhAAAAIG1kaGQAAAAAAAAAAAAAAAAAADIAAAGUAFXEAAAAAAAtaGRscgAAAAAAAAAAdmlkZQAAAAAAAAAAAAAAAFZpZGVvSGFuZGxlcgAAAAplbWluZgAAABR2bWhkAAAAAQAAAAAAAAAAAAAAJGRpbmYAAAAcZHJlZgAAAAAAAAABAAAADHVybCAAAAABAAAKJXN0YmwAAACVc3RzZAAAAAAAAAABAAAAhWF2YzEAAAAAAAAAAQAAAAAAAAAAAAAAAAAAAAABEAEQAEgAAABIAAAAAAAAAAEAAAAAAAAAAAAAAAAAAAAAAAAAAAAAAAAAAAAAAAAAAAAY//8AAAAvYXZjQwH0AA3/4QAXZ/QADZGbKCIR0IAAAAMAgAAAGQeKFMsBAAVo6+PESAAAABhzdHRzAAAAAAAAAAEAAADKAAACAAAAABRzdHNzAAAAAAAAAAEAAAABAAAF8GN0dHMAAAAAAAAAvAAAAAIAAAQAAAAAAQAABgAAAAABAAACAAAAAAIAAAQAAAAAAQAABgAAAAABAAACAAAAAAMAAAQAAAAAAQAABgAAAAABAAACAAAAAAEAAAYAAAAAAQAAAgAAAAAHAAAEAAAAAAEAAAYAAAAAAQAAAgAAAAABAAAEAAAAAAEAAAYAAAAAAQAAAgAAAAABAAAGAAAAAAEAAAIAAAAAAgAABAAAAAABAAAGAAAAAAEAAAIAAAAAAQAABAAAAAABAAAGAAAAAAEAAAIAAAAAAQAABAAAAAABAAAIAAAAAAIAAAIAAAAAAQAABgAAAAABAAACAAAAAAEAAAQAAAAAAQAABgAAAAABAAACAAAAAAIAAAQAAAAAAQAABgAAAAABAAACAAAAAAEAAAYAAAAAAQAAAgAAAAABAAAKAAAAAAEAAAQAAAAAAQAAAAAAAAABAAACAAAAAAEAAAoAAAAAAQAABAAAAAABAAAAAAAAAAEAAAIAAAAAAQAACgAAAAABAAAEAAAAAAEAAAAAAAAAAQAAAgAAAAABAAAKAAAAAAEAAAQAAAAAAQAAAAAAAAABAAACAAAAAAEAAAoAAAAAAQAABAAAAAABAAAAAAAAAAEAAAIAAAAAAQAACgAAAAABAAAEAAAAAAEAAAAAAAAAAQAAAgAAAAABAAAKAAAAAAEAAAQAAAAAAQAAAAAAAAABAAACAAAAAAEAAAoAAAAAAQAABAAAAAABAAAAAAAAAAEAAAIAAAAAAQAACgAAAAABAAAEAAAAAAEAAAAAAAAAAQAAAgAAAAABAAAKAAAAAAEAAAQAAAAAAQAAAAAAAAABAAACAAAAAAEAAAoAAAAAAQAABAAAAAABAAAAAAAAAAEAAAIAAAAAAQAACgAAAAABAAAEAAAAAAEAAAAAAAAAAQAAAgAAAAABAAAKAAAAAAEAAAQAAAAAAQAAAAAAAAABAAACAAAAAAEAAAoAAAAAAQAABAAAAAABAAAAAAAAAAEAAAIAAAAAAQAACgAAAAABAAAEAAAAAAEAAAAAAAAAAQAAAgAAAAABAAAKAAAAAAEAAAQAAAAAAQAAAAAAAAABAAACAAAAAAEAAAoAAAAAAQAABAAAAAABAAAAAAAAAAEAAAIAAAAAAQAACgAAAAABAAAEAAAAAAEAAAAAAAAAAQAAAgAAAAABAAAKAAAAAAEAAAQAAAAAAQAAAAAAAAABAAACAAAAAAEAAAoAAAAAAQAABAAAAAABAAAAAAAAAAEAAAIAAAAAAQAACgAAAAABAAAEAAAAAAEAAAAAAAAAAQAAAgAAAAABAAAKAAAAAAEAAAQAAAAAAQAAAAAAAAABAAACAAAAAAEAAAoAAAAAAQAABAAAAAABAAAAAAAAAAEAAAIAAAAAAQAACgAAAAABAAAEAAAAAAEAAAAAAAAAAQAAAgAAAAABAAAKAAAAAAEAAAQAAAAAAQAAAAAAAAABAAACAAAAAAEAAAoAAAAAAQAABAAAAAABAAAAAAAAAAEAAAIAAAAAAQAACgAAAAABAAAEAAAAAAEAAAAAAAAAAQAAAgAAAAABAAAKAAAAAAEAAAQAAAAAAQAAAAAAAAABAAACAAAAAAEAAAoAAAAAAQAABAAAAAABAAAAAAAAAAEAAAIAAAAAAQAACgAAAAABAAAEAAAAAAEAAAAAAAAAAQAAAgAAAAABAAAKAAAAAAEAAAQAAAAAAQAAAAAAAAABAAACAAAAAAEAAAoAAAAAAQAABAAAAAABAAAAAAAAAAEAAAIAAAAAAQAACgAAAAABAAAEAAAAAAEAAAAAAAAAAQAAAgAAAAABAAAKAAAAAAEAAAQAAAAAAQAAAAAAAAABAAACAAAAAAEAAAoAAAAAAQAABAAAAAABAAAAAAAAAAEAAAIAAAAAAQAACgAAAAABAAAEAAAAAAEAAAAAAAAAAQAAAgAAAAABAAAKAAAAAAEAAAQAAAAAAQAAAAAAAAABAAACAAAAAAEAAAgAAAAAAgAAAgAAAAAcc3RzYwAAAAAAAAABAAAAAQAAAMoAAAABAAADPHN0c3oAAAAAAAAAAAAAAMoAAAXfAAAAGQAAAB4AAAAUAAAAHAAAABwAAAAiAAAAFAAAABwAAAAcAAAAHQAAACEAAAAUAAAAIgAAABQAAAAbAAAAHAAAABwAAAAcAAAAHAAAABwAAAAcAAAAIQAAABQAAAAcAAAAIwAAABQAAAAgAAAAFAAAABwAAAAdAAAAIgAAABMAAAAdAAAAIQAAABQAAAAdAAAAHgAAABYAAAASAAAAIAAAABQAAAAdAAAAIQAAABQAAAAcAAAAHAAAACMAAAAUAAAAIgAAABQAAAApAAAAFAAAABMAAAATAAAAFwAAABAAAAAUAAAAFAAAABcAAAAQAAAAFAAAABQAAAAXAAAAEAAAABQAAAAUAAAAFwAAABAAAAAUAAAAFAAAABcAAAAQAAAAFAAAABQAAAAXAAAAEAAAABQAAAAUAAAAFwAAABAAAAAUAAAAFAAAABcAAAAQAAAAFAAAABQAAAAXAAAAEAAAABQAAAAUAAAAFwAAABAAAAAUAAAAFAAAABcAAAAQAAAAFAAAABQAAAAXAAAAEAAAABQAAAAUAAAAFwAAABAAAAAUAAAAFAAAABcAAAAQAAAAFAAAABQAAAAXAAAAEAAAABQAAAAUAAAAFwAAABAAAAAUAAAAFAAAABcAAAAQAAAAFAAAABQAAAAXAAAAEAAAABQAAAAUAAAAFwAAABAAAAAUAAAAFAAAABcAAAAQAAAAFAAAABQAAAAXAAAAEAAAABQAAAAUAAAAFwAAABAAAAAUAAAAFAAAABcAAAAQAAAAFAAAABQAAAAXAAAAEAAAABQAAAAUAAAAFwAAABAAAAAUAAAAFAAAABcAAAAQAAAAFAAAABQAAAAXAAAAEAAAABQAAAAUAAAAFwAAABAAAAAUAAAAFAAAABcAAAAQAAAAFAAAABQAAAAXAAAAEAAAABQAAAAUAAAAFwAAABAAAAAUAAAAFAAAABcAAAAQAAAAFAAAABQAAAAXAAAAEAAAABQAAAAUAAAAFwAAABAAAAAUAAAAFAAAABYAAAAQAAAAFAAAABQAAAAWAAAAEAAAABQAAAAUAAAAHgAAACsAAAAmAAAAFHN0Y28AAAAAAAAAAQAAADAAAABidWR0YQAAAFptZXRhAAAAAAAAACFoZGxyAAAAAAAAAABtZGlyYXBwbAAAAAAAAAAAAAAAAC1pbHN0AAAAJal0b28AAAAdZGF0YQAAAAEAAAAATGF2ZjU3LjgzLjEwMA==\" type=\"video/mp4\" />\n",
              "             </video>"
            ],
            "text/plain": [
              "<IPython.core.display.HTML object>"
            ]
          },
          "metadata": {
            "tags": []
          },
          "execution_count": 76
        }
      ]
    },
    {
      "cell_type": "markdown",
      "metadata": {
        "id": "bdIvUNfG5VNY",
        "colab_type": "text"
      },
      "source": [
        "***\n",
        "***\n",
        "__BONUS question__ Use the expert DQN from the previous question to generate some winning games. Train a model that mimicks its behavior. Compare the performances."
      ]
    },
    {
      "cell_type": "markdown",
      "metadata": {
        "id": "b9Nj7g3q5VNZ",
        "colab_type": "text"
      },
      "source": [
        ""
      ]
    },
    {
      "cell_type": "markdown",
      "metadata": {
        "id": "DOw-Y-d25VNa",
        "colab_type": "text"
      },
      "source": [
        "***"
      ]
    }
  ]
}