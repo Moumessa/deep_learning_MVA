{
  "nbformat": 4,
  "nbformat_minor": 0,
  "metadata": {
    "kernelspec": {
      "name": "python3",
      "display_name": "Python 3"
    },
    "language_info": {
      "codemirror_mode": {
        "name": "ipython",
        "version": 3
      },
      "file_extension": ".py",
      "mimetype": "text/x-python",
      "name": "python",
      "nbconvert_exporter": "python",
      "pygments_lexer": "ipython3",
      "version": "3.7.4"
    },
    "colab": {
      "name": "nlp_project.ipynb",
      "provenance": [],
      "collapsed_sections": [],
      "machine_shape": "hm"
    },
    "accelerator": "GPU"
  },
  "cells": [
    {
      "cell_type": "markdown",
      "metadata": {
        "id": "TFmQQhHCxMLN",
        "colab_type": "text"
      },
      "source": [
        "# Deep Learning for NLP - Project"
      ]
    },
    {
      "cell_type": "code",
      "metadata": {
        "id": "9qoMErblxUlx",
        "colab_type": "code",
        "outputId": "4e7d3ca9-28b9-4033-9b4e-ec05dd6b2338",
        "colab": {
          "base_uri": "https://localhost:8080/",
          "height": 122
        }
      },
      "source": [
        "from google.colab import drive\n",
        "\n",
        "drive.mount('/content/drive')\n"
      ],
      "execution_count": 1,
      "outputs": [
        {
          "output_type": "stream",
          "text": [
            "Go to this URL in a browser: https://accounts.google.com/o/oauth2/auth?client_id=947318989803-6bn6qk8qdgf4n4g3pfee6491hc0brc4i.apps.googleusercontent.com&redirect_uri=urn%3aietf%3awg%3aoauth%3a2.0%3aoob&response_type=code&scope=email%20https%3a%2f%2fwww.googleapis.com%2fauth%2fdocs.test%20https%3a%2f%2fwww.googleapis.com%2fauth%2fdrive%20https%3a%2f%2fwww.googleapis.com%2fauth%2fdrive.photos.readonly%20https%3a%2f%2fwww.googleapis.com%2fauth%2fpeopleapi.readonly\n",
            "\n",
            "Enter your authorization code:\n",
            "··········\n",
            "Mounted at /content/drive\n"
          ],
          "name": "stdout"
        }
      ]
    },
    {
      "cell_type": "code",
      "metadata": {
        "id": "v4nOPIAfxVIP",
        "colab_type": "code",
        "outputId": "a96ac83b-2711-4f32-f2cb-b8e31994d8e1",
        "colab": {
          "base_uri": "https://localhost:8080/",
          "height": 34
        }
      },
      "source": [
        "cd 'drive/My Drive/deep_learning_final_projects/nlp_project'"
      ],
      "execution_count": 2,
      "outputs": [
        {
          "output_type": "stream",
          "text": [
            "/content/drive/My Drive/deep_learning_final_projects/nlp_project\n"
          ],
          "name": "stdout"
        }
      ]
    },
    {
      "cell_type": "markdown",
      "metadata": {
        "id": "2ZiohSagxMLR",
        "colab_type": "text"
      },
      "source": [
        "RULES:\n",
        "\n",
        "* Do not create any additional cell\n",
        "\n",
        "* Fill in the blanks\n",
        "\n",
        "* All cells should be runnable (modulo trivial compatibility bugs that we'd fix)\n",
        "\n",
        "* 4 / 20 points will be allocated to the clarity of your code\n",
        "\n",
        "* Efficient code will have a bonus\n",
        "\n",
        "DELIVERABLE:\n",
        "\n",
        "* the pdf with your answers\n",
        "* this notebook\n",
        "* the predictions of the SST test set\n",
        "\n",
        "DO NOT INCLUDE THE DATASETS IN THE DELIVERABLE.."
      ]
    },
    {
      "cell_type": "code",
      "metadata": {
        "jupyter": {
          "outputs_hidden": false
        },
        "id": "0j0RcOIoxMLS",
        "colab_type": "code",
        "colab": {}
      },
      "source": [
        "# Python 3.6 or above is required\n",
        "from collections import defaultdict\n",
        "import gzip\n",
        "from zipfile import ZipFile\n",
        "import numpy as np\n",
        "from pathlib import Path\n",
        "import urllib.request\n",
        "from sklearn.linear_model import LogisticRegression\n",
        "from sklearn import metrics\n",
        "from sklearn.ensemble import RandomForestClassifier\n",
        "import io\n",
        "import matplotlib.pyplot as plt\n",
        "%matplotlib inline"
      ],
      "execution_count": 0,
      "outputs": []
    },
    {
      "cell_type": "code",
      "metadata": {
        "id": "k8BGRA-0xMLX",
        "colab_type": "code",
        "colab": {}
      },
      "source": [
        "PATH_TO_DATA = Path('data/')\n",
        "# Download word vectors, might take a few minutes and about ~3GB of storage space\n",
        "en_embeddings_path = PATH_TO_DATA / 'cc.en.300.vec.gz'\n",
        "if not en_embeddings_path.exists():\n",
        "    urllib.request.urlretrieve('https://dl.fbaipublicfiles.com/fasttext/vectors-crawl/cc.en.300.vec.gz', en_embeddings_path)\n",
        "fr_embeddings_path = PATH_TO_DATA / 'cc.fr.300.vec.gz'\n",
        "if not fr_embeddings_path.exists():\n",
        "    urllib.request.urlretrieve('https://dl.fbaipublicfiles.com/fasttext/vectors-crawl/cc.fr.300.vec.gz', fr_embeddings_path)\n",
        "wiki_news_path = PATH_TO_DATA / 'wiki-news-300d-1M.vec.zip'\n",
        "if not wiki_news_path.exists():\n",
        "    urllib.request.urlretrieve('https://dl.fbaipublicfiles.com/fasttext/vectors-english/wiki-news-300d-1M.vec.zip', wiki_news_path)\n",
        "crawl_300d_2M = PATH_TO_DATA / 'crawl-300d-2M.vec.zip'\n",
        "if not crawl_300d_2M.exists():\n",
        "    urllib.request.urlretrieve('https://dl.fbaipublicfiles.com/fasttext/vectors-english/crawl-300d-2M.vec.zip', crawl_300d_2M)\n"
      ],
      "execution_count": 0,
      "outputs": []
    },
    {
      "cell_type": "markdown",
      "metadata": {
        "id": "kux7MsRzxMLb",
        "colab_type": "text"
      },
      "source": [
        "# 1) Monolingual (English) word embeddings "
      ]
    },
    {
      "cell_type": "code",
      "metadata": {
        "id": "fgwB4dUlxMLd",
        "colab_type": "code",
        "colab": {}
      },
      "source": [
        "class Word2Vec():\n",
        "\n",
        "    def __init__(self, filepath, vocab_size=50000):\n",
        "        self.words, self.embeddings = self.load_wordvec(filepath, vocab_size)\n",
        "        # Mappings for O(1) retrieval:\n",
        "        self.word2id = {word: idx for idx, word in enumerate(self.words)}\n",
        "        self.id2word = {idx: word for idx, word in enumerate(self.words)}\n",
        "    \n",
        "    def load_wordvec(self, filepath, vocab_size):\n",
        "        assert str(filepath).endswith('.gz') or str(filepath).endswith('.zip')\n",
        "        words = []\n",
        "        embeddings = []\n",
        "        if str(filepath).endswith('.gz') :\n",
        "            with gzip.open(filepath, 'rt') as f:  # Read compressed file directly\n",
        "                next(f)  # Skip header\n",
        "                for i, line in enumerate(f):\n",
        "                    word, vec = line.split(' ', 1)\n",
        "                    words.append(word)\n",
        "                    embeddings.append(np.fromstring(vec, sep=' '))\n",
        "                    if i == (vocab_size - 1):\n",
        "                        break\n",
        "        if str(filepath).endswith('.zip') :\n",
        "            with ZipFile(filepath , 'r') as f:\n",
        "                for name in f.namelist():\n",
        "                    with io.open(name, encoding='utf-8') as ff:\n",
        "                        next(ff)\n",
        "                        for i, line in enumerate(ff):\n",
        "                            word, vec = line.split(' ', 1)\n",
        "                            words.append(word)\n",
        "                            embeddings.append(np.fromstring(vec, sep=' '))\n",
        "                            if i == (vocab_size - 1):\n",
        "                                break\n",
        "\n",
        "        print('Loaded %s pretrained word vectors' % (len(words)))\n",
        "        return words, np.vstack(embeddings)\n",
        "    \n",
        "    def encode(self, word):\n",
        "        # Returns the 1D embedding of a given word\n",
        "        return self.embeddings[self.word2id[word]]\n",
        "    \n",
        "    def score(self, word1, word2):\n",
        "        # Return the cosine similarity: use np.dot & np.linalg.norm\n",
        "        return np.dot(self.encode(word1), self.encode(word2))/(np.linalg.norm(self.encode(word1))*np.linalg.norm(self.encode(word2)))\n",
        "    \n",
        "    def most_similar(self, word, k=5):\n",
        "        # Returns the k most similar words: self.score & np.argsort \n",
        "        scores = []\n",
        "        for w in self.words:\n",
        "          scores.append(self.score(word, w))\n",
        "        sort_ids = np.argsort(np.array(scores))\n",
        "        #return np.array(self.words)[sort_ids[-k:]]\n",
        "        return list( reversed([ self.words[i] for i in sort_ids[-k-1:-1] ] ) )\n"
      ],
      "execution_count": 0,
      "outputs": []
    },
    {
      "cell_type": "code",
      "metadata": {
        "jupyter": {
          "outputs_hidden": false
        },
        "id": "VbkLB6myxMLg",
        "colab_type": "code",
        "outputId": "86eda320-8089-4f13-e166-545b8777070d",
        "colab": {
          "base_uri": "https://localhost:8080/",
          "height": 238
        }
      },
      "source": [
        "word2vec = Word2Vec(en_embeddings_path, vocab_size=50000)\n",
        "for word1, word2 in zip(('cat', 'cat', 'cat', 'Paris', 'Paris', 'Paris', 'Paris'), ('tree', 'dog', 'pet', 'France', 'Germany', 'baguette', 'donut')):\n",
        "    print(word1, word2, word2vec.score(word1, word2))\n",
        "for word in ['cat', 'dog', 'dogs', 'Paris', 'Germany']:\n",
        "    print(word2vec.most_similar(word))"
      ],
      "execution_count": 6,
      "outputs": [
        {
          "output_type": "stream",
          "text": [
            "Loaded 50000 pretrained word vectors\n",
            "cat tree 0.2644975466165475\n",
            "cat dog 0.7078641298542562\n",
            "cat pet 0.6753313359976381\n",
            "Paris France 0.6892958925806542\n",
            "Paris Germany 0.4051242286737548\n",
            "Paris baguette 0.29399958277802224\n",
            "Paris donut -0.006588507552348005\n",
            "['cats', 'kitty', 'kitten', 'feline', 'dog']\n",
            "['dogs', 'puppy', 'pup', 'canine', 'pet']\n",
            "['dog', 'cats', 'puppies', 'Dogs', 'pets']\n",
            "['France', 'Parisian', 'Marseille', 'Brussels', 'Strasbourg']\n",
            "['Austria', 'Europe', 'Berlin', 'Hamburg', 'Bavaria']\n"
          ],
          "name": "stdout"
        }
      ]
    },
    {
      "cell_type": "code",
      "metadata": {
        "jupyter": {
          "outputs_hidden": false
        },
        "id": "Cz33zoofxMLj",
        "colab_type": "code",
        "colab": {}
      },
      "source": [
        "class BagOfWords():\n",
        "    \n",
        "    def __init__(self, word2vec):\n",
        "        self.word2vec = word2vec\n",
        "    \n",
        "    def build_idf(self, sentences):\n",
        "        #total number of documents\n",
        "        N=len(sentences)\n",
        "\n",
        "        #tf idf dicts\n",
        "        tf={}\n",
        "        idf={}\n",
        "        #idf={word:0 for word in set(sentences) }\n",
        "\n",
        "        #compute raw count (tf) for each word in every sentence\n",
        "        #for sentence in sentences:\n",
        "          #tf[sentence]= {word: sentence.count(word) for word in set(sentence)}\n",
        "        \n",
        "        #compute \"idf\" for each word\n",
        "        #compute number of sentences where each word appear\n",
        "        for sentence in sentences:\n",
        "          for word in set(sentence.split()):\n",
        "            if word in idf.keys():\n",
        "              idf[word] +=1\n",
        "            else:\n",
        "              idf[word] =1\n",
        "\n",
        "        #compute log N/idfs[word]\n",
        "        idf.update((k, np.log(N/v)) for k,v in idf.items())\n",
        "        return idf\n",
        "    \n",
        "    def encode(self, sentence, idf=None):\n",
        "        # Takes a sentence as input, returns the sentence embedding\n",
        "        if idf is None:\n",
        "            # mean of word vectors\n",
        "            mean_vector = 0\n",
        "            n=0\n",
        "            for word in set(sentence.split()):\n",
        "              if word in self.word2vec.words :\n",
        "                mean_vector += self.word2vec.embeddings[self.word2vec.word2id[word]]\n",
        "                n+=1\n",
        "            mean_vector = mean_vector/n\n",
        "        else:\n",
        "            # idf-weighted mean of word vectors\n",
        "            mean_vector = 0\n",
        "            n=0\n",
        "            for word in set(sentence.split()):\n",
        "              if word in self.word2vec.words and word in idf.keys():\n",
        "                mean_vector += idf[word]*self.word2vec.embeddings[self.word2vec.word2id[word]]\n",
        "                n+=1\n",
        "            mean_vector = mean_vector/n\n",
        "        return mean_vector\n",
        "\n",
        "    def score(self, sentence1, sentence2, idf=None):\n",
        "        # cosine similarity: use np.dot & np.linalg.norm \n",
        "        v1 = self.encode(sentence1, idf=idf)\n",
        "        v2 = self.encode(sentence2, idf=idf)\n",
        "        return np.dot(v1, v2)/(np.linalg.norm(v1)*np.linalg.norm(v2))\n",
        "    \n",
        "    def most_similar(self, sentence, sentences, idf=None, k=5):\n",
        "        # Return most similar sentences\n",
        "        query = self.encode(sentence, idf)\n",
        "        keys = np.vstack([self.encode(sentence, idf) for sentence in sentences])\n",
        "\n",
        "        l2_query = np.linalg.norm(query)\n",
        "        l2_keys = np.linalg.norm(keys, axis=1)\n",
        "        scores = keys.dot(query)\n",
        "        normalizer = np.multiply(l2_query, l2_keys)\n",
        "        scores = np.divide(scores, normalizer) \n",
        "        arg_idx = np.argsort(scores)[-k-1:-1]\n",
        "        res = [sentences[i] for i in arg_idx]\n",
        "        \n",
        "        return list(reversed(res))\n"
      ],
      "execution_count": 0,
      "outputs": []
    },
    {
      "cell_type": "code",
      "metadata": {
        "jupyter": {
          "outputs_hidden": false
        },
        "id": "4y_G9zhQxMLn",
        "colab_type": "code",
        "outputId": "7dec6ce7-1258-4a74-ec84-9e6ab093d27b",
        "colab": {
          "base_uri": "https://localhost:8080/",
          "height": 408
        }
      },
      "source": [
        "word2vec = Word2Vec(en_embeddings_path, vocab_size=50000)\n",
        "sentence2vec = BagOfWords(word2vec)\n",
        "\n",
        "# Load sentences in \"PATH_TO_DATA/sentences.txt\"\n",
        "filepath = PATH_TO_DATA / 'sentences.txt'\n",
        "with open(filepath, 'r') as f:\n",
        "    sentences = [line.strip('\\n') for line in f]\n",
        "\n",
        "\n",
        "# You will be evaluated on the output of the following:\n",
        "print('\\n\\tAverage of word embeddings')\n",
        "sentence1 = sentences[7]\n",
        "sentence2 = sentences[13]\n",
        "print(sentence1)\n",
        "print(sentence2)\n",
        "print(sentence2vec.score(sentence1, sentence2))\n",
        "sentence = sentences[10]\n",
        "similar_sentences = sentence2vec.most_similar(sentence, sentences)  # BagOfWords-mean\n",
        "print(sentence)\n",
        "for i, sentence in enumerate(similar_sentences):\n",
        "    print(str(i+1) + ')', sentence)\n",
        "\n",
        "# Build idf scores for each word\n",
        "idf = sentence2vec.build_idf(sentences)\n",
        "\n",
        "print('\\n\\tidf weighted average of word embeddings')\n",
        "print(sentence1)\n",
        "print(sentence2)\n",
        "print(sentence2vec.score(sentence1, sentence2, idf))\n",
        "similar_sentences = sentence2vec.most_similar(sentence, sentences, idf)  # BagOfWords-idf\n",
        "print(sentence)\n",
        "for i, sentence in enumerate(similar_sentences):\n",
        "    print(str(i+1) + ')', sentence)"
      ],
      "execution_count": 8,
      "outputs": [
        {
          "output_type": "stream",
          "text": [
            "Loaded 50000 pretrained word vectors\n",
            "\n",
            "\tAverage of word embeddings\n",
            "1 man singing and 1 man playing a saxophone in a concert . \n",
            "10 people venture out to go crosscountry skiing . \n",
            "0.7373762431619013\n",
            "1 smiling african american boy . \n",
            "1) 2 woman dancing while pointing . \n",
            "2) 5 women and 1 man are smiling for the camera . \n",
            "3) a small boy following 4 geese . \n",
            "4) 2 female babies eating chips . \n",
            "5) a young boy and 2 girls open christmas presents . \n",
            "\n",
            "\tidf weighted average of word embeddings\n",
            "1 man singing and 1 man playing a saxophone in a concert . \n",
            "10 people venture out to go crosscountry skiing . \n",
            "0.6465505733624172\n",
            "a young boy and 2 girls open christmas presents . \n",
            "1) 3 girls and one boy playing in the street . \n",
            "2) a group of friends , 3 boys and 2 girls , jump in the air holding hands for a photo . \n",
            "3) five children , 3 boys and 2 girls playing soccer in a grass field . \n",
            "4) 2 young indian girls dressed in colorful dresses walking . \n",
            "5) 2 kids holding hands and smiling . \n"
          ],
          "name": "stdout"
        }
      ]
    },
    {
      "cell_type": "markdown",
      "metadata": {
        "id": "7lHszACnxMLs",
        "colab_type": "text"
      },
      "source": [
        "# 2) Multilingual (English-French) word embeddings"
      ]
    },
    {
      "cell_type": "markdown",
      "metadata": {
        "id": "XP9boSaCxMLt",
        "colab_type": "text"
      },
      "source": [
        "Let's consider a bilingual dictionary of size V_a (e.g French-English).\n",
        "\n",
        "Let's define **X** and **Y** the **French** and **English** matrices.\n",
        "\n",
        "They contain the embeddings associated to the words in the bilingual dictionary.\n",
        "\n",
        "We want to find a **mapping W** that will project the source word space (e.g French) to the target word space (e.g English).\n",
        "\n",
        "Procrustes : **W\\* = argmin || W.X - Y ||  s.t  W^T.W = Id**\n",
        "has a closed form solution:\n",
        "**W = U.V^T  where  U.Sig.V^T = SVD(Y.X^T)**\n",
        "\n",
        "In what follows, you are asked to: "
      ]
    },
    {
      "cell_type": "code",
      "metadata": {
        "id": "g-BvEMU0xMLu",
        "colab_type": "code",
        "colab": {}
      },
      "source": [
        "class MultilingualWordAligner:\n",
        "    \n",
        "    def __init__(self, fr_word2vec, en_word2vec):\n",
        "        self.fr_word2vec = fr_word2vec\n",
        "        self.en_word2vec = en_word2vec\n",
        "        self.aligned_fr_embeddings = self.get_aligned_fr_embeddings()\n",
        "        \n",
        "    def get_aligned_fr_embeddings(self):\n",
        "        # 1 - Get words that appear in both vocabs (= identical character strings)\n",
        "        #     Use it to create the matrix X (emb_dim, vocab_size) and Y (emb_dim, vocab_size) (of embeddings for these words)\n",
        "        #raise NotImplementedError('Fill in the blank')\n",
        "        common_words = set(self.fr_word2vec.words).intersection(set(self.en_word2vec.words))\n",
        "        \n",
        "        X=np.empty((self.fr_word2vec.embeddings.shape[1],len(common_words)))\n",
        "        Y=np.empty((self.en_word2vec.embeddings.shape[1],len(common_words)))\n",
        "        \n",
        "        for i, word in enumerate(list(common_words)):\n",
        "\n",
        "          fr_ind = self.fr_word2vec.word2id[word]\n",
        "          en_ind = self.en_word2vec.word2id[word]\n",
        "\n",
        "          X[:,i] = self.fr_word2vec.embeddings[fr_ind]\n",
        "          Y[:,i] = self.en_word2vec.embeddings[en_ind]\n",
        "\n",
        "        assert X.shape[0] == 300 and Y.shape[0] == 300\n",
        "        \n",
        "        # 2 - Solve the Procrustes using the numpy package and: np.linalg.svd() and get the optimal W\n",
        "        #     Now self.fr_word2vec.embeddings * W.transpose() is in the same space as en_word2vec.embeddings\n",
        "        U, S, Vt = np.linalg.svd(np.matmul(Y, X.transpose()))\n",
        "        W=np.matmul(U, Vt)\n",
        "        \n",
        "        assert W.shape == (300, 300)\n",
        "        return np.matmul(fr_word2vec.embeddings, W.transpose())\n",
        "        \n",
        "    def get_closest_english_words(self, fr_word, k=3):\n",
        "        # 3 - Return the top k English nearest neighbors to the input French word\n",
        "        indice = self.fr_word2vec.word2id[fr_word]\n",
        "        query = self.aligned_fr_embeddings[indice]\n",
        "        keys = self.en_word2vec.embeddings\n",
        "\n",
        "        l2_query = np.linalg.norm(query)\n",
        "        l2_keys = np.linalg.norm(keys, axis=1)\n",
        "        scores = keys.dot(query)\n",
        "        normalizer = np.multiply(l2_query, l2_keys)\n",
        "        scores = np.divide(scores, normalizer) \n",
        "        arg_idx = np.argsort(scores)[-k:]\n",
        "\n",
        "        #return np.flip(self.en_word2vec.words[arg_idx],0)\n",
        "        return list( reversed([ self.en_word2vec.words[i] for i in arg_idx[-k:] ] ) )\n"
      ],
      "execution_count": 0,
      "outputs": []
    },
    {
      "cell_type": "code",
      "metadata": {
        "id": "LFAHdxG1xMLy",
        "colab_type": "code",
        "outputId": "a04ade38-ef39-48a3-83dd-365e0696f77c",
        "colab": {
          "base_uri": "https://localhost:8080/",
          "height": 391
        }
      },
      "source": [
        "fr_word2vec = Word2Vec(fr_embeddings_path, vocab_size=50000)\n",
        "en_word2vec = Word2Vec(en_embeddings_path, vocab_size=50000)\n",
        "multilingual_word_aligner = MultilingualWordAligner(fr_word2vec, en_word2vec)\n",
        "\n",
        "# You will be evaluated on the output of the following:\n",
        "fr_words = ['chat', 'chien', 'voiture', 'zut']\n",
        "k = 3\n",
        "for fr_word in fr_words:\n",
        "    print('-' * 10)\n",
        "    print(f'fr: \"{fr_word}\"')\n",
        "    en_words = multilingual_word_aligner.get_closest_english_words(fr_word, k=3)\n",
        "    for en_word in en_words:\n",
        "        print(f'en: \"{en_word}\"')"
      ],
      "execution_count": 10,
      "outputs": [
        {
          "output_type": "stream",
          "text": [
            "Loaded 50000 pretrained word vectors\n",
            "Loaded 50000 pretrained word vectors\n",
            "----------\n",
            "fr: \"chat\"\n",
            "en: \"cat\"\n",
            "en: \"kitten\"\n",
            "en: \"kitty\"\n",
            "----------\n",
            "fr: \"chien\"\n",
            "en: \"dog\"\n",
            "en: \"cat\"\n",
            "en: \"pet\"\n",
            "----------\n",
            "fr: \"voiture\"\n",
            "en: \"car\"\n",
            "en: \"vehicle\"\n",
            "en: \"automobile\"\n",
            "----------\n",
            "fr: \"zut\"\n",
            "en: \"oops\"\n",
            "en: \"Ah\"\n",
            "en: \"ah\"\n"
          ],
          "name": "stdout"
        }
      ]
    },
    {
      "cell_type": "markdown",
      "metadata": {
        "id": "BtOc3iidxML2",
        "colab_type": "text"
      },
      "source": [
        "If you want to dive deeper on this subject: https://github.com/facebookresearch/MUSE"
      ]
    },
    {
      "cell_type": "markdown",
      "metadata": {
        "id": "W-3Ty0kixML3",
        "colab_type": "text"
      },
      "source": [
        "# 3) Sentence classification with BoV and scikit-learn"
      ]
    },
    {
      "cell_type": "code",
      "metadata": {
        "id": "dl_92n-NxML5",
        "colab_type": "code",
        "colab": {}
      },
      "source": [
        "# 1 - Load train/dev/test of Stanford Sentiment TreeBank (SST)\n",
        "#     (https://nlp.stanford.edu/~socherr/EMNLP2013_RNTN.pdf)\n",
        "train_filepath = PATH_TO_DATA / 'SST/stsa.fine.train'\n",
        "dev_filepath = PATH_TO_DATA / 'SST/stsa.fine.dev'\n",
        "test_filepath = PATH_TO_DATA / 'SST/stsa.fine.test.X'\n",
        "\n",
        "#let's define a function to load data\n",
        "\n",
        "def load_training_data(file_path):\n",
        "    #This function allows to read the SST training file\n",
        "    with open(file_path,'r') as f:\n",
        "        lines = f.readlines()\n",
        "    y_train= [int(line[0]) for line in lines] \n",
        "    x_train= [line[2:] for line in lines]\n",
        "    return x_train,y_train\n",
        "\n",
        "def load_test_data(file_path):\n",
        "    #This function allows to read the SST test file\n",
        "    with open(file_path,'r') as f:\n",
        "        lines = f.readlines()\n",
        "    x_test = [line for line in lines]\n",
        "    return x_test\n",
        "\n",
        "#now let's load data\n",
        "sst_train_data, sst_train_labels = load_training_data(train_filepath )\n",
        "sst_dev_data, sst_dev_labels = load_training_data(dev_filepath )\n",
        "sst_test = load_test_data(test_filepath )"
      ],
      "execution_count": 0,
      "outputs": []
    },
    {
      "cell_type": "code",
      "metadata": {
        "id": "FN82gpQAxML9",
        "colab_type": "code",
        "colab": {}
      },
      "source": [
        "# 2 - Encode sentences with the BoV model above\n",
        "\n",
        "#encoding without idf\n",
        "encoded_sst_train_data = np.array([ sentence2vec.encode(sst_train_data[i]) for i in range(len(sst_train_data)) ])\n",
        "encoded_sst_dev_data = np.array([ sentence2vec.encode(sst_dev_data[i]) for i in range(len(sst_dev_data)) ])\n",
        "encoded_sst_test = np.array([ sentence2vec.encode(sst_test[i]) for i in range(len(sst_test)) ])\n",
        "\n",
        "#encoding with idf\n",
        "#idf = sentence2vec.build_idf(sst_train_data)\n",
        "idf = sentence2vec.build_idf(sst_train_data + sst_dev_data+sst_test)\n",
        "idf_encoded_sst_train_data = np.array([ sentence2vec.encode(sst_train_data[i], idf=idf) for i in range(len(sst_train_data)) ])\n",
        "\n",
        "idf_encoded_sst_dev_data = np.array([ sentence2vec.encode(sst_dev_data[i], idf=idf) for i in range(len(sst_dev_data)) ])\n",
        "\n",
        "idf_encoded_sst_test = np.array([ sentence2vec.encode(sst_test[i], idf=idf) for i in range(len(sst_test)) ])"
      ],
      "execution_count": 0,
      "outputs": []
    },
    {
      "cell_type": "code",
      "metadata": {
        "id": "pNp1DZoQxMMA",
        "colab_type": "code",
        "outputId": "456148d2-1512-4cb9-861c-af6c9b940fa9",
        "colab": {
          "base_uri": "https://localhost:8080/",
          "height": 85
        }
      },
      "source": [
        "# 3 - Learn Logistic Regression on top of sentence embeddings using scikit-learn\n",
        "#     (consider tuning the L2 regularization on the dev set)\n",
        "#     In the paper, the accuracy for average of word vectors is 32.7%\n",
        "#     (VecAvg, table 1, https://nlp.stanford.edu/~socherr/EMNLP2013_RNTN.pdf)\n",
        "\n",
        "accuracies={}\n",
        "# I)-compute prediction for data without idf\n",
        "\n",
        "model_train = LogisticRegression(solver='lbfgs', max_iter=500, multi_class='ovr')\n",
        "model_train.fit(encoded_sst_train_data, sst_train_labels)\n",
        "\n",
        "#case of prediction using dev set\n",
        "train_pred = model_train.predict(encoded_sst_dev_data)\n",
        "accuracies['sst_dev'] =  metrics.accuracy_score(sst_dev_labels, train_pred)\n",
        "\n",
        "#case of prediction using train set\n",
        "train_pred = model_train.predict(encoded_sst_train_data)\n",
        "accuracies['sst_train'] =  metrics.accuracy_score(sst_train_labels, train_pred)\n",
        "\n",
        "# II)-compute prediction for data with idf\n",
        "model_idf_train = LogisticRegression(solver='lbfgs', max_iter=500, multi_class='ovr')\n",
        "model_idf_train.fit(idf_encoded_sst_train_data, sst_train_labels)\n",
        "\n",
        "#case of prediction using dev set\n",
        "train_pred = model_idf_train.predict(idf_encoded_sst_dev_data)\n",
        "accuracies['idf_sst_dev'] =  metrics.accuracy_score(sst_dev_labels, train_pred)\n",
        "\n",
        "#case of prediction using train set\n",
        "train_pred = model_idf_train.predict(idf_encoded_sst_train_data)\n",
        "accuracies['idf_sst_train'] =  metrics.accuracy_score(sst_train_labels, train_pred)\n",
        "\n",
        "#here are accuracies :\n",
        "accuracies"
      ],
      "execution_count": 13,
      "outputs": [
        {
          "output_type": "execute_result",
          "data": {
            "text/plain": [
              "{'idf_sst_dev': 0.40962761126248864,\n",
              " 'idf_sst_train': 0.4693352059925094,\n",
              " 'sst_dev': 0.3905540417801998,\n",
              " 'sst_train': 0.42661516853932585}"
            ]
          },
          "metadata": {
            "tags": []
          },
          "execution_count": 13
        }
      ]
    },
    {
      "cell_type": "code",
      "metadata": {
        "id": "fY-I-CSoxMME",
        "colab_type": "code",
        "colab": {}
      },
      "source": [
        "# 4 - Produce 2210 predictions for the test set (in the same order). One line = one prediction (=0,1,2,3,4).\n",
        "#     Attach the output file \"logreg_bov_y_test_sst.txt\" to your deliverable.\n",
        "#     You will be evaluated on the results of the test set.\n",
        "\n",
        "sst_test_predicted = model_idf_train.predict(encoded_sst_test)\n",
        "np.savetxt('logreg_bov_y_test_sst.txt', sst_test_predicted, fmt='%s') "
      ],
      "execution_count": 0,
      "outputs": []
    },
    {
      "cell_type": "code",
      "metadata": {
        "id": "NtaBNfHmxMMH",
        "colab_type": "code",
        "outputId": "3e59ba8a-4447-4ebc-a8dd-3ac48e5288c1",
        "colab": {
          "base_uri": "https://localhost:8080/",
          "height": 85
        }
      },
      "source": [
        "# BONUS!\n",
        "# 5 - Try to improve performance with another classifier\n",
        "#     Attach the output file \"XXX_bov_y_test_sst.txt\" to your deliverable (where XXX = the name of the classifier)\n",
        "\n",
        "# TYPE CODE HERE\n",
        "accuracies2={}\n",
        "# I)-compute prediction for data without idf\n",
        "\n",
        "model_RFC =  RandomForestClassifier(n_estimators=100)\n",
        "model_RFC.fit(encoded_sst_train_data, sst_train_labels)\n",
        "\n",
        "#case of prediction using dev set\n",
        "dev_pred = model_RFC.predict(encoded_sst_dev_data)\n",
        "accuracies2['sst_dev_RFC'] =  metrics.accuracy_score(sst_dev_labels, dev_pred)\n",
        "\n",
        "#case of prediction using train set\n",
        "train_pred = model_RFC.predict(encoded_sst_train_data)\n",
        "accuracies2['sst_train_RFC'] =  metrics.accuracy_score(sst_train_labels, train_pred)\n",
        "\n",
        "# II)-compute prediction for data with idf\n",
        "model_RFC.fit(idf_encoded_sst_train_data, sst_train_labels)\n",
        "\n",
        "#case of prediction using dev set\n",
        "dev_pred = model_RFC.predict(idf_encoded_sst_dev_data)\n",
        "accuracies2['idf_sst_dev_RFC'] =  metrics.accuracy_score(sst_dev_labels, dev_pred)\n",
        "\n",
        "#case of prediction using train set\n",
        "train_pred = model_RFC.predict(idf_encoded_sst_train_data)\n",
        "accuracies2['idf_sst_train_RFC'] =  metrics.accuracy_score(sst_train_labels, train_pred)\n",
        "\n",
        "#here are new accuracies :\n",
        "accuracies2"
      ],
      "execution_count": 15,
      "outputs": [
        {
          "output_type": "execute_result",
          "data": {
            "text/plain": [
              "{'idf_sst_dev_RFC': 0.34877384196185285,\n",
              " 'idf_sst_train_RFC': 0.9985955056179775,\n",
              " 'sst_dev_RFC': 0.3533151680290645,\n",
              " 'sst_train_RFC': 0.9985955056179775}"
            ]
          },
          "metadata": {
            "tags": []
          },
          "execution_count": 15
        }
      ]
    },
    {
      "cell_type": "code",
      "metadata": {
        "id": "tAE3_H-sJl2v",
        "colab_type": "code",
        "colab": {}
      },
      "source": [
        "sst_test_predicted_rfc = model_RFC.predict(encoded_sst_test)\n",
        "np.savetxt('RandomForestC_bov_y_test_sst.txt', sst_test_predicted_rfc, fmt='%s') "
      ],
      "execution_count": 0,
      "outputs": []
    },
    {
      "cell_type": "markdown",
      "metadata": {
        "id": "T6BlEbsUxMML",
        "colab_type": "text"
      },
      "source": [
        "# 4) Sentence classification with LSTMs in Keras"
      ]
    },
    {
      "cell_type": "markdown",
      "metadata": {
        "id": "UkYE_zhhxMMN",
        "colab_type": "text"
      },
      "source": [
        "## 4.1 - Preprocessing"
      ]
    },
    {
      "cell_type": "code",
      "metadata": {
        "jupyter": {
          "outputs_hidden": false
        },
        "id": "wYLqSuj-xMMO",
        "colab_type": "code",
        "colab": {}
      },
      "source": [
        "#!pip install -U tensorflow\n",
        "#!pip install -U keras\n",
        "import tensorflow as tf"
      ],
      "execution_count": 0,
      "outputs": []
    },
    {
      "cell_type": "code",
      "metadata": {
        "id": "RbZP92uzxMMR",
        "colab_type": "code",
        "outputId": "b9205065-df5c-49f2-f61f-c52471981748",
        "colab": {
          "base_uri": "https://localhost:8080/",
          "height": 34
        }
      },
      "source": [
        "# 1 - Using the same dataset, transform text to integers using tf.keras.preprocessing.text.one_hot function\n",
        "#     https://keras.io/preprocessing/text/\n",
        "\n",
        "# TYPE CODE HERE\n",
        "from keras.preprocessing import text\n",
        "\n",
        "n= 50000\n",
        "\n",
        "sst_train_data_one_hot =[text.one_hot(w,n=50000) for w in sst_train_data]\n",
        "sst_dev_data_one_hot =[text.one_hot(w,n=50000) for w in sst_dev_data]\n",
        "sst_test_data_one_hot =[text.one_hot(w,n=50000) for w in sst_test]\n"
      ],
      "execution_count": 0,
      "outputs": [
        {
          "output_type": "stream",
          "text": [
            "Using TensorFlow backend.\n"
          ],
          "name": "stderr"
        }
      ]
    },
    {
      "cell_type": "markdown",
      "metadata": {
        "id": "vGW9EP88xMMV",
        "colab_type": "text"
      },
      "source": [
        "**Padding input data**\n",
        "\n",
        "Models in Keras (and elsewhere) take batches of sentences of the same length as input. It is because Deep Learning framework have been designed to handle well Tensors, which are particularly suited for fast computation on the GPU.\n",
        "\n",
        "Since sentences have different sizes, we \"pad\" them. That is, we add dummy \"padding\" tokens so that they all have the same length.\n",
        "\n",
        "The input to a Keras model thus has this size : (batchsize, maxseqlen) where maxseqlen is the maximum length of a sentence in the batch."
      ]
    },
    {
      "cell_type": "code",
      "metadata": {
        "id": "nyckxabkxMMW",
        "colab_type": "code",
        "colab": {}
      },
      "source": [
        "# 2 - Pad your sequences using tf.keras.preprocessing.sequence.pad_sequences\n",
        "#     https://keras.io/preprocessing/sequence/\n",
        "\n",
        "# TYPE CODE HERE\n",
        "from keras.preprocessing import sequence\n",
        "#tf.keras.preprocessing.sequence\n",
        "\n",
        "sst_train_data_one_hot_padded = sequence.pad_sequences(sst_train_data_one_hot)\n",
        "sst_dev_data_one_hot_padded = sequence.pad_sequences(sst_dev_data_one_hot)\n",
        "sst_test_data_one_hot_padded = sequence.pad_sequences(sst_test_data_one_hot)"
      ],
      "execution_count": 0,
      "outputs": []
    },
    {
      "cell_type": "markdown",
      "metadata": {
        "id": "dItsEpwTxMMZ",
        "colab_type": "text"
      },
      "source": [
        "## 4.2 - Design and train your model"
      ]
    },
    {
      "cell_type": "code",
      "metadata": {
        "id": "p6cqmSXoxMMa",
        "colab_type": "code",
        "colab": {}
      },
      "source": [
        "# 3 - Design your encoder + classifier using tensorflow.keras.layers\n",
        "#     In Keras, Torch and other deep learning framework, we create a \"container\" which is the Sequential() module.\n",
        "#     Then we add components to this container : the lookup-table, the LSTM, the classifier etc.\n",
        "#     All of these components are contained in the Sequential() and are trained together.\n",
        "#     Note that the embedding layer is initialized randomly and does not take advantage of pre-trained word embeddings.\n",
        "\n",
        "\n",
        "# ADAPT CODE BELOW\n",
        "\n",
        "\n",
        "from tensorflow.keras.models import Sequential\n",
        "from tensorflow.keras.layers import Embedding, LSTM, Dense, Activation\n",
        "\n",
        "embed_dim  = 300  # word embedding dimension\n",
        "nhid       = 80  # number of hidden units in the LSTM\n",
        "vocab_size = 50000  # size of the vocabulary\n",
        "n_classes  = 5\n",
        "\n",
        "#model = Sequential()\n",
        "#model.add(Embedding(vocab_size, embed_dim))\n",
        "#model.add(LSTM(nhid, dropout=0.3, recurrent_dropout=0.25))\n",
        "#model.add(Dense(n_classes, activation='sigmoid'))\n",
        "\n",
        "model = Sequential()\n",
        "model.add(Embedding(vocab_size, embed_dim))\n",
        "model.add(LSTM(nhid, dropout=0.3, recurrent_dropout=0.25))\n",
        "model.add(Dense(n_classes, activation='softmax'))"
      ],
      "execution_count": 0,
      "outputs": []
    },
    {
      "cell_type": "code",
      "metadata": {
        "jupyter": {
          "outputs_hidden": false
        },
        "id": "U-mNSgewxMMh",
        "colab_type": "code",
        "outputId": "d7b11875-df55-4d6d-bdfa-c39e262e0871",
        "colab": {
          "base_uri": "https://localhost:8080/",
          "height": 272
        }
      },
      "source": [
        "# 4 - Define your loss/optimizer/metrics\n",
        "\n",
        "# MODIFY CODE BELOW\n",
        "\n",
        "loss_classif     =  'sparse_categorical_crossentropy' \n",
        "optimizer        =  'rmsprop' #SGD(lr=0.01, momentum=0.9) \n",
        "\n",
        "metrics_classif  =  ['accuracy']\n",
        "\n",
        "# Observe how easy (but blackboxed) this is in Keras\n",
        "model.compile(loss=loss_classif,\n",
        "              optimizer=optimizer,\n",
        "              metrics=metrics_classif)\n",
        "print(model.summary())"
      ],
      "execution_count": 0,
      "outputs": [
        {
          "output_type": "stream",
          "text": [
            "Model: \"sequential\"\n",
            "_________________________________________________________________\n",
            "Layer (type)                 Output Shape              Param #   \n",
            "=================================================================\n",
            "embedding (Embedding)        (None, None, 300)         15000000  \n",
            "_________________________________________________________________\n",
            "lstm (LSTM)                  (None, 80)                121920    \n",
            "_________________________________________________________________\n",
            "dense (Dense)                (None, 5)                 405       \n",
            "=================================================================\n",
            "Total params: 15,122,325\n",
            "Trainable params: 15,122,325\n",
            "Non-trainable params: 0\n",
            "_________________________________________________________________\n",
            "None\n"
          ],
          "name": "stdout"
        }
      ]
    },
    {
      "cell_type": "code",
      "metadata": {
        "id": "WqpKnZQBxMMl",
        "colab_type": "code",
        "outputId": "cb5c872f-e10f-40ea-bac8-6650b013324a",
        "colab": {
          "base_uri": "https://localhost:8080/",
          "height": 933
        }
      },
      "source": [
        "# 5 - Train your model and find the best hyperparameters for your dev set\n",
        "#     you will be evaluated on the quality of your predictions on the test set\n",
        "#     Keras expects y_train and y_dev to be one-hot encodings of the labels, i.e. with shape=(n_samples, 5)\n",
        "\n",
        "\n",
        "# ADAPT CODE BELOW\n",
        "from keras.callbacks import ModelCheckpoint\n",
        "\n",
        "mcp1 = ModelCheckpoint('weights.best.hdf5', monitor=\"val_acc\",save_best_only=True, save_weights_only=False)\n",
        "\n",
        "\n",
        "bs = 64\n",
        "n_epochs = 8\n",
        "\n",
        "x_train = sst_train_data_one_hot_padded\n",
        "y_train = np.array(sst_train_labels).astype(int)\n",
        "x_dev = sst_dev_data_one_hot_padded\n",
        "y_dev = np.array(sst_dev_labels).astype(int)\n",
        "\n",
        "#y_train = to_categorical(sst_train_labels)\n",
        "#y_val = to_categorical(sst_dev_labels)\n",
        "\n",
        "want_train =True\n",
        "if want_train:\n",
        "    #history = model.fit(x_train, y_train, batch_size=bs, nb_epoch=n_epochs, validation_data=(x_dev, y_dev))\n",
        "    history = model.fit(x_train, y_train, batch_size=bs, nb_epoch=n_epochs, validation_data=(x_dev, y_dev), callbacks = [mcp1])\n",
        "\n",
        "#plotting\n",
        "\n",
        "# plotting accuracy vs epochs\n",
        "plt.plot(history.history['accuracy'])\n",
        "plt.plot(history.history['val_accuracy'])\n",
        "plt.title('LSTM model accuracy')\n",
        "plt.ylabel('accuracy')\n",
        "plt.xlabel('epoch')\n",
        "plt.legend(['train', 'test'], loc='upper left')\n",
        "plt.show()\n",
        "\n",
        "# plotting loss vs epochs\n",
        "plt.plot(history.history['loss'])\n",
        "plt.plot(history.history['val_loss'])\n",
        "plt.title('LSTM model loss')\n",
        "plt.ylabel('loss')\n",
        "plt.xlabel('epoch')\n",
        "plt.legend(['train', 'test'], loc='upper left')\n",
        "plt.show()"
      ],
      "execution_count": 0,
      "outputs": [
        {
          "output_type": "stream",
          "text": [
            "WARNING:tensorflow:The `nb_epoch` argument in `fit` has been renamed `epochs`.\n",
            "Train on 8544 samples, validate on 1101 samples\n",
            "Epoch 1/8\n",
            "8544/8544 [==============================] - 24s 3ms/sample - loss: 1.5407 - accuracy: 0.3173 - val_loss: 1.4655 - val_accuracy: 0.3660\n",
            "Epoch 2/8\n",
            "  64/8544 [..............................] - ETA: 18s - loss: 1.4007 - accuracy: 0.3438"
          ],
          "name": "stdout"
        },
        {
          "output_type": "stream",
          "text": [
            "/usr/local/lib/python3.6/dist-packages/keras/callbacks/callbacks.py:707: RuntimeWarning: Can save best model only with val_acc available, skipping.\n",
            "  'skipping.' % (self.monitor), RuntimeWarning)\n"
          ],
          "name": "stderr"
        },
        {
          "output_type": "stream",
          "text": [
            "8544/8544 [==============================] - 21s 2ms/sample - loss: 1.2967 - accuracy: 0.4478 - val_loss: 1.3651 - val_accuracy: 0.4078\n",
            "Epoch 3/8\n",
            "8544/8544 [==============================] - 19s 2ms/sample - loss: 1.0786 - accuracy: 0.5581 - val_loss: 1.4809 - val_accuracy: 0.3797\n",
            "Epoch 4/8\n",
            "8544/8544 [==============================] - 20s 2ms/sample - loss: 0.8832 - accuracy: 0.6566 - val_loss: 1.5074 - val_accuracy: 0.3833\n",
            "Epoch 5/8\n",
            "8544/8544 [==============================] - 19s 2ms/sample - loss: 0.7154 - accuracy: 0.7342 - val_loss: 1.6761 - val_accuracy: 0.3878\n",
            "Epoch 6/8\n",
            "8544/8544 [==============================] - 19s 2ms/sample - loss: 0.5741 - accuracy: 0.7944 - val_loss: 1.7992 - val_accuracy: 0.3887\n",
            "Epoch 7/8\n",
            "8544/8544 [==============================] - 20s 2ms/sample - loss: 0.4700 - accuracy: 0.8298 - val_loss: 1.9795 - val_accuracy: 0.3651\n",
            "Epoch 8/8\n",
            "8544/8544 [==============================] - 19s 2ms/sample - loss: 0.3815 - accuracy: 0.8633 - val_loss: 2.1903 - val_accuracy: 0.3733\n"
          ],
          "name": "stdout"
        },
        {
          "output_type": "display_data",
          "data": {
            "image/png": "[encoded data removed]",
            "text/plain": [
              "<Figure size 432x288 with 1 Axes>"
            ]
          },
          "metadata": {
            "tags": []
          }
        },
        {
          "output_type": "display_data",
          "data": {
            "image/png": "[encoded data removed]",
            "text/plain": [
              "<Figure size 432x288 with 1 Axes>"
            ]
          },
          "metadata": {
            "tags": []
          }
        }
      ]
    },
    {
      "cell_type": "code",
      "metadata": {
        "id": "tlScHjpyxMMq",
        "colab_type": "code",
        "colab": {}
      },
      "source": [
        "# 6 - Generate your predictions on the test set using model.predict(x_test)\n",
        "#     https://keras.io/models/model/\n",
        "#     Log your predictions in a file (one line = one integer: 0,1,2,3,4)\n",
        "#     Attach the output file \"logreg_lstm_y_test_sst.txt\" to your deliverable.\n",
        "\n",
        "# TYPE CODE HERE\n",
        "sst_test_LSTM_pred = model.predict_classes(sst_test_data_one_hot_padded)\n",
        "np.savetxt('logreg_lstm_y_test_sst.txt', sst_test_LSTM_pred, fmt='%s')"
      ],
      "execution_count": 0,
      "outputs": []
    },
    {
      "cell_type": "markdown",
      "metadata": {
        "id": "3WjZ38rHxMMu",
        "colab_type": "text"
      },
      "source": [
        "## 4.3 - innovate !"
      ]
    },
    {
      "cell_type": "code",
      "metadata": {
        "id": "oN0nJlAvq-D2",
        "colab_type": "code",
        "outputId": "4a674115-2958-47a4-da2f-19d0c70ffb5a",
        "colab": {
          "base_uri": "https://localhost:8080/",
          "height": 646
        }
      },
      "source": [
        "# 7 - Open question: find a model that is better on your dev set\n",
        "#     (e.g: use a 1D ConvNet, use a better classifier, pretrain your lookup tables ..)\n",
        "#     you will get point if the results on the test set are better: be careful of not overfitting your dev set too much..\n",
        "#     Attach the output file \"XXX_XXX_y_test_sst.txt\" to your deliverable.\n",
        "\n",
        "# TYPE CODE HERE\n",
        "\n",
        "#importation\n",
        "\n",
        "from keras.preprocessing.text import Tokenizer\n",
        "from keras.preprocessing.sequence import pad_sequences\n",
        "from keras.utils.np_utils import to_categorical\n",
        "from keras.preprocessing import text\n",
        "from keras.callbacks import ModelCheckpoint\n",
        "from keras.regularizers import l2\n",
        "from tensorflow.keras.models import Sequential\n",
        "from tensorflow.keras.layers import Embedding, LSTM, Dense, Activation, Conv1D, MaxPooling1D, Embedding, Dropout, Flatten, Bidirectional, Reshape, Conv2D, MaxPool2D\n",
        "\n",
        "#prepare data\n",
        "need_to_prepare_data = True\n",
        "\n",
        "if need_to_prepare_data:\n",
        "    unique_word = np.unique(sum([sent.split() for sent in sst_train_data + sst_dev_data + sst_test], []))\n",
        "    num_words = unique_word.shape[0]\n",
        "\n",
        "    tokenizer = text.Tokenizer(num_words = num_words)\n",
        "    tokenizer.fit_on_texts(sst_train_data + sst_dev_data + sst_test)\n",
        "\n",
        "    #X_train = pad_sequences(tokenizer.texts_to_sequences(sst_train_data), maxlen = 50)\n",
        "    #X_val = pad_sequences(tokenizer.texts_to_sequences(sst_dev_data), maxlen = 50)\n",
        "    #X_test = pad_sequences(tokenizer.texts_to_sequences(sst_test), maxlen = 50)\n",
        "\n",
        "    X_train = pad_sequences(tokenizer.texts_to_sequences(sst_train_data))\n",
        "    X_val = pad_sequences(tokenizer.texts_to_sequences(sst_dev_data))\n",
        "    X_test = pad_sequences(tokenizer.texts_to_sequences(sst_test))\n",
        "\n",
        "#create embeddings matrix\n",
        "need_to_build_embed_matrix = True\n",
        "\n",
        "if need_to_build_embed_matrix :\n",
        "    w2v = Word2Vec(wiki_news_path, vocab_size=2000000)\n",
        "    word_idx = tokenizer.word_index\n",
        "    my_num_words = len(word_idx) + 1\n",
        "    embed_mat = np.zeros((my_num_words, 300))\n",
        "\n",
        "    for word, i in word_idx.items():\n",
        "        if word in w2v.words:\n",
        "            embed_mat[i] = w2v.embeddings[w2v.word2id[word]]\n",
        "\n",
        "#define model\n",
        "def Bi_LSTM_model(n_classes = 5):\n",
        "\n",
        "    model = Sequential()\n",
        "    model.add(Embedding(my_num_words, 300, weights = [embed_mat]))\n",
        "    #model.add(Dropout(0.3))\n",
        "    model.add(Bidirectional(LSTM(300, return_sequences = True), merge_mode = 'sum'))\n",
        "    model.add(Conv1D(128, 5, activation='relu'))\n",
        "    model.add(MaxPooling1D(30))\n",
        "    model.add(Dense(n_classes, kernel_regularizer=l2(0.7e-1),activation='softmax'))\n",
        "    \n",
        "    return model\n",
        "#\n",
        "loss_classif     =  'sparse_categorical_crossentropy'\n",
        "optimizer        =  'adam'\n",
        "metrics_classif  =  ['accuracy']\n",
        "\n",
        "#\n",
        "bi_model = Bi_LSTM_model()\n",
        "\n",
        "print(bi_model.summary())\n",
        "\n",
        "bi_model.compile(loss = loss_classif,\n",
        "                  optimizer = optimizer,\n",
        "                  metrics = metrics_classif)\n",
        "\n",
        "need_to_train_bi_lstm_model = True\n",
        "if need_to_train_bi_lstm_model:\n",
        "    bs = 80\n",
        "    n_epochs = 4\n",
        "    \n",
        "    y_train = np.array(sst_train_labels).astype(int)\n",
        "    y_val = np.array(sst_dev_labels).astype(int)\n",
        "\n",
        "    checkpoint = ModelCheckpoint('model-{epoch:03d}.h5', verbose = 1, monitor = 'val_loss',save_best_only = True, mode = 'auto') \n",
        "    \n",
        "    history = bi_model.fit(X_train, y_train, batch_size = bs, epochs = n_epochs, validation_data = (X_val, y_val), callbacks = [checkpoint])"
      ],
      "execution_count": 0,
      "outputs": [
        {
          "output_type": "stream",
          "text": [
            "Loaded 999994 pretrained word vectors\n",
            "Model: \"sequential_4\"\n",
            "_________________________________________________________________\n",
            "Layer (type)                 Output Shape              Param #   \n",
            "=================================================================\n",
            "embedding_3 (Embedding)      (None, None, 300)         5352000   \n",
            "_________________________________________________________________\n",
            "bidirectional_2 (Bidirection (None, None, 300)         1442400   \n",
            "_________________________________________________________________\n",
            "conv1d_2 (Conv1D)            (None, None, 128)         192128    \n",
            "_________________________________________________________________\n",
            "max_pooling1d_2 (MaxPooling1 (None, None, 128)         0         \n",
            "_________________________________________________________________\n",
            "dense_3 (Dense)              (None, None, 5)           645       \n",
            "=================================================================\n",
            "Total params: 6,987,173\n",
            "Trainable params: 6,987,173\n",
            "Non-trainable params: 0\n",
            "_________________________________________________________________\n",
            "None\n",
            "Train on 8544 samples, validate on 1101 samples\n",
            "Epoch 1/4\n",
            "8480/8544 [============================>.] - ETA: 0s - loss: 1.7651 - accuracy: 0.3606\n",
            "Epoch 00001: val_loss improved from inf to 1.43683, saving model to model-001.h5\n",
            "8544/8544 [==============================] - 15s 2ms/sample - loss: 1.7629 - accuracy: 0.3606 - val_loss: 1.4368 - val_accuracy: 0.4169\n",
            "Epoch 2/4\n",
            "8480/8544 [============================>.] - ETA: 0s - loss: 1.2357 - accuracy: 0.4876\n",
            "Epoch 00002: val_loss improved from 1.43683 to 1.35545, saving model to model-002.h5\n",
            "8544/8544 [==============================] - 11s 1ms/sample - loss: 1.2348 - accuracy: 0.4886 - val_loss: 1.3555 - val_accuracy: 0.4360\n",
            "Epoch 3/4\n",
            "8480/8544 [============================>.] - ETA: 0s - loss: 0.9394 - accuracy: 0.6164\n",
            "Epoch 00003: val_loss did not improve from 1.35545\n",
            "8544/8544 [==============================] - 9s 1ms/sample - loss: 0.9390 - accuracy: 0.6166 - val_loss: 1.4956 - val_accuracy: 0.4105\n",
            "Epoch 4/4\n",
            "8480/8544 [============================>.] - ETA: 0s - loss: 0.7073 - accuracy: 0.7309\n",
            "Epoch 00004: val_loss did not improve from 1.35545\n",
            "8544/8544 [==============================] - 9s 1ms/sample - loss: 0.7078 - accuracy: 0.7305 - val_loss: 1.8617 - val_accuracy: 0.3951\n"
          ],
          "name": "stdout"
        }
      ]
    },
    {
      "cell_type": "code",
      "metadata": {
        "id": "lhHZrksrFreM",
        "colab_type": "code",
        "colab": {}
      },
      "source": [
        "#prediction on test set:\n",
        "bi_model.load_weights(\"model-002.h5\")\n",
        "sst_test_bidirect_LSTM_pred = bi_model.predict_classes(X_test)\n",
        "np.savetxt('bidirectional_lstm_y_test_sst.txt', sst_test_bidirect_LSTM_pred, fmt='%s')"
      ],
      "execution_count": 0,
      "outputs": []
    }
  ]
}